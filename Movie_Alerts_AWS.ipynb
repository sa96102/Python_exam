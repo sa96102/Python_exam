{
  "nbformat": 4,
  "nbformat_minor": 0,
  "metadata": {
    "colab": {
      "name": "Movie_Alerts_AWS.ipynb",
      "provenance": [],
      "collapsed_sections": [],
      "authorship_tag": "ABX9TyN6NcgvX9l830MUxn+du38O",
      "include_colab_link": true
    },
    "kernelspec": {
      "name": "python3",
      "display_name": "Python 3"
    }
  },
  "cells": [
    {
      "cell_type": "markdown",
      "metadata": {
        "id": "view-in-github",
        "colab_type": "text"
      },
      "source": [
        "<a href=\"https://colab.research.google.com/github/sa96102/Python_exam/blob/master/Movie_Alerts_AWS.ipynb\" target=\"_parent\"><img src=\"https://colab.research.google.com/assets/colab-badge.svg\" alt=\"Open In Colab\"/></a>"
      ]
    },
    {
      "cell_type": "code",
      "metadata": {
        "id": "o7S9d-StTyZN",
        "colab_type": "code",
        "outputId": "256dbfaf-6794-4b53-b705-9d871bfe11be",
        "colab": {
          "base_uri": "https://localhost:8080/",
          "height": 917
        }
      },
      "source": [
        "# !pip install bs4 requests\n",
        "# !pip install python-telegram-bot\n",
        "# !pip install apscheduler"
      ],
      "execution_count": 0,
      "outputs": [
        {
          "output_type": "stream",
          "text": [
            "Requirement already satisfied: bs4 in /usr/local/lib/python3.6/dist-packages (0.0.1)\n",
            "Requirement already satisfied: requests in /usr/local/lib/python3.6/dist-packages (2.21.0)\n",
            "Requirement already satisfied: beautifulsoup4 in /usr/local/lib/python3.6/dist-packages (from bs4) (4.6.3)\n",
            "Requirement already satisfied: chardet<3.1.0,>=3.0.2 in /usr/local/lib/python3.6/dist-packages (from requests) (3.0.4)\n",
            "Requirement already satisfied: idna<2.9,>=2.5 in /usr/local/lib/python3.6/dist-packages (from requests) (2.8)\n",
            "Requirement already satisfied: certifi>=2017.4.17 in /usr/local/lib/python3.6/dist-packages (from requests) (2019.11.28)\n",
            "Requirement already satisfied: urllib3<1.25,>=1.21.1 in /usr/local/lib/python3.6/dist-packages (from requests) (1.24.3)\n",
            "Collecting python-telegram-bot\n",
            "\u001b[?25l  Downloading https://files.pythonhosted.org/packages/16/5f/ab10cfacd6dba5deb7b7c3a78ddb23ae4404d6c6eb8b3c3e121668d4bf94/python_telegram_bot-12.4.2-py2.py3-none-any.whl (360kB)\n",
            "\u001b[K     |████████████████████████████████| 368kB 2.8MB/s \n",
            "\u001b[?25hRequirement already satisfied: future>=0.16.0 in /usr/local/lib/python3.6/dist-packages (from python-telegram-bot) (0.16.0)\n",
            "Collecting cryptography\n",
            "\u001b[?25l  Downloading https://files.pythonhosted.org/packages/ca/9a/7cece52c46546e214e10811b36b2da52ce1ea7fa203203a629b8dfadad53/cryptography-2.8-cp34-abi3-manylinux2010_x86_64.whl (2.3MB)\n",
            "\u001b[K     |████████████████████████████████| 2.3MB 12.0MB/s \n",
            "\u001b[?25hRequirement already satisfied: decorator>=4.4.0 in /usr/local/lib/python3.6/dist-packages (from python-telegram-bot) (4.4.1)\n",
            "Requirement already satisfied: certifi in /usr/local/lib/python3.6/dist-packages (from python-telegram-bot) (2019.11.28)\n",
            "Collecting tornado>=5.1\n",
            "\u001b[?25l  Downloading https://files.pythonhosted.org/packages/95/84/119a46d494f008969bf0c775cb2c6b3579d3c4cc1bb1b41a022aa93ee242/tornado-6.0.4.tar.gz (496kB)\n",
            "\u001b[K     |████████████████████████████████| 501kB 25.1MB/s \n",
            "\u001b[?25hRequirement already satisfied: cffi!=1.11.3,>=1.8 in /usr/local/lib/python3.6/dist-packages (from cryptography->python-telegram-bot) (1.14.0)\n",
            "Requirement already satisfied: six>=1.4.1 in /usr/local/lib/python3.6/dist-packages (from cryptography->python-telegram-bot) (1.12.0)\n",
            "Requirement already satisfied: pycparser in /usr/local/lib/python3.6/dist-packages (from cffi!=1.11.3,>=1.8->cryptography->python-telegram-bot) (2.19)\n",
            "Building wheels for collected packages: tornado\n",
            "  Building wheel for tornado (setup.py) ... \u001b[?25l\u001b[?25hdone\n",
            "  Created wheel for tornado: filename=tornado-6.0.4-cp36-cp36m-linux_x86_64.whl size=427635 sha256=1893f8bd17784422060ecf80bda851482ad00b19f0e30882a7f5223127cc37d1\n",
            "  Stored in directory: /root/.cache/pip/wheels/93/84/2f/409c7b2bb3afc3aa727f7ee8787975e0793f74d1165f4d0104\n",
            "Successfully built tornado\n",
            "\u001b[31mERROR: google-colab 1.0.0 has requirement tornado~=4.5.0, but you'll have tornado 6.0.4 which is incompatible.\u001b[0m\n",
            "Installing collected packages: cryptography, tornado, python-telegram-bot\n",
            "  Found existing installation: tornado 4.5.3\n",
            "    Uninstalling tornado-4.5.3:\n",
            "      Successfully uninstalled tornado-4.5.3\n",
            "Successfully installed cryptography-2.8 python-telegram-bot-12.4.2 tornado-6.0.4\n"
          ],
          "name": "stdout"
        },
        {
          "output_type": "display_data",
          "data": {
            "application/vnd.colab-display-data+json": {
              "pip_warning": {
                "packages": [
                  "tornado"
                ]
              }
            }
          },
          "metadata": {
            "tags": []
          }
        },
        {
          "output_type": "stream",
          "text": [
            "Collecting apscheduler\n",
            "\u001b[?25l  Downloading https://files.pythonhosted.org/packages/f3/34/9ef20ed473c4fd2c3df54ef77a27ae3fc7500b16b192add4720cab8b2c09/APScheduler-3.6.3-py2.py3-none-any.whl (58kB)\n",
            "\r\u001b[K     |█████▋                          | 10kB 20.6MB/s eta 0:00:01\r\u001b[K     |███████████▏                    | 20kB 1.6MB/s eta 0:00:01\r\u001b[K     |████████████████▊               | 30kB 1.9MB/s eta 0:00:01\r\u001b[K     |██████████████████████▎         | 40kB 1.6MB/s eta 0:00:01\r\u001b[K     |███████████████████████████▉    | 51kB 1.9MB/s eta 0:00:01\r\u001b[K     |████████████████████████████████| 61kB 1.9MB/s \n",
            "\u001b[?25hRequirement already satisfied: setuptools>=0.7 in /usr/local/lib/python3.6/dist-packages (from apscheduler) (45.2.0)\n",
            "Requirement already satisfied: six>=1.4.0 in /usr/local/lib/python3.6/dist-packages (from apscheduler) (1.12.0)\n",
            "Requirement already satisfied: pytz in /usr/local/lib/python3.6/dist-packages (from apscheduler) (2018.9)\n",
            "Requirement already satisfied: tzlocal>=1.2 in /usr/local/lib/python3.6/dist-packages (from apscheduler) (1.5.1)\n",
            "Installing collected packages: apscheduler\n",
            "Successfully installed apscheduler-3.6.3\n"
          ],
          "name": "stdout"
        }
      ]
    },
    {
      "cell_type": "code",
      "metadata": {
        "id": "Wdo-ZPqjTvzg",
        "colab_type": "code",
        "colab": {}
      },
      "source": [
        "import requests\n",
        "import telegram\n",
        "from bs4 import BeautifulSoup\n",
        "from apscheduler.schedulers.blocking import BlockingScheduler"
      ],
      "execution_count": 0,
      "outputs": []
    },
    {
      "cell_type": "code",
      "metadata": {
        "id": "aiNhjLifT1pP",
        "colab_type": "code",
        "colab": {}
      },
      "source": [
        "bot = telegram.Bot(token = '1111747082:AAFbM5-i7T6GC4SLO91V5yBuOSYQJUUDltQ')\n",
        "url = 'http://www.cgv.co.kr/common/showtimes/iframeTheater.aspx?areacode=01&theatercode=0013&date=20200315' \n",
        "# html = requests.get(url)\n",
        "# print(html.text)"
      ],
      "execution_count": 0,
      "outputs": []
    },
    {
      "cell_type": "code",
      "metadata": {
        "id": "ROCl8SZsT3is",
        "colab_type": "code",
        "colab": {}
      },
      "source": [
        "def job_function():\n",
        "    html = requests.get(url)\n",
        "    soup = BeautifulSoup(html.text, 'html.parser')\n",
        "    # print(soup.select_one('body > div > div.sect-showtimes > ul > li:nth-child(1) > div > div.info-movie > a > strong'))\n",
        "    imax = soup.select_one('span.imax')\n",
        "    # print(soup.select_one('span.imax'))\n",
        "    if(imax):\n",
        "        imax = imax.find_parent('div', class_='col-times')\n",
        "        title = imax.select_one('div.info-movie > a > strong').text.strip()\n",
        "        # print(imax.select_one('div.info-movie > a > strong').text.strip())\n",
        "        # print(title + ' IMAX 예매가 열렸습니다.')\n",
        "        bot.sendMessage(chat_id = 163687524, text = title + ' IMAX 예매가 열렸습니다.')\n",
        "        sched.pause()\n",
        "    # else:\n",
        "    #     bot.sendMessage(chat_id = 163687524, text = 'IMAX 예매가 아직 열리지 않았습니다.')"
      ],
      "execution_count": 0,
      "outputs": []
    },
    {
      "cell_type": "code",
      "metadata": {
        "id": "PpybkIjwT55-",
        "colab_type": "code",
        "colab": {}
      },
      "source": [
        "sched = BlockingScheduler()\n",
        "sched.add_job(job_function, 'interval', seconds=30)\n",
        "sched.start()"
      ],
      "execution_count": 0,
      "outputs": []
    }
  ]
}