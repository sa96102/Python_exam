{
  "nbformat": 4,
  "nbformat_minor": 0,
  "metadata": {
    "colab": {
      "name": "Stock_LSTM_practice.ipynb",
      "provenance": [],
      "collapsed_sections": [],
      "authorship_tag": "ABX9TyMsy9QQ8UUOs9BGafQcXkh6",
      "include_colab_link": true
    },
    "kernelspec": {
      "name": "python3",
      "display_name": "Python 3"
    }
  },
  "cells": [
    {
      "cell_type": "markdown",
      "metadata": {
        "id": "view-in-github",
        "colab_type": "text"
      },
      "source": [
        "<a href=\"https://colab.research.google.com/github/sa96102/Python_exam/blob/master/Stock_LSTM_practice.ipynb\" target=\"_parent\"><img src=\"https://colab.research.google.com/assets/colab-badge.svg\" alt=\"Open In Colab\"/></a>"
      ]
    },
    {
      "cell_type": "code",
      "metadata": {
        "id": "RQA72pkAHi5x",
        "colab_type": "code",
        "colab": {
          "base_uri": "https://localhost:8080/",
          "height": 127
        },
        "outputId": "fca3e8fe-9da2-46c9-eece-821fa37c30e0"
      },
      "source": [
        "from google.colab import drive\n",
        "drive.mount('/content/drive')"
      ],
      "execution_count": 1,
      "outputs": [
        {
          "output_type": "stream",
          "text": [
            "Go to this URL in a browser: https://accounts.google.com/o/oauth2/auth?client_id=947318989803-6bn6qk8qdgf4n4g3pfee6491hc0brc4i.apps.googleusercontent.com&redirect_uri=urn%3aietf%3awg%3aoauth%3a2.0%3aoob&response_type=code&scope=email%20https%3a%2f%2fwww.googleapis.com%2fauth%2fdocs.test%20https%3a%2f%2fwww.googleapis.com%2fauth%2fdrive%20https%3a%2f%2fwww.googleapis.com%2fauth%2fdrive.photos.readonly%20https%3a%2f%2fwww.googleapis.com%2fauth%2fpeopleapi.readonly\n",
            "\n",
            "Enter your authorization code:\n",
            "··········\n",
            "Mounted at /content/drive\n"
          ],
          "name": "stdout"
        }
      ]
    },
    {
      "cell_type": "code",
      "metadata": {
        "id": "Pk0GvpdEFqOw",
        "colab_type": "code",
        "colab": {
          "base_uri": "https://localhost:8080/",
          "height": 99
        },
        "outputId": "c8bd0a9a-904e-4076-854e-28644caf4159"
      },
      "source": [
        "import pandas as pd\n",
        "import numpy as np\n",
        "import matplotlib.pyplot as plt\n",
        "from keras.models import Sequential\n",
        "from keras.layers import LSTM, Dropout, Dense, Activation\n",
        "import datetime"
      ],
      "execution_count": 2,
      "outputs": [
        {
          "output_type": "stream",
          "text": [
            "Using TensorFlow backend.\n"
          ],
          "name": "stderr"
        },
        {
          "output_type": "display_data",
          "data": {
            "text/html": [
              "<p style=\"color: red;\">\n",
              "The default version of TensorFlow in Colab will soon switch to TensorFlow 2.x.<br>\n",
              "We recommend you <a href=\"https://www.tensorflow.org/guide/migrate\" target=\"_blank\">upgrade</a> now \n",
              "or ensure your notebook will continue to use TensorFlow 1.x via the <code>%tensorflow_version 1.x</code> magic:\n",
              "<a href=\"https://colab.research.google.com/notebooks/tensorflow_version.ipynb\" target=\"_blank\">more info</a>.</p>\n"
            ],
            "text/plain": [
              "<IPython.core.display.HTML object>"
            ]
          },
          "metadata": {
            "tags": []
          }
        }
      ]
    },
    {
      "cell_type": "markdown",
      "metadata": {
        "id": "3MSSCgmBIiRr",
        "colab_type": "text"
      },
      "source": [
        "#Samsung Electronics Stock"
      ]
    },
    {
      "cell_type": "markdown",
      "metadata": {
        "id": "3YQzyt3gIB9v",
        "colab_type": "text"
      },
      "source": [
        "### Load Dataset"
      ]
    },
    {
      "cell_type": "code",
      "metadata": {
        "id": "PhR1MeyRIAfE",
        "colab_type": "code",
        "colab": {
          "base_uri": "https://localhost:8080/",
          "height": 204
        },
        "outputId": "7cf06db8-34eb-4986-f634-fdfa3bb8a1b8"
      },
      "source": [
        "data = pd.read_csv('/content/drive/My Drive/Colab Notebooks/Python_exam/Data/005930.KS.csv')\n",
        "data.head()\n",
        "# print(data)"
      ],
      "execution_count": 3,
      "outputs": [
        {
          "output_type": "execute_result",
          "data": {
            "text/html": [
              "<div>\n",
              "<style scoped>\n",
              "    .dataframe tbody tr th:only-of-type {\n",
              "        vertical-align: middle;\n",
              "    }\n",
              "\n",
              "    .dataframe tbody tr th {\n",
              "        vertical-align: top;\n",
              "    }\n",
              "\n",
              "    .dataframe thead th {\n",
              "        text-align: right;\n",
              "    }\n",
              "</style>\n",
              "<table border=\"1\" class=\"dataframe\">\n",
              "  <thead>\n",
              "    <tr style=\"text-align: right;\">\n",
              "      <th></th>\n",
              "      <th>Date</th>\n",
              "      <th>Open</th>\n",
              "      <th>High</th>\n",
              "      <th>Low</th>\n",
              "      <th>Close</th>\n",
              "      <th>Adj Close</th>\n",
              "      <th>Volume</th>\n",
              "    </tr>\n",
              "  </thead>\n",
              "  <tbody>\n",
              "    <tr>\n",
              "      <th>0</th>\n",
              "      <td>2015-03-18</td>\n",
              "      <td>29920.0</td>\n",
              "      <td>30120.0</td>\n",
              "      <td>29720.0</td>\n",
              "      <td>30060.0</td>\n",
              "      <td>291.512238</td>\n",
              "      <td>12464350.0</td>\n",
              "    </tr>\n",
              "    <tr>\n",
              "      <th>1</th>\n",
              "      <td>2015-03-19</td>\n",
              "      <td>30200.0</td>\n",
              "      <td>30200.0</td>\n",
              "      <td>29400.0</td>\n",
              "      <td>29400.0</td>\n",
              "      <td>285.111786</td>\n",
              "      <td>13225800.0</td>\n",
              "    </tr>\n",
              "    <tr>\n",
              "      <th>2</th>\n",
              "      <td>2015-03-20</td>\n",
              "      <td>29500.0</td>\n",
              "      <td>29600.0</td>\n",
              "      <td>29200.0</td>\n",
              "      <td>29280.0</td>\n",
              "      <td>283.948120</td>\n",
              "      <td>12704950.0</td>\n",
              "    </tr>\n",
              "    <tr>\n",
              "      <th>3</th>\n",
              "      <td>2015-03-23</td>\n",
              "      <td>29240.0</td>\n",
              "      <td>29480.0</td>\n",
              "      <td>29160.0</td>\n",
              "      <td>29340.0</td>\n",
              "      <td>284.529907</td>\n",
              "      <td>8122900.0</td>\n",
              "    </tr>\n",
              "    <tr>\n",
              "      <th>4</th>\n",
              "      <td>2015-03-24</td>\n",
              "      <td>29100.0</td>\n",
              "      <td>29560.0</td>\n",
              "      <td>29100.0</td>\n",
              "      <td>29520.0</td>\n",
              "      <td>286.275543</td>\n",
              "      <td>9113150.0</td>\n",
              "    </tr>\n",
              "  </tbody>\n",
              "</table>\n",
              "</div>"
            ],
            "text/plain": [
              "         Date     Open     High      Low    Close   Adj Close      Volume\n",
              "0  2015-03-18  29920.0  30120.0  29720.0  30060.0  291.512238  12464350.0\n",
              "1  2015-03-19  30200.0  30200.0  29400.0  29400.0  285.111786  13225800.0\n",
              "2  2015-03-20  29500.0  29600.0  29200.0  29280.0  283.948120  12704950.0\n",
              "3  2015-03-23  29240.0  29480.0  29160.0  29340.0  284.529907   8122900.0\n",
              "4  2015-03-24  29100.0  29560.0  29100.0  29520.0  286.275543   9113150.0"
            ]
          },
          "metadata": {
            "tags": []
          },
          "execution_count": 3
        }
      ]
    },
    {
      "cell_type": "markdown",
      "metadata": {
        "id": "-is5JR25SouN",
        "colab_type": "text"
      },
      "source": [
        "### Drop Null"
      ]
    },
    {
      "cell_type": "code",
      "metadata": {
        "id": "Z6gdusDRSohE",
        "colab_type": "code",
        "colab": {
          "base_uri": "https://localhost:8080/",
          "height": 269
        },
        "outputId": "ffd6269a-c24c-4aa6-9789-8f16f09b03d1"
      },
      "source": [
        "data= data.dropna()\n",
        "print(data)"
      ],
      "execution_count": 4,
      "outputs": [
        {
          "output_type": "stream",
          "text": [
            "            Date     Open     High      Low    Close     Adj Close      Volume\n",
            "0     2015-03-18  29920.0  30120.0  29720.0  30060.0    291.512238  12464350.0\n",
            "1     2015-03-19  30200.0  30200.0  29400.0  29400.0    285.111786  13225800.0\n",
            "2     2015-03-20  29500.0  29600.0  29200.0  29280.0    283.948120  12704950.0\n",
            "3     2015-03-23  29240.0  29480.0  29160.0  29340.0    284.529907   8122900.0\n",
            "4     2015-03-24  29100.0  29560.0  29100.0  29520.0    286.275543   9113150.0\n",
            "...          ...      ...      ...      ...      ...           ...         ...\n",
            "1221  2020-03-09  56500.0  56500.0  56500.0  56500.0  56500.000000         0.0\n",
            "1222  2020-03-10  53800.0  54900.0  53700.0  54600.0  54600.000000  32106554.0\n",
            "1223  2020-03-11  54300.0  54400.0  52000.0  52100.0  52100.000000  45707281.0\n",
            "1224  2020-03-12  52100.0  52100.0  52100.0  52100.0  52100.000000         0.0\n",
            "1228  2020-03-18  47750.0  48350.0  47200.0  47550.0  47550.000000  25523340.0\n",
            "\n",
            "[1221 rows x 7 columns]\n"
          ],
          "name": "stdout"
        }
      ]
    },
    {
      "cell_type": "markdown",
      "metadata": {
        "id": "-YnjZCoNIeVc",
        "colab_type": "text"
      },
      "source": [
        "### Compute Mid Price"
      ]
    },
    {
      "cell_type": "code",
      "metadata": {
        "id": "MWYkpHvrIQFL",
        "colab_type": "code",
        "colab": {}
      },
      "source": [
        "high_prices = data['High'].values\n",
        "low_prices = data['Low'].values\n",
        "mid_prices = (high_prices + low_prices) / 2"
      ],
      "execution_count": 0,
      "outputs": []
    },
    {
      "cell_type": "markdown",
      "metadata": {
        "id": "PlWytb5hI9SI",
        "colab_type": "text"
      },
      "source": [
        "### Create Windows"
      ]
    },
    {
      "cell_type": "code",
      "metadata": {
        "id": "neus8VdkI6vc",
        "colab_type": "code",
        "colab": {}
      },
      "source": [
        "seq_len = 50 # windows size.\n",
        "sequence_length = seq_len + 1 # 앞의 50개를 확인하고 뒤의 1개를 예측함. 따라서 windows에 들어가는 데이터 개수는 총 51개.\n",
        "\n",
        "result = []\n",
        "for index in range(len(mid_prices) - sequence_length):\n",
        "    result.append(mid_prices[index: index + sequence_length]) # for문을 통해 result라는 리스트에 51개씩 1 step씩 넘어가며 저장."
      ],
      "execution_count": 0,
      "outputs": []
    },
    {
      "cell_type": "markdown",
      "metadata": {
        "id": "LmSO6pobKaUN",
        "colab_type": "text"
      },
      "source": [
        "### Normlize Data"
      ]
    },
    {
      "cell_type": "code",
      "metadata": {
        "id": "vivsUKz7JUyS",
        "colab_type": "code",
        "colab": {
          "base_uri": "https://localhost:8080/",
          "height": 35
        },
        "outputId": "8736c87b-cf2d-44f8-8baa-4d62ed1002cc"
      },
      "source": [
        "normalized_data = [] # 모델이 좀 더 예측하기 쉽도록 정규화.\n",
        "for window in result:\n",
        "    normalized_window = [((float(p)/float(window[0])) - 1) for p in window]\n",
        "    normalized_data.append(normalized_window)\n",
        "\n",
        "result = np.array(normalized_data)\n",
        "\n",
        "# split train and test data\n",
        "row = int(round(result.shape[0] * 0.9)) # training set을 90% 사용, test set을 10% 사용.\n",
        "train = result[:row, :]\n",
        "np.random.shuffle(train)\n",
        "\n",
        "x_train = train[:, :-1]\n",
        "x_train = np.reshape(x_train, (x_train.shape[0], x_train.shape[1], 1))\n",
        "y_train = train[:, -1]\n",
        "\n",
        "x_test = result[row:, :-1]\n",
        "x_test = np.reshape(x_test, (x_test.shape[0], x_test.shape[1], 1))\n",
        "y_test = result[row:, -1]\n",
        "\n",
        "x_train.shape, x_test.shape"
      ],
      "execution_count": 7,
      "outputs": [
        {
          "output_type": "execute_result",
          "data": {
            "text/plain": [
              "((1053, 50, 1), (117, 50, 1))"
            ]
          },
          "metadata": {
            "tags": []
          },
          "execution_count": 7
        }
      ]
    },
    {
      "cell_type": "markdown",
      "metadata": {
        "id": "ztcb8rSNOfm6",
        "colab_type": "text"
      },
      "source": [
        "### Build a Model"
      ]
    },
    {
      "cell_type": "code",
      "metadata": {
        "id": "FaVV5WlYOcj7",
        "colab_type": "code",
        "colab": {
          "base_uri": "https://localhost:8080/",
          "height": 433
        },
        "outputId": "c61bba66-f215-4f46-acad-cbf95f3dea5a"
      },
      "source": [
        "model = Sequential() # keras.models.Sequential()_모델을 순차적으로 정의하는 클래스.\n",
        "\n",
        "model.add(LSTM(50, return_sequences=True, input_shape=(50, 1))) # model.add_모델에 레이어를 추가. input은 50개. 유닛 수는 50.\n",
        "# keras.layers.LSTM()_LSTM 레이어.\n",
        "\n",
        "model.add(LSTM(64, return_sequences=False)) # 유닛 수는 64. 조절.\n",
        "\n",
        "model.add(Dense(1, activation='linear')) # 다음 날 하루의 데이터를 예측.\n",
        "# keras.layers.Dense()_Fully connected layer.\n",
        "\n",
        "model.compile(loss='mse', optimizer='rmsprop') # loss function은 Mean Squared Error.\n",
        "\n",
        "model.summary() # 모델의 개요를 출력."
      ],
      "execution_count": 8,
      "outputs": [
        {
          "output_type": "stream",
          "text": [
            "WARNING:tensorflow:From /usr/local/lib/python3.6/dist-packages/keras/backend/tensorflow_backend.py:66: The name tf.get_default_graph is deprecated. Please use tf.compat.v1.get_default_graph instead.\n",
            "\n",
            "WARNING:tensorflow:From /usr/local/lib/python3.6/dist-packages/keras/backend/tensorflow_backend.py:541: The name tf.placeholder is deprecated. Please use tf.compat.v1.placeholder instead.\n",
            "\n",
            "WARNING:tensorflow:From /usr/local/lib/python3.6/dist-packages/keras/backend/tensorflow_backend.py:4432: The name tf.random_uniform is deprecated. Please use tf.random.uniform instead.\n",
            "\n",
            "WARNING:tensorflow:From /usr/local/lib/python3.6/dist-packages/keras/optimizers.py:793: The name tf.train.Optimizer is deprecated. Please use tf.compat.v1.train.Optimizer instead.\n",
            "\n",
            "Model: \"sequential_1\"\n",
            "_________________________________________________________________\n",
            "Layer (type)                 Output Shape              Param #   \n",
            "=================================================================\n",
            "lstm_1 (LSTM)                (None, 50, 50)            10400     \n",
            "_________________________________________________________________\n",
            "lstm_2 (LSTM)                (None, 64)                29440     \n",
            "_________________________________________________________________\n",
            "dense_1 (Dense)              (None, 1)                 65        \n",
            "=================================================================\n",
            "Total params: 39,905\n",
            "Trainable params: 39,905\n",
            "Non-trainable params: 0\n",
            "_________________________________________________________________\n"
          ],
          "name": "stdout"
        }
      ]
    },
    {
      "cell_type": "markdown",
      "metadata": {
        "id": "0eBOMXN_QAeQ",
        "colab_type": "text"
      },
      "source": [
        "### Training"
      ]
    },
    {
      "cell_type": "code",
      "metadata": {
        "id": "DfpibDVEP68s",
        "colab_type": "code",
        "colab": {
          "base_uri": "https://localhost:8080/",
          "height": 1000
        },
        "outputId": "5cbc4ef4-b48f-4d0b-adca-9c80539e2f0c"
      },
      "source": [
        "model.fit(x_train, y_train, validation_data=(x_test, y_test),batch_size=10, epochs=20)"
      ],
      "execution_count": 9,
      "outputs": [
        {
          "output_type": "stream",
          "text": [
            "WARNING:tensorflow:From /tensorflow-1.15.0/python3.6/tensorflow_core/python/ops/math_grad.py:1424: where (from tensorflow.python.ops.array_ops) is deprecated and will be removed in a future version.\n",
            "Instructions for updating:\n",
            "Use tf.where in 2.0, which has the same broadcast rule as np.where\n",
            "WARNING:tensorflow:From /usr/local/lib/python3.6/dist-packages/keras/backend/tensorflow_backend.py:1033: The name tf.assign_add is deprecated. Please use tf.compat.v1.assign_add instead.\n",
            "\n",
            "WARNING:tensorflow:From /usr/local/lib/python3.6/dist-packages/keras/backend/tensorflow_backend.py:1020: The name tf.assign is deprecated. Please use tf.compat.v1.assign instead.\n",
            "\n",
            "WARNING:tensorflow:From /usr/local/lib/python3.6/dist-packages/keras/backend/tensorflow_backend.py:3005: The name tf.Session is deprecated. Please use tf.compat.v1.Session instead.\n",
            "\n",
            "Train on 1053 samples, validate on 117 samples\n",
            "Epoch 1/20\n",
            "WARNING:tensorflow:From /usr/local/lib/python3.6/dist-packages/keras/backend/tensorflow_backend.py:190: The name tf.get_default_session is deprecated. Please use tf.compat.v1.get_default_session instead.\n",
            "\n",
            "WARNING:tensorflow:From /usr/local/lib/python3.6/dist-packages/keras/backend/tensorflow_backend.py:197: The name tf.ConfigProto is deprecated. Please use tf.compat.v1.ConfigProto instead.\n",
            "\n",
            "WARNING:tensorflow:From /usr/local/lib/python3.6/dist-packages/keras/backend/tensorflow_backend.py:207: The name tf.global_variables is deprecated. Please use tf.compat.v1.global_variables instead.\n",
            "\n",
            "WARNING:tensorflow:From /usr/local/lib/python3.6/dist-packages/keras/backend/tensorflow_backend.py:216: The name tf.is_variable_initialized is deprecated. Please use tf.compat.v1.is_variable_initialized instead.\n",
            "\n",
            "WARNING:tensorflow:From /usr/local/lib/python3.6/dist-packages/keras/backend/tensorflow_backend.py:223: The name tf.variables_initializer is deprecated. Please use tf.compat.v1.variables_initializer instead.\n",
            "\n",
            "1053/1053 [==============================] - 8s 7ms/step - loss: 0.0013 - val_loss: 0.0016\n",
            "Epoch 2/20\n",
            "1053/1053 [==============================] - 6s 6ms/step - loss: 6.8570e-04 - val_loss: 0.0011\n",
            "Epoch 3/20\n",
            "1053/1053 [==============================] - 7s 6ms/step - loss: 5.2196e-04 - val_loss: 0.0014\n",
            "Epoch 4/20\n",
            "1053/1053 [==============================] - 7s 7ms/step - loss: 4.0584e-04 - val_loss: 3.8806e-04\n",
            "Epoch 5/20\n",
            "1053/1053 [==============================] - 7s 6ms/step - loss: 3.2100e-04 - val_loss: 3.3669e-04\n",
            "Epoch 6/20\n",
            "1053/1053 [==============================] - 7s 6ms/step - loss: 2.6941e-04 - val_loss: 2.9353e-04\n",
            "Epoch 7/20\n",
            "1053/1053 [==============================] - 7s 6ms/step - loss: 2.5290e-04 - val_loss: 4.4778e-04\n",
            "Epoch 8/20\n",
            "1053/1053 [==============================] - 7s 7ms/step - loss: 2.3942e-04 - val_loss: 2.4087e-04\n",
            "Epoch 9/20\n",
            "1053/1053 [==============================] - 7s 6ms/step - loss: 2.3102e-04 - val_loss: 3.5964e-04\n",
            "Epoch 10/20\n",
            "1053/1053 [==============================] - 6s 6ms/step - loss: 2.3321e-04 - val_loss: 2.9193e-04\n",
            "Epoch 11/20\n",
            "1053/1053 [==============================] - 6s 6ms/step - loss: 2.2769e-04 - val_loss: 5.2686e-04\n",
            "Epoch 12/20\n",
            "1053/1053 [==============================] - 7s 6ms/step - loss: 2.3542e-04 - val_loss: 2.7312e-04\n",
            "Epoch 13/20\n",
            "1053/1053 [==============================] - 7s 6ms/step - loss: 2.2815e-04 - val_loss: 3.0518e-04\n",
            "Epoch 14/20\n",
            "1053/1053 [==============================] - 7s 6ms/step - loss: 2.2934e-04 - val_loss: 3.0877e-04\n",
            "Epoch 15/20\n",
            "1053/1053 [==============================] - 7s 6ms/step - loss: 2.2640e-04 - val_loss: 2.4972e-04\n",
            "Epoch 16/20\n",
            "1053/1053 [==============================] - 6s 6ms/step - loss: 2.2177e-04 - val_loss: 3.0454e-04\n",
            "Epoch 17/20\n",
            "1053/1053 [==============================] - 7s 6ms/step - loss: 2.2609e-04 - val_loss: 2.4911e-04\n",
            "Epoch 18/20\n",
            "1053/1053 [==============================] - 7s 6ms/step - loss: 2.2447e-04 - val_loss: 2.6560e-04\n",
            "Epoch 19/20\n",
            "1053/1053 [==============================] - 6s 6ms/step - loss: 2.2989e-04 - val_loss: 6.6590e-04\n",
            "Epoch 20/20\n",
            "1053/1053 [==============================] - 6s 6ms/step - loss: 2.2149e-04 - val_loss: 2.5858e-04\n"
          ],
          "name": "stdout"
        },
        {
          "output_type": "execute_result",
          "data": {
            "text/plain": [
              "<keras.callbacks.History at 0x7f54a4da49e8>"
            ]
          },
          "metadata": {
            "tags": []
          },
          "execution_count": 9
        }
      ]
    },
    {
      "cell_type": "markdown",
      "metadata": {
        "id": "UEbsLTvgQNgJ",
        "colab_type": "text"
      },
      "source": [
        "### Prediction"
      ]
    },
    {
      "cell_type": "code",
      "metadata": {
        "id": "gaj2NrEzQQ3M",
        "colab_type": "code",
        "colab": {
          "base_uri": "https://localhost:8080/",
          "height": 265
        },
        "outputId": "2c7574f9-e63f-4e7d-c6d8-342685cdeba5"
      },
      "source": [
        "pred = model.predict(x_test)\n",
        "\n",
        "fig = plt.figure(facecolor='white')\n",
        "ax = fig.add_subplot(111)\n",
        "ax.plot(y_test, label='True')\n",
        "ax.plot(pred, label='Prediction')\n",
        "ax.legend()\n",
        "plt.show()"
      ],
      "execution_count": 10,
      "outputs": [
        {
          "output_type": "display_data",
          "data": {
            "image/png": "[encoded data removed]",
            "text/plain": [
              "<Figure size 432x288 with 1 Axes>"
            ]
          },
          "metadata": {
            "tags": []
          }
        }
      ]
    },
    {
      "cell_type": "markdown",
      "metadata": {
        "id": "8t46x9XRT6Ku",
        "colab_type": "text"
      },
      "source": [
        "#Ethereum"
      ]
    },
    {
      "cell_type": "code",
      "metadata": {
        "id": "iQWqyxuDUAQA",
        "colab_type": "code",
        "colab": {
          "base_uri": "https://localhost:8080/",
          "height": 204
        },
        "outputId": "a90e1a23-9e4f-4728-ea92-71120f6b1827"
      },
      "source": [
        "data = pd.read_csv('/content/drive/My Drive/Colab Notebooks/Python_exam/Data/Ethereum.csv')\n",
        "data.head()"
      ],
      "execution_count": 11,
      "outputs": [
        {
          "output_type": "execute_result",
          "data": {
            "text/html": [
              "<div>\n",
              "<style scoped>\n",
              "    .dataframe tbody tr th:only-of-type {\n",
              "        vertical-align: middle;\n",
              "    }\n",
              "\n",
              "    .dataframe tbody tr th {\n",
              "        vertical-align: top;\n",
              "    }\n",
              "\n",
              "    .dataframe thead th {\n",
              "        text-align: right;\n",
              "    }\n",
              "</style>\n",
              "<table border=\"1\" class=\"dataframe\">\n",
              "  <thead>\n",
              "    <tr style=\"text-align: right;\">\n",
              "      <th></th>\n",
              "      <th>Date</th>\n",
              "      <th>Open*</th>\n",
              "      <th>High</th>\n",
              "      <th>Low</th>\n",
              "      <th>Close**</th>\n",
              "      <th>Volume</th>\n",
              "      <th>Market Cap</th>\n",
              "    </tr>\n",
              "  </thead>\n",
              "  <tbody>\n",
              "    <tr>\n",
              "      <th>0</th>\n",
              "      <td>18-Mar-19</td>\n",
              "      <td>140.10</td>\n",
              "      <td>142.27</td>\n",
              "      <td>138.84</td>\n",
              "      <td>139.37</td>\n",
              "      <td>4,551,739,879</td>\n",
              "      <td>14,675,181,094</td>\n",
              "    </tr>\n",
              "    <tr>\n",
              "      <th>1</th>\n",
              "      <td>19-Mar-19</td>\n",
              "      <td>139.25</td>\n",
              "      <td>140.99</td>\n",
              "      <td>139.14</td>\n",
              "      <td>140.52</td>\n",
              "      <td>4,251,488,129</td>\n",
              "      <td>14,797,612,389</td>\n",
              "    </tr>\n",
              "    <tr>\n",
              "      <th>2</th>\n",
              "      <td>20-Mar-19</td>\n",
              "      <td>140.48</td>\n",
              "      <td>140.95</td>\n",
              "      <td>138.31</td>\n",
              "      <td>140.69</td>\n",
              "      <td>4,664,134,462</td>\n",
              "      <td>14,817,151,375</td>\n",
              "    </tr>\n",
              "    <tr>\n",
              "      <th>3</th>\n",
              "      <td>21-Mar-19</td>\n",
              "      <td>140.48</td>\n",
              "      <td>141.00</td>\n",
              "      <td>135.86</td>\n",
              "      <td>136.64</td>\n",
              "      <td>5,087,247,796</td>\n",
              "      <td>14,392,427,839</td>\n",
              "    </tr>\n",
              "    <tr>\n",
              "      <th>4</th>\n",
              "      <td>22-Mar-19</td>\n",
              "      <td>136.56</td>\n",
              "      <td>138.79</td>\n",
              "      <td>136.23</td>\n",
              "      <td>137.18</td>\n",
              "      <td>4,490,899,266</td>\n",
              "      <td>14,451,740,115</td>\n",
              "    </tr>\n",
              "  </tbody>\n",
              "</table>\n",
              "</div>"
            ],
            "text/plain": [
              "        Date   Open*    High     Low  Close**         Volume      Market Cap\n",
              "0  18-Mar-19  140.10  142.27  138.84   139.37  4,551,739,879  14,675,181,094\n",
              "1  19-Mar-19  139.25  140.99  139.14   140.52  4,251,488,129  14,797,612,389\n",
              "2  20-Mar-19  140.48  140.95  138.31   140.69  4,664,134,462  14,817,151,375\n",
              "3  21-Mar-19  140.48  141.00  135.86   136.64  5,087,247,796  14,392,427,839\n",
              "4  22-Mar-19  136.56  138.79  136.23   137.18  4,490,899,266  14,451,740,115"
            ]
          },
          "metadata": {
            "tags": []
          },
          "execution_count": 11
        }
      ]
    },
    {
      "cell_type": "code",
      "metadata": {
        "id": "GR8zJZmMVEws",
        "colab_type": "code",
        "colab": {}
      },
      "source": [
        "high_prices = data['High'].values\n",
        "low_prices = data['Low'].values\n",
        "mid_prices = (high_prices + low_prices) / 2"
      ],
      "execution_count": 0,
      "outputs": []
    },
    {
      "cell_type": "code",
      "metadata": {
        "id": "x6lLRv92VQAa",
        "colab_type": "code",
        "colab": {}
      },
      "source": [
        "seq_len = 50\n",
        "sequence_length = seq_len + 1\n",
        "\n",
        "result = []\n",
        "for index in range(len(mid_prices) - sequence_length):\n",
        "    result.append(mid_prices[index: index + sequence_length])"
      ],
      "execution_count": 0,
      "outputs": []
    },
    {
      "cell_type": "code",
      "metadata": {
        "id": "kBbrGTDZVSpr",
        "colab_type": "code",
        "colab": {
          "base_uri": "https://localhost:8080/",
          "height": 35
        },
        "outputId": "4cc0fc2a-4f67-42e8-a29d-07cef3638d4c"
      },
      "source": [
        "normalized_data = []\n",
        "for window in result:\n",
        "    normalized_window = [((float(p)/float(window[0])) - 1) for p in window]\n",
        "    normalized_data.append(normalized_window)\n",
        "\n",
        "result = np.array(normalized_data)\n",
        "\n",
        "# split train and test data\n",
        "row = int(round(result.shape[0] * 0.9))\n",
        "train = result[:row, :]\n",
        "np.random.shuffle(train)\n",
        "\n",
        "x_train = train[:, :-1]\n",
        "x_train = np.reshape(x_train, (x_train.shape[0], x_train.shape[1], 1))\n",
        "y_train = train[:, -1]\n",
        "\n",
        "x_test = result[row:, :-1]\n",
        "x_test = np.reshape(x_test, (x_test.shape[0], x_test.shape[1], 1))\n",
        "y_test = result[row:, -1]\n",
        "\n",
        "x_train.shape, x_test.shape"
      ],
      "execution_count": 14,
      "outputs": [
        {
          "output_type": "execute_result",
          "data": {
            "text/plain": [
              "((284, 50, 1), (31, 50, 1))"
            ]
          },
          "metadata": {
            "tags": []
          },
          "execution_count": 14
        }
      ]
    },
    {
      "cell_type": "code",
      "metadata": {
        "id": "z2SSs9MqVaDB",
        "colab_type": "code",
        "colab": {
          "base_uri": "https://localhost:8080/",
          "height": 269
        },
        "outputId": "8cb49bf4-2455-46e7-9c1c-42811a19d7a2"
      },
      "source": [
        "model = Sequential()\n",
        "\n",
        "model.add(LSTM(50, return_sequences=True, input_shape=(50, 1)))\n",
        "\n",
        "model.add(LSTM(64, return_sequences=False))\n",
        "\n",
        "model.add(Dense(1, activation='linear'))\n",
        "\n",
        "model.compile(loss='mse', optimizer='rmsprop')\n",
        "\n",
        "model.summary()"
      ],
      "execution_count": 15,
      "outputs": [
        {
          "output_type": "stream",
          "text": [
            "Model: \"sequential_2\"\n",
            "_________________________________________________________________\n",
            "Layer (type)                 Output Shape              Param #   \n",
            "=================================================================\n",
            "lstm_3 (LSTM)                (None, 50, 50)            10400     \n",
            "_________________________________________________________________\n",
            "lstm_4 (LSTM)                (None, 64)                29440     \n",
            "_________________________________________________________________\n",
            "dense_2 (Dense)              (None, 1)                 65        \n",
            "=================================================================\n",
            "Total params: 39,905\n",
            "Trainable params: 39,905\n",
            "Non-trainable params: 0\n",
            "_________________________________________________________________\n"
          ],
          "name": "stdout"
        }
      ]
    },
    {
      "cell_type": "code",
      "metadata": {
        "id": "H0Y8JA68VgSi",
        "colab_type": "code",
        "colab": {
          "base_uri": "https://localhost:8080/",
          "height": 773
        },
        "outputId": "b771f502-84f6-4ae6-83b0-cb7ef9014c05"
      },
      "source": [
        "model.fit(x_train, y_train, validation_data=(x_test, y_test),batch_size=10, epochs=20)"
      ],
      "execution_count": 16,
      "outputs": [
        {
          "output_type": "stream",
          "text": [
            "Train on 284 samples, validate on 31 samples\n",
            "Epoch 1/20\n",
            "284/284 [==============================] - 3s 10ms/step - loss: 0.0319 - val_loss: 0.0931\n",
            "Epoch 2/20\n",
            "284/284 [==============================] - 2s 6ms/step - loss: 0.0129 - val_loss: 0.0490\n",
            "Epoch 3/20\n",
            "284/284 [==============================] - 2s 6ms/step - loss: 0.0104 - val_loss: 0.1672\n",
            "Epoch 4/20\n",
            "284/284 [==============================] - 2s 6ms/step - loss: 0.0083 - val_loss: 0.0947\n",
            "Epoch 5/20\n",
            "284/284 [==============================] - 2s 6ms/step - loss: 0.0068 - val_loss: 0.0290\n",
            "Epoch 6/20\n",
            "284/284 [==============================] - 2s 6ms/step - loss: 0.0061 - val_loss: 0.0317\n",
            "Epoch 7/20\n",
            "284/284 [==============================] - 2s 6ms/step - loss: 0.0058 - val_loss: 0.0385\n",
            "Epoch 8/20\n",
            "284/284 [==============================] - 2s 6ms/step - loss: 0.0060 - val_loss: 0.0864\n",
            "Epoch 9/20\n",
            "284/284 [==============================] - 2s 6ms/step - loss: 0.0052 - val_loss: 0.0195\n",
            "Epoch 10/20\n",
            "284/284 [==============================] - 2s 6ms/step - loss: 0.0050 - val_loss: 0.0257\n",
            "Epoch 11/20\n",
            "284/284 [==============================] - 2s 6ms/step - loss: 0.0045 - val_loss: 0.0186\n",
            "Epoch 12/20\n",
            "284/284 [==============================] - 2s 6ms/step - loss: 0.0042 - val_loss: 0.0446\n",
            "Epoch 13/20\n",
            "284/284 [==============================] - 2s 6ms/step - loss: 0.0046 - val_loss: 0.0209\n",
            "Epoch 14/20\n",
            "284/284 [==============================] - 2s 6ms/step - loss: 0.0040 - val_loss: 0.0331\n",
            "Epoch 15/20\n",
            "284/284 [==============================] - 2s 6ms/step - loss: 0.0039 - val_loss: 0.0170\n",
            "Epoch 16/20\n",
            "284/284 [==============================] - 2s 7ms/step - loss: 0.0034 - val_loss: 0.0135\n",
            "Epoch 17/20\n",
            "284/284 [==============================] - 2s 7ms/step - loss: 0.0030 - val_loss: 0.0209\n",
            "Epoch 18/20\n",
            "284/284 [==============================] - 2s 7ms/step - loss: 0.0034 - val_loss: 0.0118\n",
            "Epoch 19/20\n",
            "284/284 [==============================] - 2s 6ms/step - loss: 0.0030 - val_loss: 0.0171\n",
            "Epoch 20/20\n",
            "284/284 [==============================] - 2s 6ms/step - loss: 0.0029 - val_loss: 0.0129\n"
          ],
          "name": "stdout"
        },
        {
          "output_type": "execute_result",
          "data": {
            "text/plain": [
              "<keras.callbacks.History at 0x7f54a846ab70>"
            ]
          },
          "metadata": {
            "tags": []
          },
          "execution_count": 16
        }
      ]
    },
    {
      "cell_type": "code",
      "metadata": {
        "id": "qgY2KEk6VnnO",
        "colab_type": "code",
        "colab": {
          "base_uri": "https://localhost:8080/",
          "height": 265
        },
        "outputId": "8c3040f0-e103-44e5-bbe5-d49c3ae0211d"
      },
      "source": [
        "pred = model.predict(x_test)\n",
        "\n",
        "fig = plt.figure(facecolor='white')\n",
        "ax = fig.add_subplot(111)\n",
        "ax.plot(y_test, label='True')\n",
        "ax.plot(pred, label='Prediction')\n",
        "ax.legend()\n",
        "plt.show()"
      ],
      "execution_count": 17,
      "outputs": [
        {
          "output_type": "display_data",
          "data": {
            "image/png": "[encoded data removed]",
            "text/plain": [
              "<Figure size 432x288 with 1 Axes>"
            ]
          },
          "metadata": {
            "tags": []
          }
        }
      ]
    }
  ]
}