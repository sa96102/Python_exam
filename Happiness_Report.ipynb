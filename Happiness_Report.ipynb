{
  "nbformat": 4,
  "nbformat_minor": 0,
  "metadata": {
    "colab": {
      "name": "Happiness Report.ipynb",
      "provenance": [],
      "collapsed_sections": [],
      "authorship_tag": "ABX9TyN5aA25tFqcfNBTlJWtqcsX",
      "include_colab_link": true
    },
    "kernelspec": {
      "name": "python3",
      "display_name": "Python 3"
    }
  },
  "cells": [
    {
      "cell_type": "markdown",
      "metadata": {
        "id": "view-in-github",
        "colab_type": "text"
      },
      "source": [
        "<a href=\"https://colab.research.google.com/github/sa96102/Python_exam/blob/master/Happiness_Report.ipynb\" target=\"_parent\"><img src=\"https://colab.research.google.com/assets/colab-badge.svg\" alt=\"Open In Colab\"/></a>"
      ]
    },
    {
      "cell_type": "code",
      "metadata": {
        "id": "iTcKiqWJG7UI",
        "colab_type": "code",
        "outputId": "e29a1298-8279-45fe-a5e8-9b3dcfd4353f",
        "colab": {
          "base_uri": "https://localhost:8080/",
          "height": 55
        }
      },
      "source": [
        "from google.colab import drive\n",
        "drive.mount('/content/drive')"
      ],
      "execution_count": 1,
      "outputs": [
        {
          "output_type": "stream",
          "text": [
            "Drive already mounted at /content/drive; to attempt to forcibly remount, call drive.mount(\"/content/drive\", force_remount=True).\n"
          ],
          "name": "stdout"
        }
      ]
    },
    {
      "cell_type": "code",
      "metadata": {
        "id": "8GeEr2Y0DwAc",
        "colab_type": "code",
        "outputId": "ad6e466e-9018-498c-e8bb-7726622cbed1",
        "colab": {
          "base_uri": "https://localhost:8080/",
          "height": 17
        }
      },
      "source": [
        "import pandas as pd\n",
        "import numpy as np\n",
        "import matplotlib.pyplot as plt\n",
        "import seaborn as sns\n",
        "sns.set(style=\"darkgrid\", palette=\"bright\", font_scale=1.5)\n",
        "from scipy import stats\n",
        "from sklearn.tree import DecisionTreeClassifier\n",
        "from sklearn.ensemble import RandomForestClassifier, ExtraTreesClassifier\n",
        "from sklearn.metrics import classification_report, confusion_matrix\n",
        "from sklearn.datasets import fetch_20newsgroups_vectorized\n",
        "from sklearn.feature_selection import chi2, RFE\n",
        "from sklearn import datasets\n",
        "from sklearn import metrics\n",
        "import types\n",
        "from sklearn.manifold import TSNE\n",
        "import plotly.graph_objs as go\n",
        "from plotly.offline import download_plotlyjs, init_notebook_mode, plot, iplot\n",
        "init_notebook_mode(connected=True)\n",
        "%matplotlib inline"
      ],
      "execution_count": 2,
      "outputs": [
        {
          "output_type": "display_data",
          "data": {
            "text/html": [
              "        <script type=\"text/javascript\">\n",
              "        window.PlotlyConfig = {MathJaxConfig: 'local'};\n",
              "        if (window.MathJax) {MathJax.Hub.Config({SVG: {font: \"STIX-Web\"}});}\n",
              "        if (typeof require !== 'undefined') {\n",
              "        require.undef(\"plotly\");\n",
              "        requirejs.config({\n",
              "            paths: {\n",
              "                'plotly': ['https://cdn.plot.ly/plotly-latest.min']\n",
              "            }\n",
              "        });\n",
              "        require(['plotly'], function(Plotly) {\n",
              "            window._Plotly = Plotly;\n",
              "        });\n",
              "        }\n",
              "        </script>\n",
              "        "
            ]
          },
          "metadata": {
            "tags": []
          }
        }
      ]
    },
    {
      "cell_type": "code",
      "metadata": {
        "id": "cYOTxPHdGvA6",
        "colab_type": "code",
        "outputId": "2a98a01f-1a24-4f78-c013-1890fa1af8b8",
        "colab": {
          "base_uri": "https://localhost:8080/",
          "height": 1000
        }
      },
      "source": [
        "df = pd.read_csv('/content/drive/My Drive/Colab Notebooks/Python_exam/Data/world-happiness/2017.csv')\n",
        "df.head(60)"
      ],
      "execution_count": 3,
      "outputs": [
        {
          "output_type": "execute_result",
          "data": {
            "text/html": [
              "<div>\n",
              "<style scoped>\n",
              "    .dataframe tbody tr th:only-of-type {\n",
              "        vertical-align: middle;\n",
              "    }\n",
              "\n",
              "    .dataframe tbody tr th {\n",
              "        vertical-align: top;\n",
              "    }\n",
              "\n",
              "    .dataframe thead th {\n",
              "        text-align: right;\n",
              "    }\n",
              "</style>\n",
              "<table border=\"1\" class=\"dataframe\">\n",
              "  <thead>\n",
              "    <tr style=\"text-align: right;\">\n",
              "      <th></th>\n",
              "      <th>Country</th>\n",
              "      <th>Happiness.Rank</th>\n",
              "      <th>Happiness.Score</th>\n",
              "      <th>Whisker.high</th>\n",
              "      <th>Whisker.low</th>\n",
              "      <th>Economy..GDP.per.Capita.</th>\n",
              "      <th>Family</th>\n",
              "      <th>Health..Life.Expectancy.</th>\n",
              "      <th>Freedom</th>\n",
              "      <th>Generosity</th>\n",
              "      <th>Trust..Government.Corruption.</th>\n",
              "      <th>Dystopia.Residual</th>\n",
              "    </tr>\n",
              "  </thead>\n",
              "  <tbody>\n",
              "    <tr>\n",
              "      <th>0</th>\n",
              "      <td>Norway</td>\n",
              "      <td>1</td>\n",
              "      <td>7.537</td>\n",
              "      <td>7.594445</td>\n",
              "      <td>7.479556</td>\n",
              "      <td>1.616463</td>\n",
              "      <td>1.533524</td>\n",
              "      <td>0.796667</td>\n",
              "      <td>0.635423</td>\n",
              "      <td>0.362012</td>\n",
              "      <td>0.315964</td>\n",
              "      <td>2.277027</td>\n",
              "    </tr>\n",
              "    <tr>\n",
              "      <th>1</th>\n",
              "      <td>Denmark</td>\n",
              "      <td>2</td>\n",
              "      <td>7.522</td>\n",
              "      <td>7.581728</td>\n",
              "      <td>7.462272</td>\n",
              "      <td>1.482383</td>\n",
              "      <td>1.551122</td>\n",
              "      <td>0.792566</td>\n",
              "      <td>0.626007</td>\n",
              "      <td>0.355280</td>\n",
              "      <td>0.400770</td>\n",
              "      <td>2.313707</td>\n",
              "    </tr>\n",
              "    <tr>\n",
              "      <th>2</th>\n",
              "      <td>Iceland</td>\n",
              "      <td>3</td>\n",
              "      <td>7.504</td>\n",
              "      <td>7.622030</td>\n",
              "      <td>7.385970</td>\n",
              "      <td>1.480633</td>\n",
              "      <td>1.610574</td>\n",
              "      <td>0.833552</td>\n",
              "      <td>0.627163</td>\n",
              "      <td>0.475540</td>\n",
              "      <td>0.153527</td>\n",
              "      <td>2.322715</td>\n",
              "    </tr>\n",
              "    <tr>\n",
              "      <th>3</th>\n",
              "      <td>Switzerland</td>\n",
              "      <td>4</td>\n",
              "      <td>7.494</td>\n",
              "      <td>7.561772</td>\n",
              "      <td>7.426227</td>\n",
              "      <td>1.564980</td>\n",
              "      <td>1.516912</td>\n",
              "      <td>0.858131</td>\n",
              "      <td>0.620071</td>\n",
              "      <td>0.290549</td>\n",
              "      <td>0.367007</td>\n",
              "      <td>2.276716</td>\n",
              "    </tr>\n",
              "    <tr>\n",
              "      <th>4</th>\n",
              "      <td>Finland</td>\n",
              "      <td>5</td>\n",
              "      <td>7.469</td>\n",
              "      <td>7.527542</td>\n",
              "      <td>7.410458</td>\n",
              "      <td>1.443572</td>\n",
              "      <td>1.540247</td>\n",
              "      <td>0.809158</td>\n",
              "      <td>0.617951</td>\n",
              "      <td>0.245483</td>\n",
              "      <td>0.382612</td>\n",
              "      <td>2.430182</td>\n",
              "    </tr>\n",
              "    <tr>\n",
              "      <th>5</th>\n",
              "      <td>Netherlands</td>\n",
              "      <td>6</td>\n",
              "      <td>7.377</td>\n",
              "      <td>7.427426</td>\n",
              "      <td>7.326574</td>\n",
              "      <td>1.503945</td>\n",
              "      <td>1.428939</td>\n",
              "      <td>0.810696</td>\n",
              "      <td>0.585384</td>\n",
              "      <td>0.470490</td>\n",
              "      <td>0.282662</td>\n",
              "      <td>2.294804</td>\n",
              "    </tr>\n",
              "    <tr>\n",
              "      <th>6</th>\n",
              "      <td>Canada</td>\n",
              "      <td>7</td>\n",
              "      <td>7.316</td>\n",
              "      <td>7.384403</td>\n",
              "      <td>7.247597</td>\n",
              "      <td>1.479204</td>\n",
              "      <td>1.481349</td>\n",
              "      <td>0.834558</td>\n",
              "      <td>0.611101</td>\n",
              "      <td>0.435540</td>\n",
              "      <td>0.287372</td>\n",
              "      <td>2.187264</td>\n",
              "    </tr>\n",
              "    <tr>\n",
              "      <th>7</th>\n",
              "      <td>New Zealand</td>\n",
              "      <td>8</td>\n",
              "      <td>7.314</td>\n",
              "      <td>7.379510</td>\n",
              "      <td>7.248490</td>\n",
              "      <td>1.405706</td>\n",
              "      <td>1.548195</td>\n",
              "      <td>0.816760</td>\n",
              "      <td>0.614062</td>\n",
              "      <td>0.500005</td>\n",
              "      <td>0.382817</td>\n",
              "      <td>2.046456</td>\n",
              "    </tr>\n",
              "    <tr>\n",
              "      <th>8</th>\n",
              "      <td>Sweden</td>\n",
              "      <td>9</td>\n",
              "      <td>7.284</td>\n",
              "      <td>7.344095</td>\n",
              "      <td>7.223905</td>\n",
              "      <td>1.494387</td>\n",
              "      <td>1.478162</td>\n",
              "      <td>0.830875</td>\n",
              "      <td>0.612924</td>\n",
              "      <td>0.385399</td>\n",
              "      <td>0.384399</td>\n",
              "      <td>2.097538</td>\n",
              "    </tr>\n",
              "    <tr>\n",
              "      <th>9</th>\n",
              "      <td>Australia</td>\n",
              "      <td>10</td>\n",
              "      <td>7.284</td>\n",
              "      <td>7.356651</td>\n",
              "      <td>7.211349</td>\n",
              "      <td>1.484415</td>\n",
              "      <td>1.510042</td>\n",
              "      <td>0.843887</td>\n",
              "      <td>0.601607</td>\n",
              "      <td>0.477699</td>\n",
              "      <td>0.301184</td>\n",
              "      <td>2.065211</td>\n",
              "    </tr>\n",
              "    <tr>\n",
              "      <th>10</th>\n",
              "      <td>Israel</td>\n",
              "      <td>11</td>\n",
              "      <td>7.213</td>\n",
              "      <td>7.279853</td>\n",
              "      <td>7.146146</td>\n",
              "      <td>1.375382</td>\n",
              "      <td>1.376290</td>\n",
              "      <td>0.838404</td>\n",
              "      <td>0.405989</td>\n",
              "      <td>0.330083</td>\n",
              "      <td>0.085242</td>\n",
              "      <td>2.801757</td>\n",
              "    </tr>\n",
              "    <tr>\n",
              "      <th>11</th>\n",
              "      <td>Costa Rica</td>\n",
              "      <td>12</td>\n",
              "      <td>7.079</td>\n",
              "      <td>7.168112</td>\n",
              "      <td>6.989888</td>\n",
              "      <td>1.109706</td>\n",
              "      <td>1.416404</td>\n",
              "      <td>0.759509</td>\n",
              "      <td>0.580132</td>\n",
              "      <td>0.214613</td>\n",
              "      <td>0.100107</td>\n",
              "      <td>2.898639</td>\n",
              "    </tr>\n",
              "    <tr>\n",
              "      <th>12</th>\n",
              "      <td>Austria</td>\n",
              "      <td>13</td>\n",
              "      <td>7.006</td>\n",
              "      <td>7.070670</td>\n",
              "      <td>6.941330</td>\n",
              "      <td>1.487097</td>\n",
              "      <td>1.459945</td>\n",
              "      <td>0.815328</td>\n",
              "      <td>0.567766</td>\n",
              "      <td>0.316472</td>\n",
              "      <td>0.221060</td>\n",
              "      <td>2.138506</td>\n",
              "    </tr>\n",
              "    <tr>\n",
              "      <th>13</th>\n",
              "      <td>United States</td>\n",
              "      <td>14</td>\n",
              "      <td>6.993</td>\n",
              "      <td>7.074657</td>\n",
              "      <td>6.911343</td>\n",
              "      <td>1.546259</td>\n",
              "      <td>1.419921</td>\n",
              "      <td>0.774287</td>\n",
              "      <td>0.505741</td>\n",
              "      <td>0.392579</td>\n",
              "      <td>0.135639</td>\n",
              "      <td>2.218113</td>\n",
              "    </tr>\n",
              "    <tr>\n",
              "      <th>14</th>\n",
              "      <td>Ireland</td>\n",
              "      <td>15</td>\n",
              "      <td>6.977</td>\n",
              "      <td>7.043352</td>\n",
              "      <td>6.910649</td>\n",
              "      <td>1.535707</td>\n",
              "      <td>1.558231</td>\n",
              "      <td>0.809783</td>\n",
              "      <td>0.573110</td>\n",
              "      <td>0.427858</td>\n",
              "      <td>0.298388</td>\n",
              "      <td>1.773869</td>\n",
              "    </tr>\n",
              "    <tr>\n",
              "      <th>15</th>\n",
              "      <td>Germany</td>\n",
              "      <td>16</td>\n",
              "      <td>6.951</td>\n",
              "      <td>7.005382</td>\n",
              "      <td>6.896619</td>\n",
              "      <td>1.487923</td>\n",
              "      <td>1.472520</td>\n",
              "      <td>0.798951</td>\n",
              "      <td>0.562511</td>\n",
              "      <td>0.336269</td>\n",
              "      <td>0.276732</td>\n",
              "      <td>2.015770</td>\n",
              "    </tr>\n",
              "    <tr>\n",
              "      <th>16</th>\n",
              "      <td>Belgium</td>\n",
              "      <td>17</td>\n",
              "      <td>6.891</td>\n",
              "      <td>6.955821</td>\n",
              "      <td>6.826179</td>\n",
              "      <td>1.463781</td>\n",
              "      <td>1.462313</td>\n",
              "      <td>0.818092</td>\n",
              "      <td>0.539771</td>\n",
              "      <td>0.231503</td>\n",
              "      <td>0.251343</td>\n",
              "      <td>2.124210</td>\n",
              "    </tr>\n",
              "    <tr>\n",
              "      <th>17</th>\n",
              "      <td>Luxembourg</td>\n",
              "      <td>18</td>\n",
              "      <td>6.863</td>\n",
              "      <td>6.923686</td>\n",
              "      <td>6.802314</td>\n",
              "      <td>1.741944</td>\n",
              "      <td>1.457584</td>\n",
              "      <td>0.845089</td>\n",
              "      <td>0.596628</td>\n",
              "      <td>0.283181</td>\n",
              "      <td>0.318834</td>\n",
              "      <td>1.619512</td>\n",
              "    </tr>\n",
              "    <tr>\n",
              "      <th>18</th>\n",
              "      <td>United Kingdom</td>\n",
              "      <td>19</td>\n",
              "      <td>6.714</td>\n",
              "      <td>6.783792</td>\n",
              "      <td>6.644209</td>\n",
              "      <td>1.441634</td>\n",
              "      <td>1.496460</td>\n",
              "      <td>0.805336</td>\n",
              "      <td>0.508190</td>\n",
              "      <td>0.492774</td>\n",
              "      <td>0.265428</td>\n",
              "      <td>1.704144</td>\n",
              "    </tr>\n",
              "    <tr>\n",
              "      <th>19</th>\n",
              "      <td>Chile</td>\n",
              "      <td>20</td>\n",
              "      <td>6.652</td>\n",
              "      <td>6.739251</td>\n",
              "      <td>6.564749</td>\n",
              "      <td>1.252785</td>\n",
              "      <td>1.284025</td>\n",
              "      <td>0.819480</td>\n",
              "      <td>0.376895</td>\n",
              "      <td>0.326662</td>\n",
              "      <td>0.082288</td>\n",
              "      <td>2.509586</td>\n",
              "    </tr>\n",
              "    <tr>\n",
              "      <th>20</th>\n",
              "      <td>United Arab Emirates</td>\n",
              "      <td>21</td>\n",
              "      <td>6.648</td>\n",
              "      <td>6.722047</td>\n",
              "      <td>6.573952</td>\n",
              "      <td>1.626343</td>\n",
              "      <td>1.266410</td>\n",
              "      <td>0.726798</td>\n",
              "      <td>0.608345</td>\n",
              "      <td>0.360942</td>\n",
              "      <td>0.324490</td>\n",
              "      <td>1.734704</td>\n",
              "    </tr>\n",
              "    <tr>\n",
              "      <th>21</th>\n",
              "      <td>Brazil</td>\n",
              "      <td>22</td>\n",
              "      <td>6.635</td>\n",
              "      <td>6.725470</td>\n",
              "      <td>6.544531</td>\n",
              "      <td>1.107353</td>\n",
              "      <td>1.431306</td>\n",
              "      <td>0.616552</td>\n",
              "      <td>0.437454</td>\n",
              "      <td>0.162350</td>\n",
              "      <td>0.111093</td>\n",
              "      <td>2.769267</td>\n",
              "    </tr>\n",
              "    <tr>\n",
              "      <th>22</th>\n",
              "      <td>Czech Republic</td>\n",
              "      <td>23</td>\n",
              "      <td>6.609</td>\n",
              "      <td>6.683862</td>\n",
              "      <td>6.534138</td>\n",
              "      <td>1.352682</td>\n",
              "      <td>1.433885</td>\n",
              "      <td>0.754444</td>\n",
              "      <td>0.490946</td>\n",
              "      <td>0.088107</td>\n",
              "      <td>0.036873</td>\n",
              "      <td>2.451862</td>\n",
              "    </tr>\n",
              "    <tr>\n",
              "      <th>23</th>\n",
              "      <td>Argentina</td>\n",
              "      <td>24</td>\n",
              "      <td>6.599</td>\n",
              "      <td>6.690085</td>\n",
              "      <td>6.507915</td>\n",
              "      <td>1.185295</td>\n",
              "      <td>1.440451</td>\n",
              "      <td>0.695137</td>\n",
              "      <td>0.494519</td>\n",
              "      <td>0.109457</td>\n",
              "      <td>0.059740</td>\n",
              "      <td>2.614005</td>\n",
              "    </tr>\n",
              "    <tr>\n",
              "      <th>24</th>\n",
              "      <td>Mexico</td>\n",
              "      <td>25</td>\n",
              "      <td>6.578</td>\n",
              "      <td>6.671149</td>\n",
              "      <td>6.484851</td>\n",
              "      <td>1.153184</td>\n",
              "      <td>1.210862</td>\n",
              "      <td>0.709979</td>\n",
              "      <td>0.412730</td>\n",
              "      <td>0.120990</td>\n",
              "      <td>0.132774</td>\n",
              "      <td>2.837155</td>\n",
              "    </tr>\n",
              "    <tr>\n",
              "      <th>25</th>\n",
              "      <td>Singapore</td>\n",
              "      <td>26</td>\n",
              "      <td>6.572</td>\n",
              "      <td>6.636723</td>\n",
              "      <td>6.507277</td>\n",
              "      <td>1.692278</td>\n",
              "      <td>1.353814</td>\n",
              "      <td>0.949492</td>\n",
              "      <td>0.549841</td>\n",
              "      <td>0.345966</td>\n",
              "      <td>0.464308</td>\n",
              "      <td>1.216362</td>\n",
              "    </tr>\n",
              "    <tr>\n",
              "      <th>26</th>\n",
              "      <td>Malta</td>\n",
              "      <td>27</td>\n",
              "      <td>6.527</td>\n",
              "      <td>6.598397</td>\n",
              "      <td>6.455603</td>\n",
              "      <td>1.343280</td>\n",
              "      <td>1.488412</td>\n",
              "      <td>0.821944</td>\n",
              "      <td>0.588767</td>\n",
              "      <td>0.574731</td>\n",
              "      <td>0.153066</td>\n",
              "      <td>1.556863</td>\n",
              "    </tr>\n",
              "    <tr>\n",
              "      <th>27</th>\n",
              "      <td>Uruguay</td>\n",
              "      <td>28</td>\n",
              "      <td>6.454</td>\n",
              "      <td>6.545906</td>\n",
              "      <td>6.362094</td>\n",
              "      <td>1.217560</td>\n",
              "      <td>1.412228</td>\n",
              "      <td>0.719217</td>\n",
              "      <td>0.579392</td>\n",
              "      <td>0.175097</td>\n",
              "      <td>0.178062</td>\n",
              "      <td>2.172410</td>\n",
              "    </tr>\n",
              "    <tr>\n",
              "      <th>28</th>\n",
              "      <td>Guatemala</td>\n",
              "      <td>29</td>\n",
              "      <td>6.454</td>\n",
              "      <td>6.566874</td>\n",
              "      <td>6.341126</td>\n",
              "      <td>0.872002</td>\n",
              "      <td>1.255585</td>\n",
              "      <td>0.540240</td>\n",
              "      <td>0.531311</td>\n",
              "      <td>0.283488</td>\n",
              "      <td>0.077223</td>\n",
              "      <td>2.893891</td>\n",
              "    </tr>\n",
              "    <tr>\n",
              "      <th>29</th>\n",
              "      <td>Panama</td>\n",
              "      <td>30</td>\n",
              "      <td>6.452</td>\n",
              "      <td>6.557131</td>\n",
              "      <td>6.346870</td>\n",
              "      <td>1.233748</td>\n",
              "      <td>1.373193</td>\n",
              "      <td>0.706156</td>\n",
              "      <td>0.550027</td>\n",
              "      <td>0.210557</td>\n",
              "      <td>0.070984</td>\n",
              "      <td>2.307200</td>\n",
              "    </tr>\n",
              "    <tr>\n",
              "      <th>30</th>\n",
              "      <td>France</td>\n",
              "      <td>31</td>\n",
              "      <td>6.442</td>\n",
              "      <td>6.515768</td>\n",
              "      <td>6.368232</td>\n",
              "      <td>1.430923</td>\n",
              "      <td>1.387777</td>\n",
              "      <td>0.844466</td>\n",
              "      <td>0.470222</td>\n",
              "      <td>0.129762</td>\n",
              "      <td>0.172502</td>\n",
              "      <td>2.005955</td>\n",
              "    </tr>\n",
              "    <tr>\n",
              "      <th>31</th>\n",
              "      <td>Thailand</td>\n",
              "      <td>32</td>\n",
              "      <td>6.424</td>\n",
              "      <td>6.509117</td>\n",
              "      <td>6.338883</td>\n",
              "      <td>1.127869</td>\n",
              "      <td>1.425792</td>\n",
              "      <td>0.647239</td>\n",
              "      <td>0.580201</td>\n",
              "      <td>0.572123</td>\n",
              "      <td>0.031613</td>\n",
              "      <td>2.039508</td>\n",
              "    </tr>\n",
              "    <tr>\n",
              "      <th>32</th>\n",
              "      <td>Taiwan Province of China</td>\n",
              "      <td>33</td>\n",
              "      <td>6.422</td>\n",
              "      <td>6.494596</td>\n",
              "      <td>6.349404</td>\n",
              "      <td>1.433627</td>\n",
              "      <td>1.384565</td>\n",
              "      <td>0.793984</td>\n",
              "      <td>0.361467</td>\n",
              "      <td>0.258360</td>\n",
              "      <td>0.063829</td>\n",
              "      <td>2.126607</td>\n",
              "    </tr>\n",
              "    <tr>\n",
              "      <th>33</th>\n",
              "      <td>Spain</td>\n",
              "      <td>34</td>\n",
              "      <td>6.403</td>\n",
              "      <td>6.471055</td>\n",
              "      <td>6.334945</td>\n",
              "      <td>1.384398</td>\n",
              "      <td>1.532091</td>\n",
              "      <td>0.888961</td>\n",
              "      <td>0.408781</td>\n",
              "      <td>0.190134</td>\n",
              "      <td>0.070914</td>\n",
              "      <td>1.927758</td>\n",
              "    </tr>\n",
              "    <tr>\n",
              "      <th>34</th>\n",
              "      <td>Qatar</td>\n",
              "      <td>35</td>\n",
              "      <td>6.375</td>\n",
              "      <td>6.568477</td>\n",
              "      <td>6.181523</td>\n",
              "      <td>1.870766</td>\n",
              "      <td>1.274297</td>\n",
              "      <td>0.710098</td>\n",
              "      <td>0.604131</td>\n",
              "      <td>0.330474</td>\n",
              "      <td>0.439299</td>\n",
              "      <td>1.145464</td>\n",
              "    </tr>\n",
              "    <tr>\n",
              "      <th>35</th>\n",
              "      <td>Colombia</td>\n",
              "      <td>36</td>\n",
              "      <td>6.357</td>\n",
              "      <td>6.452020</td>\n",
              "      <td>6.261980</td>\n",
              "      <td>1.070622</td>\n",
              "      <td>1.402183</td>\n",
              "      <td>0.595028</td>\n",
              "      <td>0.477487</td>\n",
              "      <td>0.149014</td>\n",
              "      <td>0.046669</td>\n",
              "      <td>2.616068</td>\n",
              "    </tr>\n",
              "    <tr>\n",
              "      <th>36</th>\n",
              "      <td>Saudi Arabia</td>\n",
              "      <td>37</td>\n",
              "      <td>6.344</td>\n",
              "      <td>6.444167</td>\n",
              "      <td>6.243833</td>\n",
              "      <td>1.530624</td>\n",
              "      <td>1.286678</td>\n",
              "      <td>0.590148</td>\n",
              "      <td>0.449751</td>\n",
              "      <td>0.147616</td>\n",
              "      <td>0.273432</td>\n",
              "      <td>2.065430</td>\n",
              "    </tr>\n",
              "    <tr>\n",
              "      <th>37</th>\n",
              "      <td>Trinidad and Tobago</td>\n",
              "      <td>38</td>\n",
              "      <td>6.168</td>\n",
              "      <td>6.381534</td>\n",
              "      <td>5.954467</td>\n",
              "      <td>1.361356</td>\n",
              "      <td>1.380229</td>\n",
              "      <td>0.519983</td>\n",
              "      <td>0.518631</td>\n",
              "      <td>0.325296</td>\n",
              "      <td>0.008965</td>\n",
              "      <td>2.053247</td>\n",
              "    </tr>\n",
              "    <tr>\n",
              "      <th>38</th>\n",
              "      <td>Kuwait</td>\n",
              "      <td>39</td>\n",
              "      <td>6.105</td>\n",
              "      <td>6.191957</td>\n",
              "      <td>6.018043</td>\n",
              "      <td>1.632952</td>\n",
              "      <td>1.259699</td>\n",
              "      <td>0.632106</td>\n",
              "      <td>0.496338</td>\n",
              "      <td>0.228290</td>\n",
              "      <td>0.215160</td>\n",
              "      <td>1.640425</td>\n",
              "    </tr>\n",
              "    <tr>\n",
              "      <th>39</th>\n",
              "      <td>Slovakia</td>\n",
              "      <td>40</td>\n",
              "      <td>6.098</td>\n",
              "      <td>6.177348</td>\n",
              "      <td>6.018652</td>\n",
              "      <td>1.325394</td>\n",
              "      <td>1.505059</td>\n",
              "      <td>0.712733</td>\n",
              "      <td>0.295817</td>\n",
              "      <td>0.136544</td>\n",
              "      <td>0.024211</td>\n",
              "      <td>2.097777</td>\n",
              "    </tr>\n",
              "    <tr>\n",
              "      <th>40</th>\n",
              "      <td>Bahrain</td>\n",
              "      <td>41</td>\n",
              "      <td>6.087</td>\n",
              "      <td>6.178989</td>\n",
              "      <td>5.995011</td>\n",
              "      <td>1.488412</td>\n",
              "      <td>1.323110</td>\n",
              "      <td>0.653133</td>\n",
              "      <td>0.536747</td>\n",
              "      <td>0.172668</td>\n",
              "      <td>0.257042</td>\n",
              "      <td>1.656149</td>\n",
              "    </tr>\n",
              "    <tr>\n",
              "      <th>41</th>\n",
              "      <td>Malaysia</td>\n",
              "      <td>42</td>\n",
              "      <td>6.084</td>\n",
              "      <td>6.179980</td>\n",
              "      <td>5.988021</td>\n",
              "      <td>1.291215</td>\n",
              "      <td>1.284646</td>\n",
              "      <td>0.618784</td>\n",
              "      <td>0.402265</td>\n",
              "      <td>0.416609</td>\n",
              "      <td>0.065601</td>\n",
              "      <td>2.004449</td>\n",
              "    </tr>\n",
              "    <tr>\n",
              "      <th>42</th>\n",
              "      <td>Nicaragua</td>\n",
              "      <td>43</td>\n",
              "      <td>6.071</td>\n",
              "      <td>6.186584</td>\n",
              "      <td>5.955417</td>\n",
              "      <td>0.737299</td>\n",
              "      <td>1.287216</td>\n",
              "      <td>0.653096</td>\n",
              "      <td>0.447552</td>\n",
              "      <td>0.301674</td>\n",
              "      <td>0.130688</td>\n",
              "      <td>2.513931</td>\n",
              "    </tr>\n",
              "    <tr>\n",
              "      <th>43</th>\n",
              "      <td>Ecuador</td>\n",
              "      <td>44</td>\n",
              "      <td>6.008</td>\n",
              "      <td>6.105848</td>\n",
              "      <td>5.910152</td>\n",
              "      <td>1.000820</td>\n",
              "      <td>1.286169</td>\n",
              "      <td>0.685636</td>\n",
              "      <td>0.455198</td>\n",
              "      <td>0.150112</td>\n",
              "      <td>0.140135</td>\n",
              "      <td>2.290353</td>\n",
              "    </tr>\n",
              "    <tr>\n",
              "      <th>44</th>\n",
              "      <td>El Salvador</td>\n",
              "      <td>45</td>\n",
              "      <td>6.003</td>\n",
              "      <td>6.108635</td>\n",
              "      <td>5.897364</td>\n",
              "      <td>0.909784</td>\n",
              "      <td>1.182125</td>\n",
              "      <td>0.596019</td>\n",
              "      <td>0.432453</td>\n",
              "      <td>0.078258</td>\n",
              "      <td>0.089981</td>\n",
              "      <td>2.714594</td>\n",
              "    </tr>\n",
              "    <tr>\n",
              "      <th>45</th>\n",
              "      <td>Poland</td>\n",
              "      <td>46</td>\n",
              "      <td>5.973</td>\n",
              "      <td>6.053908</td>\n",
              "      <td>5.892092</td>\n",
              "      <td>1.291788</td>\n",
              "      <td>1.445712</td>\n",
              "      <td>0.699475</td>\n",
              "      <td>0.520342</td>\n",
              "      <td>0.158466</td>\n",
              "      <td>0.059308</td>\n",
              "      <td>1.797723</td>\n",
              "    </tr>\n",
              "    <tr>\n",
              "      <th>46</th>\n",
              "      <td>Uzbekistan</td>\n",
              "      <td>47</td>\n",
              "      <td>5.971</td>\n",
              "      <td>6.065538</td>\n",
              "      <td>5.876463</td>\n",
              "      <td>0.786441</td>\n",
              "      <td>1.548969</td>\n",
              "      <td>0.498273</td>\n",
              "      <td>0.658249</td>\n",
              "      <td>0.415984</td>\n",
              "      <td>0.246528</td>\n",
              "      <td>1.816914</td>\n",
              "    </tr>\n",
              "    <tr>\n",
              "      <th>47</th>\n",
              "      <td>Italy</td>\n",
              "      <td>48</td>\n",
              "      <td>5.964</td>\n",
              "      <td>6.042737</td>\n",
              "      <td>5.885264</td>\n",
              "      <td>1.395067</td>\n",
              "      <td>1.444923</td>\n",
              "      <td>0.853144</td>\n",
              "      <td>0.256451</td>\n",
              "      <td>0.172790</td>\n",
              "      <td>0.028028</td>\n",
              "      <td>1.813312</td>\n",
              "    </tr>\n",
              "    <tr>\n",
              "      <th>48</th>\n",
              "      <td>Russia</td>\n",
              "      <td>49</td>\n",
              "      <td>5.963</td>\n",
              "      <td>6.030275</td>\n",
              "      <td>5.895725</td>\n",
              "      <td>1.281778</td>\n",
              "      <td>1.469282</td>\n",
              "      <td>0.547349</td>\n",
              "      <td>0.373783</td>\n",
              "      <td>0.052264</td>\n",
              "      <td>0.032963</td>\n",
              "      <td>2.205607</td>\n",
              "    </tr>\n",
              "    <tr>\n",
              "      <th>49</th>\n",
              "      <td>Belize</td>\n",
              "      <td>50</td>\n",
              "      <td>5.956</td>\n",
              "      <td>6.197242</td>\n",
              "      <td>5.714757</td>\n",
              "      <td>0.907975</td>\n",
              "      <td>1.081418</td>\n",
              "      <td>0.450192</td>\n",
              "      <td>0.547509</td>\n",
              "      <td>0.240016</td>\n",
              "      <td>0.096581</td>\n",
              "      <td>2.631956</td>\n",
              "    </tr>\n",
              "    <tr>\n",
              "      <th>50</th>\n",
              "      <td>Japan</td>\n",
              "      <td>51</td>\n",
              "      <td>5.920</td>\n",
              "      <td>5.990719</td>\n",
              "      <td>5.849281</td>\n",
              "      <td>1.416915</td>\n",
              "      <td>1.436338</td>\n",
              "      <td>0.913476</td>\n",
              "      <td>0.505626</td>\n",
              "      <td>0.120573</td>\n",
              "      <td>0.163761</td>\n",
              "      <td>1.363224</td>\n",
              "    </tr>\n",
              "    <tr>\n",
              "      <th>51</th>\n",
              "      <td>Lithuania</td>\n",
              "      <td>52</td>\n",
              "      <td>5.902</td>\n",
              "      <td>5.982670</td>\n",
              "      <td>5.821330</td>\n",
              "      <td>1.314582</td>\n",
              "      <td>1.473516</td>\n",
              "      <td>0.628950</td>\n",
              "      <td>0.234232</td>\n",
              "      <td>0.010165</td>\n",
              "      <td>0.011866</td>\n",
              "      <td>2.228441</td>\n",
              "    </tr>\n",
              "    <tr>\n",
              "      <th>52</th>\n",
              "      <td>Algeria</td>\n",
              "      <td>53</td>\n",
              "      <td>5.872</td>\n",
              "      <td>5.978286</td>\n",
              "      <td>5.765714</td>\n",
              "      <td>1.091864</td>\n",
              "      <td>1.146217</td>\n",
              "      <td>0.617585</td>\n",
              "      <td>0.233336</td>\n",
              "      <td>0.069437</td>\n",
              "      <td>0.146096</td>\n",
              "      <td>2.567604</td>\n",
              "    </tr>\n",
              "    <tr>\n",
              "      <th>53</th>\n",
              "      <td>Latvia</td>\n",
              "      <td>54</td>\n",
              "      <td>5.850</td>\n",
              "      <td>5.920264</td>\n",
              "      <td>5.779736</td>\n",
              "      <td>1.260749</td>\n",
              "      <td>1.404715</td>\n",
              "      <td>0.638567</td>\n",
              "      <td>0.325708</td>\n",
              "      <td>0.153075</td>\n",
              "      <td>0.073843</td>\n",
              "      <td>1.993655</td>\n",
              "    </tr>\n",
              "    <tr>\n",
              "      <th>54</th>\n",
              "      <td>South Korea</td>\n",
              "      <td>55</td>\n",
              "      <td>5.838</td>\n",
              "      <td>5.922559</td>\n",
              "      <td>5.753441</td>\n",
              "      <td>1.401678</td>\n",
              "      <td>1.128274</td>\n",
              "      <td>0.900214</td>\n",
              "      <td>0.257922</td>\n",
              "      <td>0.206674</td>\n",
              "      <td>0.063283</td>\n",
              "      <td>1.880378</td>\n",
              "    </tr>\n",
              "    <tr>\n",
              "      <th>55</th>\n",
              "      <td>Moldova</td>\n",
              "      <td>56</td>\n",
              "      <td>5.838</td>\n",
              "      <td>5.908371</td>\n",
              "      <td>5.767629</td>\n",
              "      <td>0.728871</td>\n",
              "      <td>1.251826</td>\n",
              "      <td>0.589465</td>\n",
              "      <td>0.240729</td>\n",
              "      <td>0.208779</td>\n",
              "      <td>0.010091</td>\n",
              "      <td>2.807808</td>\n",
              "    </tr>\n",
              "    <tr>\n",
              "      <th>56</th>\n",
              "      <td>Romania</td>\n",
              "      <td>57</td>\n",
              "      <td>5.825</td>\n",
              "      <td>5.919694</td>\n",
              "      <td>5.730305</td>\n",
              "      <td>1.217684</td>\n",
              "      <td>1.150091</td>\n",
              "      <td>0.685158</td>\n",
              "      <td>0.457004</td>\n",
              "      <td>0.133520</td>\n",
              "      <td>0.004388</td>\n",
              "      <td>2.176831</td>\n",
              "    </tr>\n",
              "    <tr>\n",
              "      <th>57</th>\n",
              "      <td>Bolivia</td>\n",
              "      <td>58</td>\n",
              "      <td>5.823</td>\n",
              "      <td>5.903977</td>\n",
              "      <td>5.742023</td>\n",
              "      <td>0.833757</td>\n",
              "      <td>1.227619</td>\n",
              "      <td>0.473630</td>\n",
              "      <td>0.558733</td>\n",
              "      <td>0.225561</td>\n",
              "      <td>0.060478</td>\n",
              "      <td>2.443279</td>\n",
              "    </tr>\n",
              "    <tr>\n",
              "      <th>58</th>\n",
              "      <td>Turkmenistan</td>\n",
              "      <td>59</td>\n",
              "      <td>5.822</td>\n",
              "      <td>5.885181</td>\n",
              "      <td>5.758819</td>\n",
              "      <td>1.130777</td>\n",
              "      <td>1.493149</td>\n",
              "      <td>0.437726</td>\n",
              "      <td>0.418272</td>\n",
              "      <td>0.249925</td>\n",
              "      <td>0.259270</td>\n",
              "      <td>1.832910</td>\n",
              "    </tr>\n",
              "    <tr>\n",
              "      <th>59</th>\n",
              "      <td>Kazakhstan</td>\n",
              "      <td>60</td>\n",
              "      <td>5.819</td>\n",
              "      <td>5.903642</td>\n",
              "      <td>5.734358</td>\n",
              "      <td>1.284556</td>\n",
              "      <td>1.384369</td>\n",
              "      <td>0.606042</td>\n",
              "      <td>0.437454</td>\n",
              "      <td>0.201964</td>\n",
              "      <td>0.119283</td>\n",
              "      <td>1.784893</td>\n",
              "    </tr>\n",
              "  </tbody>\n",
              "</table>\n",
              "</div>"
            ],
            "text/plain": [
              "                     Country  ...  Dystopia.Residual\n",
              "0                     Norway  ...           2.277027\n",
              "1                    Denmark  ...           2.313707\n",
              "2                    Iceland  ...           2.322715\n",
              "3                Switzerland  ...           2.276716\n",
              "4                    Finland  ...           2.430182\n",
              "5                Netherlands  ...           2.294804\n",
              "6                     Canada  ...           2.187264\n",
              "7                New Zealand  ...           2.046456\n",
              "8                     Sweden  ...           2.097538\n",
              "9                  Australia  ...           2.065211\n",
              "10                    Israel  ...           2.801757\n",
              "11                Costa Rica  ...           2.898639\n",
              "12                   Austria  ...           2.138506\n",
              "13             United States  ...           2.218113\n",
              "14                   Ireland  ...           1.773869\n",
              "15                   Germany  ...           2.015770\n",
              "16                   Belgium  ...           2.124210\n",
              "17                Luxembourg  ...           1.619512\n",
              "18            United Kingdom  ...           1.704144\n",
              "19                     Chile  ...           2.509586\n",
              "20      United Arab Emirates  ...           1.734704\n",
              "21                    Brazil  ...           2.769267\n",
              "22            Czech Republic  ...           2.451862\n",
              "23                 Argentina  ...           2.614005\n",
              "24                    Mexico  ...           2.837155\n",
              "25                 Singapore  ...           1.216362\n",
              "26                     Malta  ...           1.556863\n",
              "27                   Uruguay  ...           2.172410\n",
              "28                 Guatemala  ...           2.893891\n",
              "29                    Panama  ...           2.307200\n",
              "30                    France  ...           2.005955\n",
              "31                  Thailand  ...           2.039508\n",
              "32  Taiwan Province of China  ...           2.126607\n",
              "33                     Spain  ...           1.927758\n",
              "34                     Qatar  ...           1.145464\n",
              "35                  Colombia  ...           2.616068\n",
              "36              Saudi Arabia  ...           2.065430\n",
              "37       Trinidad and Tobago  ...           2.053247\n",
              "38                    Kuwait  ...           1.640425\n",
              "39                  Slovakia  ...           2.097777\n",
              "40                   Bahrain  ...           1.656149\n",
              "41                  Malaysia  ...           2.004449\n",
              "42                 Nicaragua  ...           2.513931\n",
              "43                   Ecuador  ...           2.290353\n",
              "44               El Salvador  ...           2.714594\n",
              "45                    Poland  ...           1.797723\n",
              "46                Uzbekistan  ...           1.816914\n",
              "47                     Italy  ...           1.813312\n",
              "48                    Russia  ...           2.205607\n",
              "49                    Belize  ...           2.631956\n",
              "50                     Japan  ...           1.363224\n",
              "51                 Lithuania  ...           2.228441\n",
              "52                   Algeria  ...           2.567604\n",
              "53                    Latvia  ...           1.993655\n",
              "54               South Korea  ...           1.880378\n",
              "55                   Moldova  ...           2.807808\n",
              "56                   Romania  ...           2.176831\n",
              "57                   Bolivia  ...           2.443279\n",
              "58              Turkmenistan  ...           1.832910\n",
              "59                Kazakhstan  ...           1.784893\n",
              "\n",
              "[60 rows x 12 columns]"
            ]
          },
          "metadata": {
            "tags": []
          },
          "execution_count": 3
        }
      ]
    },
    {
      "cell_type": "code",
      "metadata": {
        "id": "-Rx17jfkHI4y",
        "colab_type": "code",
        "outputId": "716735c2-449e-4bb1-8d6f-f3ed5bc04398",
        "colab": {
          "base_uri": "https://localhost:8080/",
          "height": 316
        }
      },
      "source": [
        "sns.distplot(df['Happiness.Score'])"
      ],
      "execution_count": 4,
      "outputs": [
        {
          "output_type": "execute_result",
          "data": {
            "text/plain": [
              "<matplotlib.axes._subplots.AxesSubplot at 0x7f63c0a654a8>"
            ]
          },
          "metadata": {
            "tags": []
          },
          "execution_count": 4
        },
        {
          "output_type": "display_data",
          "data": {
            "image/png": "[encoded data removed]",
            "text/plain": [
              "<Figure size 432x288 with 1 Axes>"
            ]
          },
          "metadata": {
            "tags": []
          }
        }
      ]
    },
    {
      "cell_type": "code",
      "metadata": {
        "id": "3NzG7mmsHdXL",
        "colab_type": "code",
        "outputId": "50f9cdf5-269e-4ef8-a3b6-7221a34de65b",
        "colab": {
          "base_uri": "https://localhost:8080/",
          "height": 528
        }
      },
      "source": [
        "corrmat = df.corr()\n",
        "sns.color_palette('Paired')\n",
        "sns.heatmap(corrmat, vmax=.8, square=True, cmap='PiYG', center=0) # 히트맵 지도 그리기."
      ],
      "execution_count": 5,
      "outputs": [
        {
          "output_type": "execute_result",
          "data": {
            "text/plain": [
              "<matplotlib.axes._subplots.AxesSubplot at 0x7f63c0509208>"
            ]
          },
          "metadata": {
            "tags": []
          },
          "execution_count": 5
        },
        {
          "output_type": "display_data",
          "data": {
            "image/png": "[encoded data removed]",
            "text/plain": [
              "<Figure size 432x288 with 2 Axes>"
            ]
          },
          "metadata": {
            "tags": []
          }
        }
      ]
    },
    {
      "cell_type": "code",
      "metadata": {
        "id": "XFw-pjCBIZDh",
        "colab_type": "code",
        "outputId": "86e0a5cf-176a-489b-e292-062410ac8a8c",
        "colab": {
          "base_uri": "https://localhost:8080/",
          "height": 542
        }
      },
      "source": [
        "data = dict(type='choropleth', locations=df['Country'], locationmode='country names', z=df['Happiness.Rank'],\n",
        "            text=df['Country'],colorbar={'title':'Happiness'})\n",
        "layout = dict(title = 'Global Happiness 2017', geo=dict(showframe = False))\n",
        "choromap3 = go.Figure(data=[data], layout=layout)\n",
        "iplot(choromap3) # plotly.offline.iplot()_지도에 데이터를 표시함."
      ],
      "execution_count": 6,
      "outputs": [
        {
          "output_type": "display_data",
          "data": {
            "text/html": [
              "<div>\n",
              "        \n",
              "        \n",
              "            <div id=\"cfcc2a7b-8df7-4810-996a-858818d4ac14\" class=\"plotly-graph-div\" style=\"height:525px; width:100%;\"></div>\n",
              "            <script type=\"text/javascript\">\n",
              "                require([\"plotly\"], function(Plotly) {\n",
              "                    window.PLOTLYENV=window.PLOTLYENV || {};\n",
              "                    \n",
              "                if (document.getElementById(\"cfcc2a7b-8df7-4810-996a-858818d4ac14\")) {\n",
              "                    Plotly.newPlot(\n",
              "                        'cfcc2a7b-8df7-4810-996a-858818d4ac14',\n",
              "                        [{\"colorbar\": {\"title\": {\"text\": \"Happiness\"}}, \"locationmode\": \"country names\", \"locations\": [\"Norway\", \"Denmark\", \"Iceland\", \"Switzerland\", \"Finland\", \"Netherlands\", \"Canada\", \"New Zealand\", \"Sweden\", \"Australia\", \"Israel\", \"Costa Rica\", \"Austria\", \"United States\", \"Ireland\", \"Germany\", \"Belgium\", \"Luxembourg\", \"United Kingdom\", \"Chile\", \"United Arab Emirates\", \"Brazil\", \"Czech Republic\", \"Argentina\", \"Mexico\", \"Singapore\", \"Malta\", \"Uruguay\", \"Guatemala\", \"Panama\", \"France\", \"Thailand\", \"Taiwan Province of China\", \"Spain\", \"Qatar\", \"Colombia\", \"Saudi Arabia\", \"Trinidad and Tobago\", \"Kuwait\", \"Slovakia\", \"Bahrain\", \"Malaysia\", \"Nicaragua\", \"Ecuador\", \"El Salvador\", \"Poland\", \"Uzbekistan\", \"Italy\", \"Russia\", \"Belize\", \"Japan\", \"Lithuania\", \"Algeria\", \"Latvia\", \"South Korea\", \"Moldova\", \"Romania\", \"Bolivia\", \"Turkmenistan\", \"Kazakhstan\", \"North Cyprus\", \"Slovenia\", \"Peru\", \"Mauritius\", \"Cyprus\", \"Estonia\", \"Belarus\", \"Libya\", \"Turkey\", \"Paraguay\", \"Hong Kong S.A.R., China\", \"Philippines\", \"Serbia\", \"Jordan\", \"Hungary\", \"Jamaica\", \"Croatia\", \"Kosovo\", \"China\", \"Pakistan\", \"Indonesia\", \"Venezuela\", \"Montenegro\", \"Morocco\", \"Azerbaijan\", \"Dominican Republic\", \"Greece\", \"Lebanon\", \"Portugal\", \"Bosnia and Herzegovina\", \"Honduras\", \"Macedonia\", \"Somalia\", \"Vietnam\", \"Nigeria\", \"Tajikistan\", \"Bhutan\", \"Kyrgyzstan\", \"Nepal\", \"Mongolia\", \"South Africa\", \"Tunisia\", \"Palestinian Territories\", \"Egypt\", \"Bulgaria\", \"Sierra Leone\", \"Cameroon\", \"Iran\", \"Albania\", \"Bangladesh\", \"Namibia\", \"Kenya\", \"Mozambique\", \"Myanmar\", \"Senegal\", \"Zambia\", \"Iraq\", \"Gabon\", \"Ethiopia\", \"Sri Lanka\", \"Armenia\", \"India\", \"Mauritania\", \"Congo (Brazzaville)\", \"Georgia\", \"Congo (Kinshasa)\", \"Mali\", \"Ivory Coast\", \"Cambodia\", \"Sudan\", \"Ghana\", \"Ukraine\", \"Uganda\", \"Burkina Faso\", \"Niger\", \"Malawi\", \"Chad\", \"Zimbabwe\", \"Lesotho\", \"Angola\", \"Afghanistan\", \"Botswana\", \"Benin\", \"Madagascar\", \"Haiti\", \"Yemen\", \"South Sudan\", \"Liberia\", \"Guinea\", \"Togo\", \"Rwanda\", \"Syria\", \"Tanzania\", \"Burundi\", \"Central African Republic\"], \"text\": [\"Norway\", \"Denmark\", \"Iceland\", \"Switzerland\", \"Finland\", \"Netherlands\", \"Canada\", \"New Zealand\", \"Sweden\", \"Australia\", \"Israel\", \"Costa Rica\", \"Austria\", \"United States\", \"Ireland\", \"Germany\", \"Belgium\", \"Luxembourg\", \"United Kingdom\", \"Chile\", \"United Arab Emirates\", \"Brazil\", \"Czech Republic\", \"Argentina\", \"Mexico\", \"Singapore\", \"Malta\", \"Uruguay\", \"Guatemala\", \"Panama\", \"France\", \"Thailand\", \"Taiwan Province of China\", \"Spain\", \"Qatar\", \"Colombia\", \"Saudi Arabia\", \"Trinidad and Tobago\", \"Kuwait\", \"Slovakia\", \"Bahrain\", \"Malaysia\", \"Nicaragua\", \"Ecuador\", \"El Salvador\", \"Poland\", \"Uzbekistan\", \"Italy\", \"Russia\", \"Belize\", \"Japan\", \"Lithuania\", \"Algeria\", \"Latvia\", \"South Korea\", \"Moldova\", \"Romania\", \"Bolivia\", \"Turkmenistan\", \"Kazakhstan\", \"North Cyprus\", \"Slovenia\", \"Peru\", \"Mauritius\", \"Cyprus\", \"Estonia\", \"Belarus\", \"Libya\", \"Turkey\", \"Paraguay\", \"Hong Kong S.A.R., China\", \"Philippines\", \"Serbia\", \"Jordan\", \"Hungary\", \"Jamaica\", \"Croatia\", \"Kosovo\", \"China\", \"Pakistan\", \"Indonesia\", \"Venezuela\", \"Montenegro\", \"Morocco\", \"Azerbaijan\", \"Dominican Republic\", \"Greece\", \"Lebanon\", \"Portugal\", \"Bosnia and Herzegovina\", \"Honduras\", \"Macedonia\", \"Somalia\", \"Vietnam\", \"Nigeria\", \"Tajikistan\", \"Bhutan\", \"Kyrgyzstan\", \"Nepal\", \"Mongolia\", \"South Africa\", \"Tunisia\", \"Palestinian Territories\", \"Egypt\", \"Bulgaria\", \"Sierra Leone\", \"Cameroon\", \"Iran\", \"Albania\", \"Bangladesh\", \"Namibia\", \"Kenya\", \"Mozambique\", \"Myanmar\", \"Senegal\", \"Zambia\", \"Iraq\", \"Gabon\", \"Ethiopia\", \"Sri Lanka\", \"Armenia\", \"India\", \"Mauritania\", \"Congo (Brazzaville)\", \"Georgia\", \"Congo (Kinshasa)\", \"Mali\", \"Ivory Coast\", \"Cambodia\", \"Sudan\", \"Ghana\", \"Ukraine\", \"Uganda\", \"Burkina Faso\", \"Niger\", \"Malawi\", \"Chad\", \"Zimbabwe\", \"Lesotho\", \"Angola\", \"Afghanistan\", \"Botswana\", \"Benin\", \"Madagascar\", \"Haiti\", \"Yemen\", \"South Sudan\", \"Liberia\", \"Guinea\", \"Togo\", \"Rwanda\", \"Syria\", \"Tanzania\", \"Burundi\", \"Central African Republic\"], \"type\": \"choropleth\", \"z\": [1, 2, 3, 4, 5, 6, 7, 8, 9, 10, 11, 12, 13, 14, 15, 16, 17, 18, 19, 20, 21, 22, 23, 24, 25, 26, 27, 28, 29, 30, 31, 32, 33, 34, 35, 36, 37, 38, 39, 40, 41, 42, 43, 44, 45, 46, 47, 48, 49, 50, 51, 52, 53, 54, 55, 56, 57, 58, 59, 60, 61, 62, 63, 64, 65, 66, 67, 68, 69, 70, 71, 72, 73, 74, 75, 76, 77, 78, 79, 80, 81, 82, 83, 84, 85, 86, 87, 88, 89, 90, 91, 92, 93, 94, 95, 96, 97, 98, 99, 100, 101, 102, 103, 104, 105, 106, 107, 108, 109, 110, 111, 112, 113, 114, 115, 116, 117, 118, 119, 120, 121, 122, 123, 124, 125, 126, 127, 128, 129, 130, 131, 132, 133, 134, 135, 136, 137, 138, 139, 140, 141, 142, 143, 144, 145, 146, 147, 148, 149, 150, 151, 152, 153, 154, 155]}],\n",
              "                        {\"geo\": {\"showframe\": false}, \"template\": {\"data\": {\"bar\": [{\"error_x\": {\"color\": \"#2a3f5f\"}, \"error_y\": {\"color\": \"#2a3f5f\"}, \"marker\": {\"line\": {\"color\": \"#E5ECF6\", \"width\": 0.5}}, \"type\": \"bar\"}], \"barpolar\": [{\"marker\": {\"line\": {\"color\": \"#E5ECF6\", \"width\": 0.5}}, \"type\": \"barpolar\"}], \"carpet\": [{\"aaxis\": {\"endlinecolor\": \"#2a3f5f\", \"gridcolor\": \"white\", \"linecolor\": \"white\", \"minorgridcolor\": \"white\", \"startlinecolor\": \"#2a3f5f\"}, \"baxis\": {\"endlinecolor\": \"#2a3f5f\", \"gridcolor\": \"white\", \"linecolor\": \"white\", \"minorgridcolor\": \"white\", \"startlinecolor\": \"#2a3f5f\"}, \"type\": \"carpet\"}], \"choropleth\": [{\"colorbar\": {\"outlinewidth\": 0, \"ticks\": \"\"}, \"type\": \"choropleth\"}], \"contour\": [{\"colorbar\": {\"outlinewidth\": 0, \"ticks\": \"\"}, \"colorscale\": [[0.0, \"#0d0887\"], [0.1111111111111111, \"#46039f\"], [0.2222222222222222, \"#7201a8\"], [0.3333333333333333, \"#9c179e\"], [0.4444444444444444, \"#bd3786\"], [0.5555555555555556, \"#d8576b\"], [0.6666666666666666, \"#ed7953\"], [0.7777777777777778, \"#fb9f3a\"], [0.8888888888888888, \"#fdca26\"], [1.0, \"#f0f921\"]], \"type\": \"contour\"}], \"contourcarpet\": [{\"colorbar\": {\"outlinewidth\": 0, \"ticks\": \"\"}, \"type\": \"contourcarpet\"}], \"heatmap\": [{\"colorbar\": {\"outlinewidth\": 0, \"ticks\": \"\"}, \"colorscale\": [[0.0, \"#0d0887\"], [0.1111111111111111, \"#46039f\"], [0.2222222222222222, \"#7201a8\"], [0.3333333333333333, \"#9c179e\"], [0.4444444444444444, \"#bd3786\"], [0.5555555555555556, \"#d8576b\"], [0.6666666666666666, \"#ed7953\"], [0.7777777777777778, \"#fb9f3a\"], [0.8888888888888888, \"#fdca26\"], [1.0, \"#f0f921\"]], \"type\": \"heatmap\"}], \"heatmapgl\": [{\"colorbar\": {\"outlinewidth\": 0, \"ticks\": \"\"}, \"colorscale\": [[0.0, \"#0d0887\"], [0.1111111111111111, \"#46039f\"], [0.2222222222222222, \"#7201a8\"], [0.3333333333333333, \"#9c179e\"], [0.4444444444444444, \"#bd3786\"], [0.5555555555555556, \"#d8576b\"], [0.6666666666666666, \"#ed7953\"], [0.7777777777777778, \"#fb9f3a\"], [0.8888888888888888, \"#fdca26\"], [1.0, \"#f0f921\"]], \"type\": \"heatmapgl\"}], \"histogram\": [{\"marker\": {\"colorbar\": {\"outlinewidth\": 0, \"ticks\": \"\"}}, \"type\": \"histogram\"}], \"histogram2d\": [{\"colorbar\": {\"outlinewidth\": 0, \"ticks\": \"\"}, \"colorscale\": [[0.0, \"#0d0887\"], [0.1111111111111111, \"#46039f\"], [0.2222222222222222, \"#7201a8\"], [0.3333333333333333, \"#9c179e\"], [0.4444444444444444, \"#bd3786\"], [0.5555555555555556, \"#d8576b\"], [0.6666666666666666, \"#ed7953\"], [0.7777777777777778, \"#fb9f3a\"], [0.8888888888888888, \"#fdca26\"], [1.0, \"#f0f921\"]], \"type\": \"histogram2d\"}], \"histogram2dcontour\": [{\"colorbar\": {\"outlinewidth\": 0, \"ticks\": \"\"}, \"colorscale\": [[0.0, \"#0d0887\"], [0.1111111111111111, \"#46039f\"], [0.2222222222222222, \"#7201a8\"], [0.3333333333333333, \"#9c179e\"], [0.4444444444444444, \"#bd3786\"], [0.5555555555555556, \"#d8576b\"], [0.6666666666666666, \"#ed7953\"], [0.7777777777777778, \"#fb9f3a\"], [0.8888888888888888, \"#fdca26\"], [1.0, \"#f0f921\"]], \"type\": \"histogram2dcontour\"}], \"mesh3d\": [{\"colorbar\": {\"outlinewidth\": 0, \"ticks\": \"\"}, \"type\": \"mesh3d\"}], \"parcoords\": [{\"line\": {\"colorbar\": {\"outlinewidth\": 0, \"ticks\": \"\"}}, \"type\": \"parcoords\"}], \"pie\": [{\"automargin\": true, \"type\": \"pie\"}], \"scatter\": [{\"marker\": {\"colorbar\": {\"outlinewidth\": 0, \"ticks\": \"\"}}, \"type\": \"scatter\"}], \"scatter3d\": [{\"line\": {\"colorbar\": {\"outlinewidth\": 0, \"ticks\": \"\"}}, \"marker\": {\"colorbar\": {\"outlinewidth\": 0, \"ticks\": \"\"}}, \"type\": \"scatter3d\"}], \"scattercarpet\": [{\"marker\": {\"colorbar\": {\"outlinewidth\": 0, \"ticks\": \"\"}}, \"type\": \"scattercarpet\"}], \"scattergeo\": [{\"marker\": {\"colorbar\": {\"outlinewidth\": 0, \"ticks\": \"\"}}, \"type\": \"scattergeo\"}], \"scattergl\": [{\"marker\": {\"colorbar\": {\"outlinewidth\": 0, \"ticks\": \"\"}}, \"type\": \"scattergl\"}], \"scattermapbox\": [{\"marker\": {\"colorbar\": {\"outlinewidth\": 0, \"ticks\": \"\"}}, \"type\": \"scattermapbox\"}], \"scatterpolar\": [{\"marker\": {\"colorbar\": {\"outlinewidth\": 0, \"ticks\": \"\"}}, \"type\": \"scatterpolar\"}], \"scatterpolargl\": [{\"marker\": {\"colorbar\": {\"outlinewidth\": 0, \"ticks\": \"\"}}, \"type\": \"scatterpolargl\"}], \"scatterternary\": [{\"marker\": {\"colorbar\": {\"outlinewidth\": 0, \"ticks\": \"\"}}, \"type\": \"scatterternary\"}], \"surface\": [{\"colorbar\": {\"outlinewidth\": 0, \"ticks\": \"\"}, \"colorscale\": [[0.0, \"#0d0887\"], [0.1111111111111111, \"#46039f\"], [0.2222222222222222, \"#7201a8\"], [0.3333333333333333, \"#9c179e\"], [0.4444444444444444, \"#bd3786\"], [0.5555555555555556, \"#d8576b\"], [0.6666666666666666, \"#ed7953\"], [0.7777777777777778, \"#fb9f3a\"], [0.8888888888888888, \"#fdca26\"], [1.0, \"#f0f921\"]], \"type\": \"surface\"}], \"table\": [{\"cells\": {\"fill\": {\"color\": \"#EBF0F8\"}, \"line\": {\"color\": \"white\"}}, \"header\": {\"fill\": {\"color\": \"#C8D4E3\"}, \"line\": {\"color\": \"white\"}}, \"type\": \"table\"}]}, \"layout\": {\"annotationdefaults\": {\"arrowcolor\": \"#2a3f5f\", \"arrowhead\": 0, \"arrowwidth\": 1}, \"coloraxis\": {\"colorbar\": {\"outlinewidth\": 0, \"ticks\": \"\"}}, \"colorscale\": {\"diverging\": [[0, \"#8e0152\"], [0.1, \"#c51b7d\"], [0.2, \"#de77ae\"], [0.3, \"#f1b6da\"], [0.4, \"#fde0ef\"], [0.5, \"#f7f7f7\"], [0.6, \"#e6f5d0\"], [0.7, \"#b8e186\"], [0.8, \"#7fbc41\"], [0.9, \"#4d9221\"], [1, \"#276419\"]], \"sequential\": [[0.0, \"#0d0887\"], [0.1111111111111111, \"#46039f\"], [0.2222222222222222, \"#7201a8\"], [0.3333333333333333, \"#9c179e\"], [0.4444444444444444, \"#bd3786\"], [0.5555555555555556, \"#d8576b\"], [0.6666666666666666, \"#ed7953\"], [0.7777777777777778, \"#fb9f3a\"], [0.8888888888888888, \"#fdca26\"], [1.0, \"#f0f921\"]], \"sequentialminus\": [[0.0, \"#0d0887\"], [0.1111111111111111, \"#46039f\"], [0.2222222222222222, \"#7201a8\"], [0.3333333333333333, \"#9c179e\"], [0.4444444444444444, \"#bd3786\"], [0.5555555555555556, \"#d8576b\"], [0.6666666666666666, \"#ed7953\"], [0.7777777777777778, \"#fb9f3a\"], [0.8888888888888888, \"#fdca26\"], [1.0, \"#f0f921\"]]}, \"colorway\": [\"#636efa\", \"#EF553B\", \"#00cc96\", \"#ab63fa\", \"#FFA15A\", \"#19d3f3\", \"#FF6692\", \"#B6E880\", \"#FF97FF\", \"#FECB52\"], \"font\": {\"color\": \"#2a3f5f\"}, \"geo\": {\"bgcolor\": \"white\", \"lakecolor\": \"white\", \"landcolor\": \"#E5ECF6\", \"showlakes\": true, \"showland\": true, \"subunitcolor\": \"white\"}, \"hoverlabel\": {\"align\": \"left\"}, \"hovermode\": \"closest\", \"mapbox\": {\"style\": \"light\"}, \"paper_bgcolor\": \"white\", \"plot_bgcolor\": \"#E5ECF6\", \"polar\": {\"angularaxis\": {\"gridcolor\": \"white\", \"linecolor\": \"white\", \"ticks\": \"\"}, \"bgcolor\": \"#E5ECF6\", \"radialaxis\": {\"gridcolor\": \"white\", \"linecolor\": \"white\", \"ticks\": \"\"}}, \"scene\": {\"xaxis\": {\"backgroundcolor\": \"#E5ECF6\", \"gridcolor\": \"white\", \"gridwidth\": 2, \"linecolor\": \"white\", \"showbackground\": true, \"ticks\": \"\", \"zerolinecolor\": \"white\"}, \"yaxis\": {\"backgroundcolor\": \"#E5ECF6\", \"gridcolor\": \"white\", \"gridwidth\": 2, \"linecolor\": \"white\", \"showbackground\": true, \"ticks\": \"\", \"zerolinecolor\": \"white\"}, \"zaxis\": {\"backgroundcolor\": \"#E5ECF6\", \"gridcolor\": \"white\", \"gridwidth\": 2, \"linecolor\": \"white\", \"showbackground\": true, \"ticks\": \"\", \"zerolinecolor\": \"white\"}}, \"shapedefaults\": {\"line\": {\"color\": \"#2a3f5f\"}}, \"ternary\": {\"aaxis\": {\"gridcolor\": \"white\", \"linecolor\": \"white\", \"ticks\": \"\"}, \"baxis\": {\"gridcolor\": \"white\", \"linecolor\": \"white\", \"ticks\": \"\"}, \"bgcolor\": \"#E5ECF6\", \"caxis\": {\"gridcolor\": \"white\", \"linecolor\": \"white\", \"ticks\": \"\"}}, \"title\": {\"x\": 0.05}, \"xaxis\": {\"automargin\": true, \"gridcolor\": \"white\", \"linecolor\": \"white\", \"ticks\": \"\", \"title\": {\"standoff\": 15}, \"zerolinecolor\": \"white\", \"zerolinewidth\": 2}, \"yaxis\": {\"automargin\": true, \"gridcolor\": \"white\", \"linecolor\": \"white\", \"ticks\": \"\", \"title\": {\"standoff\": 15}, \"zerolinecolor\": \"white\", \"zerolinewidth\": 2}}}, \"title\": {\"text\": \"Global Happiness 2017\"}},\n",
              "                        {\"responsive\": true}\n",
              "                    ).then(function(){\n",
              "                            \n",
              "var gd = document.getElementById('cfcc2a7b-8df7-4810-996a-858818d4ac14');\n",
              "var x = new MutationObserver(function (mutations, observer) {{\n",
              "        var display = window.getComputedStyle(gd).display;\n",
              "        if (!display || display === 'none') {{\n",
              "            console.log([gd, 'removed!']);\n",
              "            Plotly.purge(gd);\n",
              "            observer.disconnect();\n",
              "        }}\n",
              "}});\n",
              "\n",
              "// Listen for the removal of the full notebook cells\n",
              "var notebookContainer = gd.closest('#notebook-container');\n",
              "if (notebookContainer) {{\n",
              "    x.observe(notebookContainer, {childList: true});\n",
              "}}\n",
              "\n",
              "// Listen for the clearing of the current output cell\n",
              "var outputEl = gd.closest('.output');\n",
              "if (outputEl) {{\n",
              "    x.observe(outputEl, {childList: true});\n",
              "}}\n",
              "\n",
              "                        })\n",
              "                };\n",
              "                });\n",
              "            </script>\n",
              "        </div>"
            ],
            "application/vnd.plotly.v1+json": {
              "data": [
                {
                  "text": [
                    "Norway",
                    "Denmark",
                    "Iceland",
                    "Switzerland",
                    "Finland",
                    "Netherlands",
                    "Canada",
                    "New Zealand",
                    "Sweden",
                    "Australia",
                    "Israel",
                    "Costa Rica",
                    "Austria",
                    "United States",
                    "Ireland",
                    "Germany",
                    "Belgium",
                    "Luxembourg",
                    "United Kingdom",
                    "Chile",
                    "United Arab Emirates",
                    "Brazil",
                    "Czech Republic",
                    "Argentina",
                    "Mexico",
                    "Singapore",
                    "Malta",
                    "Uruguay",
                    "Guatemala",
                    "Panama",
                    "France",
                    "Thailand",
                    "Taiwan Province of China",
                    "Spain",
                    "Qatar",
                    "Colombia",
                    "Saudi Arabia",
                    "Trinidad and Tobago",
                    "Kuwait",
                    "Slovakia",
                    "Bahrain",
                    "Malaysia",
                    "Nicaragua",
                    "Ecuador",
                    "El Salvador",
                    "Poland",
                    "Uzbekistan",
                    "Italy",
                    "Russia",
                    "Belize",
                    "Japan",
                    "Lithuania",
                    "Algeria",
                    "Latvia",
                    "South Korea",
                    "Moldova",
                    "Romania",
                    "Bolivia",
                    "Turkmenistan",
                    "Kazakhstan",
                    "North Cyprus",
                    "Slovenia",
                    "Peru",
                    "Mauritius",
                    "Cyprus",
                    "Estonia",
                    "Belarus",
                    "Libya",
                    "Turkey",
                    "Paraguay",
                    "Hong Kong S.A.R., China",
                    "Philippines",
                    "Serbia",
                    "Jordan",
                    "Hungary",
                    "Jamaica",
                    "Croatia",
                    "Kosovo",
                    "China",
                    "Pakistan",
                    "Indonesia",
                    "Venezuela",
                    "Montenegro",
                    "Morocco",
                    "Azerbaijan",
                    "Dominican Republic",
                    "Greece",
                    "Lebanon",
                    "Portugal",
                    "Bosnia and Herzegovina",
                    "Honduras",
                    "Macedonia",
                    "Somalia",
                    "Vietnam",
                    "Nigeria",
                    "Tajikistan",
                    "Bhutan",
                    "Kyrgyzstan",
                    "Nepal",
                    "Mongolia",
                    "South Africa",
                    "Tunisia",
                    "Palestinian Territories",
                    "Egypt",
                    "Bulgaria",
                    "Sierra Leone",
                    "Cameroon",
                    "Iran",
                    "Albania",
                    "Bangladesh",
                    "Namibia",
                    "Kenya",
                    "Mozambique",
                    "Myanmar",
                    "Senegal",
                    "Zambia",
                    "Iraq",
                    "Gabon",
                    "Ethiopia",
                    "Sri Lanka",
                    "Armenia",
                    "India",
                    "Mauritania",
                    "Congo (Brazzaville)",
                    "Georgia",
                    "Congo (Kinshasa)",
                    "Mali",
                    "Ivory Coast",
                    "Cambodia",
                    "Sudan",
                    "Ghana",
                    "Ukraine",
                    "Uganda",
                    "Burkina Faso",
                    "Niger",
                    "Malawi",
                    "Chad",
                    "Zimbabwe",
                    "Lesotho",
                    "Angola",
                    "Afghanistan",
                    "Botswana",
                    "Benin",
                    "Madagascar",
                    "Haiti",
                    "Yemen",
                    "South Sudan",
                    "Liberia",
                    "Guinea",
                    "Togo",
                    "Rwanda",
                    "Syria",
                    "Tanzania",
                    "Burundi",
                    "Central African Republic"
                  ],
                  "locations": [
                    "Norway",
                    "Denmark",
                    "Iceland",
                    "Switzerland",
                    "Finland",
                    "Netherlands",
                    "Canada",
                    "New Zealand",
                    "Sweden",
                    "Australia",
                    "Israel",
                    "Costa Rica",
                    "Austria",
                    "United States",
                    "Ireland",
                    "Germany",
                    "Belgium",
                    "Luxembourg",
                    "United Kingdom",
                    "Chile",
                    "United Arab Emirates",
                    "Brazil",
                    "Czech Republic",
                    "Argentina",
                    "Mexico",
                    "Singapore",
                    "Malta",
                    "Uruguay",
                    "Guatemala",
                    "Panama",
                    "France",
                    "Thailand",
                    "Taiwan Province of China",
                    "Spain",
                    "Qatar",
                    "Colombia",
                    "Saudi Arabia",
                    "Trinidad and Tobago",
                    "Kuwait",
                    "Slovakia",
                    "Bahrain",
                    "Malaysia",
                    "Nicaragua",
                    "Ecuador",
                    "El Salvador",
                    "Poland",
                    "Uzbekistan",
                    "Italy",
                    "Russia",
                    "Belize",
                    "Japan",
                    "Lithuania",
                    "Algeria",
                    "Latvia",
                    "South Korea",
                    "Moldova",
                    "Romania",
                    "Bolivia",
                    "Turkmenistan",
                    "Kazakhstan",
                    "North Cyprus",
                    "Slovenia",
                    "Peru",
                    "Mauritius",
                    "Cyprus",
                    "Estonia",
                    "Belarus",
                    "Libya",
                    "Turkey",
                    "Paraguay",
                    "Hong Kong S.A.R., China",
                    "Philippines",
                    "Serbia",
                    "Jordan",
                    "Hungary",
                    "Jamaica",
                    "Croatia",
                    "Kosovo",
                    "China",
                    "Pakistan",
                    "Indonesia",
                    "Venezuela",
                    "Montenegro",
                    "Morocco",
                    "Azerbaijan",
                    "Dominican Republic",
                    "Greece",
                    "Lebanon",
                    "Portugal",
                    "Bosnia and Herzegovina",
                    "Honduras",
                    "Macedonia",
                    "Somalia",
                    "Vietnam",
                    "Nigeria",
                    "Tajikistan",
                    "Bhutan",
                    "Kyrgyzstan",
                    "Nepal",
                    "Mongolia",
                    "South Africa",
                    "Tunisia",
                    "Palestinian Territories",
                    "Egypt",
                    "Bulgaria",
                    "Sierra Leone",
                    "Cameroon",
                    "Iran",
                    "Albania",
                    "Bangladesh",
                    "Namibia",
                    "Kenya",
                    "Mozambique",
                    "Myanmar",
                    "Senegal",
                    "Zambia",
                    "Iraq",
                    "Gabon",
                    "Ethiopia",
                    "Sri Lanka",
                    "Armenia",
                    "India",
                    "Mauritania",
                    "Congo (Brazzaville)",
                    "Georgia",
                    "Congo (Kinshasa)",
                    "Mali",
                    "Ivory Coast",
                    "Cambodia",
                    "Sudan",
                    "Ghana",
                    "Ukraine",
                    "Uganda",
                    "Burkina Faso",
                    "Niger",
                    "Malawi",
                    "Chad",
                    "Zimbabwe",
                    "Lesotho",
                    "Angola",
                    "Afghanistan",
                    "Botswana",
                    "Benin",
                    "Madagascar",
                    "Haiti",
                    "Yemen",
                    "South Sudan",
                    "Liberia",
                    "Guinea",
                    "Togo",
                    "Rwanda",
                    "Syria",
                    "Tanzania",
                    "Burundi",
                    "Central African Republic"
                  ],
                  "colorbar": {
                    "title": {
                      "text": "Happiness"
                    }
                  },
                  "type": "choropleth",
                  "z": [
                    1,
                    2,
                    3,
                    4,
                    5,
                    6,
                    7,
                    8,
                    9,
                    10,
                    11,
                    12,
                    13,
                    14,
                    15,
                    16,
                    17,
                    18,
                    19,
                    20,
                    21,
                    22,
                    23,
                    24,
                    25,
                    26,
                    27,
                    28,
                    29,
                    30,
                    31,
                    32,
                    33,
                    34,
                    35,
                    36,
                    37,
                    38,
                    39,
                    40,
                    41,
                    42,
                    43,
                    44,
                    45,
                    46,
                    47,
                    48,
                    49,
                    50,
                    51,
                    52,
                    53,
                    54,
                    55,
                    56,
                    57,
                    58,
                    59,
                    60,
                    61,
                    62,
                    63,
                    64,
                    65,
                    66,
                    67,
                    68,
                    69,
                    70,
                    71,
                    72,
                    73,
                    74,
                    75,
                    76,
                    77,
                    78,
                    79,
                    80,
                    81,
                    82,
                    83,
                    84,
                    85,
                    86,
                    87,
                    88,
                    89,
                    90,
                    91,
                    92,
                    93,
                    94,
                    95,
                    96,
                    97,
                    98,
                    99,
                    100,
                    101,
                    102,
                    103,
                    104,
                    105,
                    106,
                    107,
                    108,
                    109,
                    110,
                    111,
                    112,
                    113,
                    114,
                    115,
                    116,
                    117,
                    118,
                    119,
                    120,
                    121,
                    122,
                    123,
                    124,
                    125,
                    126,
                    127,
                    128,
                    129,
                    130,
                    131,
                    132,
                    133,
                    134,
                    135,
                    136,
                    137,
                    138,
                    139,
                    140,
                    141,
                    142,
                    143,
                    144,
                    145,
                    146,
                    147,
                    148,
                    149,
                    150,
                    151,
                    152,
                    153,
                    154,
                    155
                  ],
                  "locationmode": "country names"
                }
              ],
              "config": {
                "plotlyServerURL": "https://plot.ly",
                "linkText": "Export to plot.ly",
                "showLink": false
              },
              "layout": {
                "geo": {
                  "showframe": false
                },
                "template": {
                  "layout": {
                    "shapedefaults": {
                      "line": {
                        "color": "#2a3f5f"
                      }
                    },
                    "polar": {
                      "radialaxis": {
                        "ticks": "",
                        "gridcolor": "white",
                        "linecolor": "white"
                      },
                      "bgcolor": "#E5ECF6",
                      "angularaxis": {
                        "ticks": "",
                        "gridcolor": "white",
                        "linecolor": "white"
                      }
                    },
                    "colorway": [
                      "#636efa",
                      "#EF553B",
                      "#00cc96",
                      "#ab63fa",
                      "#FFA15A",
                      "#19d3f3",
                      "#FF6692",
                      "#B6E880",
                      "#FF97FF",
                      "#FECB52"
                    ],
                    "xaxis": {
                      "automargin": true,
                      "title": {
                        "standoff": 15
                      },
                      "zerolinewidth": 2,
                      "ticks": "",
                      "zerolinecolor": "white",
                      "gridcolor": "white",
                      "linecolor": "white"
                    },
                    "colorscale": {
                      "diverging": [
                        [
                          0,
                          "#8e0152"
                        ],
                        [
                          0.1,
                          "#c51b7d"
                        ],
                        [
                          0.2,
                          "#de77ae"
                        ],
                        [
                          0.3,
                          "#f1b6da"
                        ],
                        [
                          0.4,
                          "#fde0ef"
                        ],
                        [
                          0.5,
                          "#f7f7f7"
                        ],
                        [
                          0.6,
                          "#e6f5d0"
                        ],
                        [
                          0.7,
                          "#b8e186"
                        ],
                        [
                          0.8,
                          "#7fbc41"
                        ],
                        [
                          0.9,
                          "#4d9221"
                        ],
                        [
                          1,
                          "#276419"
                        ]
                      ],
                      "sequential": [
                        [
                          0,
                          "#0d0887"
                        ],
                        [
                          0.1111111111111111,
                          "#46039f"
                        ],
                        [
                          0.2222222222222222,
                          "#7201a8"
                        ],
                        [
                          0.3333333333333333,
                          "#9c179e"
                        ],
                        [
                          0.4444444444444444,
                          "#bd3786"
                        ],
                        [
                          0.5555555555555556,
                          "#d8576b"
                        ],
                        [
                          0.6666666666666666,
                          "#ed7953"
                        ],
                        [
                          0.7777777777777778,
                          "#fb9f3a"
                        ],
                        [
                          0.8888888888888888,
                          "#fdca26"
                        ],
                        [
                          1,
                          "#f0f921"
                        ]
                      ],
                      "sequentialminus": [
                        [
                          0,
                          "#0d0887"
                        ],
                        [
                          0.1111111111111111,
                          "#46039f"
                        ],
                        [
                          0.2222222222222222,
                          "#7201a8"
                        ],
                        [
                          0.3333333333333333,
                          "#9c179e"
                        ],
                        [
                          0.4444444444444444,
                          "#bd3786"
                        ],
                        [
                          0.5555555555555556,
                          "#d8576b"
                        ],
                        [
                          0.6666666666666666,
                          "#ed7953"
                        ],
                        [
                          0.7777777777777778,
                          "#fb9f3a"
                        ],
                        [
                          0.8888888888888888,
                          "#fdca26"
                        ],
                        [
                          1,
                          "#f0f921"
                        ]
                      ]
                    },
                    "paper_bgcolor": "white",
                    "plot_bgcolor": "#E5ECF6",
                    "title": {
                      "x": 0.05
                    },
                    "scene": {
                      "zaxis": {
                        "backgroundcolor": "#E5ECF6",
                        "ticks": "",
                        "gridwidth": 2,
                        "showbackground": true,
                        "zerolinecolor": "white",
                        "gridcolor": "white",
                        "linecolor": "white"
                      },
                      "xaxis": {
                        "backgroundcolor": "#E5ECF6",
                        "ticks": "",
                        "gridwidth": 2,
                        "showbackground": true,
                        "zerolinecolor": "white",
                        "gridcolor": "white",
                        "linecolor": "white"
                      },
                      "yaxis": {
                        "backgroundcolor": "#E5ECF6",
                        "ticks": "",
                        "gridwidth": 2,
                        "showbackground": true,
                        "zerolinecolor": "white",
                        "gridcolor": "white",
                        "linecolor": "white"
                      }
                    },
                    "yaxis": {
                      "automargin": true,
                      "title": {
                        "standoff": 15
                      },
                      "zerolinewidth": 2,
                      "ticks": "",
                      "zerolinecolor": "white",
                      "gridcolor": "white",
                      "linecolor": "white"
                    },
                    "annotationdefaults": {
                      "arrowwidth": 1,
                      "arrowhead": 0,
                      "arrowcolor": "#2a3f5f"
                    },
                    "hoverlabel": {
                      "align": "left"
                    },
                    "ternary": {
                      "bgcolor": "#E5ECF6",
                      "baxis": {
                        "ticks": "",
                        "gridcolor": "white",
                        "linecolor": "white"
                      },
                      "caxis": {
                        "ticks": "",
                        "gridcolor": "white",
                        "linecolor": "white"
                      },
                      "aaxis": {
                        "ticks": "",
                        "gridcolor": "white",
                        "linecolor": "white"
                      }
                    },
                    "mapbox": {
                      "style": "light"
                    },
                    "hovermode": "closest",
                    "font": {
                      "color": "#2a3f5f"
                    },
                    "geo": {
                      "showland": true,
                      "landcolor": "#E5ECF6",
                      "showlakes": true,
                      "bgcolor": "white",
                      "subunitcolor": "white",
                      "lakecolor": "white"
                    },
                    "coloraxis": {
                      "colorbar": {
                        "outlinewidth": 0,
                        "ticks": ""
                      }
                    }
                  },
                  "data": {
                    "mesh3d": [
                      {
                        "colorbar": {
                          "outlinewidth": 0,
                          "ticks": ""
                        },
                        "type": "mesh3d"
                      }
                    ],
                    "scattercarpet": [
                      {
                        "marker": {
                          "colorbar": {
                            "outlinewidth": 0,
                            "ticks": ""
                          }
                        },
                        "type": "scattercarpet"
                      }
                    ],
                    "pie": [
                      {
                        "automargin": true,
                        "type": "pie"
                      }
                    ],
                    "surface": [
                      {
                        "colorbar": {
                          "outlinewidth": 0,
                          "ticks": ""
                        },
                        "type": "surface",
                        "colorscale": [
                          [
                            0,
                            "#0d0887"
                          ],
                          [
                            0.1111111111111111,
                            "#46039f"
                          ],
                          [
                            0.2222222222222222,
                            "#7201a8"
                          ],
                          [
                            0.3333333333333333,
                            "#9c179e"
                          ],
                          [
                            0.4444444444444444,
                            "#bd3786"
                          ],
                          [
                            0.5555555555555556,
                            "#d8576b"
                          ],
                          [
                            0.6666666666666666,
                            "#ed7953"
                          ],
                          [
                            0.7777777777777778,
                            "#fb9f3a"
                          ],
                          [
                            0.8888888888888888,
                            "#fdca26"
                          ],
                          [
                            1,
                            "#f0f921"
                          ]
                        ]
                      }
                    ],
                    "table": [
                      {
                        "header": {
                          "line": {
                            "color": "white"
                          },
                          "fill": {
                            "color": "#C8D4E3"
                          }
                        },
                        "cells": {
                          "line": {
                            "color": "white"
                          },
                          "fill": {
                            "color": "#EBF0F8"
                          }
                        },
                        "type": "table"
                      }
                    ],
                    "scatterpolargl": [
                      {
                        "marker": {
                          "colorbar": {
                            "outlinewidth": 0,
                            "ticks": ""
                          }
                        },
                        "type": "scatterpolargl"
                      }
                    ],
                    "contour": [
                      {
                        "colorbar": {
                          "outlinewidth": 0,
                          "ticks": ""
                        },
                        "type": "contour",
                        "colorscale": [
                          [
                            0,
                            "#0d0887"
                          ],
                          [
                            0.1111111111111111,
                            "#46039f"
                          ],
                          [
                            0.2222222222222222,
                            "#7201a8"
                          ],
                          [
                            0.3333333333333333,
                            "#9c179e"
                          ],
                          [
                            0.4444444444444444,
                            "#bd3786"
                          ],
                          [
                            0.5555555555555556,
                            "#d8576b"
                          ],
                          [
                            0.6666666666666666,
                            "#ed7953"
                          ],
                          [
                            0.7777777777777778,
                            "#fb9f3a"
                          ],
                          [
                            0.8888888888888888,
                            "#fdca26"
                          ],
                          [
                            1,
                            "#f0f921"
                          ]
                        ]
                      }
                    ],
                    "carpet": [
                      {
                        "type": "carpet",
                        "baxis": {
                          "minorgridcolor": "white",
                          "gridcolor": "white",
                          "linecolor": "white",
                          "endlinecolor": "#2a3f5f",
                          "startlinecolor": "#2a3f5f"
                        },
                        "aaxis": {
                          "minorgridcolor": "white",
                          "gridcolor": "white",
                          "linecolor": "white",
                          "endlinecolor": "#2a3f5f",
                          "startlinecolor": "#2a3f5f"
                        }
                      }
                    ],
                    "contourcarpet": [
                      {
                        "colorbar": {
                          "outlinewidth": 0,
                          "ticks": ""
                        },
                        "type": "contourcarpet"
                      }
                    ],
                    "heatmap": [
                      {
                        "colorbar": {
                          "outlinewidth": 0,
                          "ticks": ""
                        },
                        "type": "heatmap",
                        "colorscale": [
                          [
                            0,
                            "#0d0887"
                          ],
                          [
                            0.1111111111111111,
                            "#46039f"
                          ],
                          [
                            0.2222222222222222,
                            "#7201a8"
                          ],
                          [
                            0.3333333333333333,
                            "#9c179e"
                          ],
                          [
                            0.4444444444444444,
                            "#bd3786"
                          ],
                          [
                            0.5555555555555556,
                            "#d8576b"
                          ],
                          [
                            0.6666666666666666,
                            "#ed7953"
                          ],
                          [
                            0.7777777777777778,
                            "#fb9f3a"
                          ],
                          [
                            0.8888888888888888,
                            "#fdca26"
                          ],
                          [
                            1,
                            "#f0f921"
                          ]
                        ]
                      }
                    ],
                    "scattermapbox": [
                      {
                        "marker": {
                          "colorbar": {
                            "outlinewidth": 0,
                            "ticks": ""
                          }
                        },
                        "type": "scattermapbox"
                      }
                    ],
                    "scatter3d": [
                      {
                        "marker": {
                          "colorbar": {
                            "outlinewidth": 0,
                            "ticks": ""
                          }
                        },
                        "line": {
                          "colorbar": {
                            "outlinewidth": 0,
                            "ticks": ""
                          }
                        },
                        "type": "scatter3d"
                      }
                    ],
                    "scattergl": [
                      {
                        "marker": {
                          "colorbar": {
                            "outlinewidth": 0,
                            "ticks": ""
                          }
                        },
                        "type": "scattergl"
                      }
                    ],
                    "scatterternary": [
                      {
                        "marker": {
                          "colorbar": {
                            "outlinewidth": 0,
                            "ticks": ""
                          }
                        },
                        "type": "scatterternary"
                      }
                    ],
                    "histogram": [
                      {
                        "marker": {
                          "colorbar": {
                            "outlinewidth": 0,
                            "ticks": ""
                          }
                        },
                        "type": "histogram"
                      }
                    ],
                    "heatmapgl": [
                      {
                        "colorbar": {
                          "outlinewidth": 0,
                          "ticks": ""
                        },
                        "type": "heatmapgl",
                        "colorscale": [
                          [
                            0,
                            "#0d0887"
                          ],
                          [
                            0.1111111111111111,
                            "#46039f"
                          ],
                          [
                            0.2222222222222222,
                            "#7201a8"
                          ],
                          [
                            0.3333333333333333,
                            "#9c179e"
                          ],
                          [
                            0.4444444444444444,
                            "#bd3786"
                          ],
                          [
                            0.5555555555555556,
                            "#d8576b"
                          ],
                          [
                            0.6666666666666666,
                            "#ed7953"
                          ],
                          [
                            0.7777777777777778,
                            "#fb9f3a"
                          ],
                          [
                            0.8888888888888888,
                            "#fdca26"
                          ],
                          [
                            1,
                            "#f0f921"
                          ]
                        ]
                      }
                    ],
                    "scatterpolar": [
                      {
                        "marker": {
                          "colorbar": {
                            "outlinewidth": 0,
                            "ticks": ""
                          }
                        },
                        "type": "scatterpolar"
                      }
                    ],
                    "histogram2d": [
                      {
                        "colorbar": {
                          "outlinewidth": 0,
                          "ticks": ""
                        },
                        "type": "histogram2d",
                        "colorscale": [
                          [
                            0,
                            "#0d0887"
                          ],
                          [
                            0.1111111111111111,
                            "#46039f"
                          ],
                          [
                            0.2222222222222222,
                            "#7201a8"
                          ],
                          [
                            0.3333333333333333,
                            "#9c179e"
                          ],
                          [
                            0.4444444444444444,
                            "#bd3786"
                          ],
                          [
                            0.5555555555555556,
                            "#d8576b"
                          ],
                          [
                            0.6666666666666666,
                            "#ed7953"
                          ],
                          [
                            0.7777777777777778,
                            "#fb9f3a"
                          ],
                          [
                            0.8888888888888888,
                            "#fdca26"
                          ],
                          [
                            1,
                            "#f0f921"
                          ]
                        ]
                      }
                    ],
                    "scattergeo": [
                      {
                        "marker": {
                          "colorbar": {
                            "outlinewidth": 0,
                            "ticks": ""
                          }
                        },
                        "type": "scattergeo"
                      }
                    ],
                    "bar": [
                      {
                        "marker": {
                          "line": {
                            "color": "#E5ECF6",
                            "width": 0.5
                          }
                        },
                        "type": "bar",
                        "error_x": {
                          "color": "#2a3f5f"
                        },
                        "error_y": {
                          "color": "#2a3f5f"
                        }
                      }
                    ],
                    "choropleth": [
                      {
                        "colorbar": {
                          "outlinewidth": 0,
                          "ticks": ""
                        },
                        "type": "choropleth"
                      }
                    ],
                    "parcoords": [
                      {
                        "line": {
                          "colorbar": {
                            "outlinewidth": 0,
                            "ticks": ""
                          }
                        },
                        "type": "parcoords"
                      }
                    ],
                    "barpolar": [
                      {
                        "marker": {
                          "line": {
                            "color": "#E5ECF6",
                            "width": 0.5
                          }
                        },
                        "type": "barpolar"
                      }
                    ],
                    "histogram2dcontour": [
                      {
                        "colorbar": {
                          "outlinewidth": 0,
                          "ticks": ""
                        },
                        "type": "histogram2dcontour",
                        "colorscale": [
                          [
                            0,
                            "#0d0887"
                          ],
                          [
                            0.1111111111111111,
                            "#46039f"
                          ],
                          [
                            0.2222222222222222,
                            "#7201a8"
                          ],
                          [
                            0.3333333333333333,
                            "#9c179e"
                          ],
                          [
                            0.4444444444444444,
                            "#bd3786"
                          ],
                          [
                            0.5555555555555556,
                            "#d8576b"
                          ],
                          [
                            0.6666666666666666,
                            "#ed7953"
                          ],
                          [
                            0.7777777777777778,
                            "#fb9f3a"
                          ],
                          [
                            0.8888888888888888,
                            "#fdca26"
                          ],
                          [
                            1,
                            "#f0f921"
                          ]
                        ]
                      }
                    ],
                    "scatter": [
                      {
                        "marker": {
                          "colorbar": {
                            "outlinewidth": 0,
                            "ticks": ""
                          }
                        },
                        "type": "scatter"
                      }
                    ]
                  }
                },
                "title": {
                  "text": "Global Happiness 2017"
                }
              }
            }
          },
          "metadata": {
            "tags": []
          }
        }
      ]
    },
    {
      "cell_type": "code",
      "metadata": {
        "id": "8ErmVRpnJ7qe",
        "colab_type": "code",
        "outputId": "e70f062e-6339-4de2-a02b-ca69e64a936d",
        "colab": {
          "base_uri": "https://localhost:8080/",
          "height": 812
        }
      },
      "source": [
        "corrmat = df.corr()\n",
        "mask = np.zeros_like(corrmat, dtype=np.bool) # np.zeros_like()_주어진 행렬과 같은 크기의 0으로 채워진 행렬을 반환.\n",
        "mask[np.triu_indices_from(mask)] = True # np.triu_indices_from()_행렬의 상단 삼각형을 반환.\n",
        "plt.figure(figsize=(10, 10))\n",
        "sns.heatmap(corrmat, annot=True, vmax=.8, square=True, cmap='PiYG', center=0, mask=mask)"
      ],
      "execution_count": 7,
      "outputs": [
        {
          "output_type": "execute_result",
          "data": {
            "text/plain": [
              "<matplotlib.axes._subplots.AxesSubplot at 0x7f63c0512390>"
            ]
          },
          "metadata": {
            "tags": []
          },
          "execution_count": 7
        },
        {
          "output_type": "display_data",
          "data": {
            "image/png": "[encoded data removed]",
            "text/plain": [
              "<Figure size 720x720 with 2 Axes>"
            ]
          },
          "metadata": {
            "tags": []
          }
        }
      ]
    },
    {
      "cell_type": "code",
      "metadata": {
        "id": "Inxir2I8Mp2j",
        "colab_type": "code",
        "outputId": "97068d23-7959-49e5-e50a-fb1d50ffeb93",
        "colab": {
          "base_uri": "https://localhost:8080/",
          "height": 309
        }
      },
      "source": [
        "df_2015 = pd.read_csv('/content/drive/My Drive/Colab Notebooks/Python_exam/Data/world-happiness/2015.csv')\n",
        "df_2017 = pd.read_csv('/content/drive/My Drive/Colab Notebooks/Python_exam/Data/world-happiness/2017.csv').drop(['Whisker.high', 'Whisker.low', 'Happiness.Rank'], axis=1)\n",
        "\n",
        "df_2015 = df_2015[['Country', 'Region']]\n",
        "df = pd.merge(df_2015, df_2017, on='Country')\n",
        "df.head()"
      ],
      "execution_count": 8,
      "outputs": [
        {
          "output_type": "execute_result",
          "data": {
            "text/html": [
              "<div>\n",
              "<style scoped>\n",
              "    .dataframe tbody tr th:only-of-type {\n",
              "        vertical-align: middle;\n",
              "    }\n",
              "\n",
              "    .dataframe tbody tr th {\n",
              "        vertical-align: top;\n",
              "    }\n",
              "\n",
              "    .dataframe thead th {\n",
              "        text-align: right;\n",
              "    }\n",
              "</style>\n",
              "<table border=\"1\" class=\"dataframe\">\n",
              "  <thead>\n",
              "    <tr style=\"text-align: right;\">\n",
              "      <th></th>\n",
              "      <th>Country</th>\n",
              "      <th>Region</th>\n",
              "      <th>Happiness.Score</th>\n",
              "      <th>Economy..GDP.per.Capita.</th>\n",
              "      <th>Family</th>\n",
              "      <th>Health..Life.Expectancy.</th>\n",
              "      <th>Freedom</th>\n",
              "      <th>Generosity</th>\n",
              "      <th>Trust..Government.Corruption.</th>\n",
              "      <th>Dystopia.Residual</th>\n",
              "    </tr>\n",
              "  </thead>\n",
              "  <tbody>\n",
              "    <tr>\n",
              "      <th>0</th>\n",
              "      <td>Switzerland</td>\n",
              "      <td>Western Europe</td>\n",
              "      <td>7.494</td>\n",
              "      <td>1.564980</td>\n",
              "      <td>1.516912</td>\n",
              "      <td>0.858131</td>\n",
              "      <td>0.620071</td>\n",
              "      <td>0.290549</td>\n",
              "      <td>0.367007</td>\n",
              "      <td>2.276716</td>\n",
              "    </tr>\n",
              "    <tr>\n",
              "      <th>1</th>\n",
              "      <td>Iceland</td>\n",
              "      <td>Western Europe</td>\n",
              "      <td>7.504</td>\n",
              "      <td>1.480633</td>\n",
              "      <td>1.610574</td>\n",
              "      <td>0.833552</td>\n",
              "      <td>0.627163</td>\n",
              "      <td>0.475540</td>\n",
              "      <td>0.153527</td>\n",
              "      <td>2.322715</td>\n",
              "    </tr>\n",
              "    <tr>\n",
              "      <th>2</th>\n",
              "      <td>Denmark</td>\n",
              "      <td>Western Europe</td>\n",
              "      <td>7.522</td>\n",
              "      <td>1.482383</td>\n",
              "      <td>1.551122</td>\n",
              "      <td>0.792566</td>\n",
              "      <td>0.626007</td>\n",
              "      <td>0.355280</td>\n",
              "      <td>0.400770</td>\n",
              "      <td>2.313707</td>\n",
              "    </tr>\n",
              "    <tr>\n",
              "      <th>3</th>\n",
              "      <td>Norway</td>\n",
              "      <td>Western Europe</td>\n",
              "      <td>7.537</td>\n",
              "      <td>1.616463</td>\n",
              "      <td>1.533524</td>\n",
              "      <td>0.796667</td>\n",
              "      <td>0.635423</td>\n",
              "      <td>0.362012</td>\n",
              "      <td>0.315964</td>\n",
              "      <td>2.277027</td>\n",
              "    </tr>\n",
              "    <tr>\n",
              "      <th>4</th>\n",
              "      <td>Canada</td>\n",
              "      <td>North America</td>\n",
              "      <td>7.316</td>\n",
              "      <td>1.479204</td>\n",
              "      <td>1.481349</td>\n",
              "      <td>0.834558</td>\n",
              "      <td>0.611101</td>\n",
              "      <td>0.435540</td>\n",
              "      <td>0.287372</td>\n",
              "      <td>2.187264</td>\n",
              "    </tr>\n",
              "  </tbody>\n",
              "</table>\n",
              "</div>"
            ],
            "text/plain": [
              "       Country  ... Dystopia.Residual\n",
              "0  Switzerland  ...          2.276716\n",
              "1      Iceland  ...          2.322715\n",
              "2      Denmark  ...          2.313707\n",
              "3       Norway  ...          2.277027\n",
              "4       Canada  ...          2.187264\n",
              "\n",
              "[5 rows x 10 columns]"
            ]
          },
          "metadata": {
            "tags": []
          },
          "execution_count": 8
        }
      ]
    },
    {
      "cell_type": "code",
      "metadata": {
        "id": "VCOeAdOAO4z3",
        "colab_type": "code",
        "outputId": "a6eae0ba-73aa-499e-ef59-35193e0b4b86",
        "colab": {
          "base_uri": "https://localhost:8080/",
          "height": 812
        }
      },
      "source": [
        "corrmat = df.corr()\n",
        "mask = np.zeros_like(corrmat, dtype=np.bool)\n",
        "mask[np.triu_indices_from(mask)] = True\n",
        "plt.figure(figsize=(10, 10))\n",
        "sns.heatmap(corrmat, annot=True, vmax=.8, square=True, cmap='PiYG', center=0, mask=mask)"
      ],
      "execution_count": 9,
      "outputs": [
        {
          "output_type": "execute_result",
          "data": {
            "text/plain": [
              "<matplotlib.axes._subplots.AxesSubplot at 0x7f63bb50ddd8>"
            ]
          },
          "metadata": {
            "tags": []
          },
          "execution_count": 9
        },
        {
          "output_type": "display_data",
          "data": {
            "image/png": "[encoded data removed]",
            "text/plain": [
              "<Figure size 720x720 with 2 Axes>"
            ]
          },
          "metadata": {
            "tags": []
          }
        }
      ]
    },
    {
      "cell_type": "code",
      "metadata": {
        "id": "YR-p1kimK5Hm",
        "colab_type": "code",
        "outputId": "c03ce2f2-bcd3-4850-cb6f-b2e6c33a3137",
        "colab": {
          "base_uri": "https://localhost:8080/",
          "height": 812
        }
      },
      "source": [
        "corrmat = df[df['Region'].str.contains('Asia')].corr() # df[df['Region'].str.contains('Asia')]_Region열에 Asia라는 문자열을 포함하는 모든 데이터를 리턴.\n",
        "plt.figure(figsize=(10,10))\n",
        "ax = plt.axes()\n",
        "ax.set_title('Asia')\n",
        "sns.heatmap(corrmat, annot=True, vmax=.8, square=True, cmap='PiYG', center=0, mask=mask)"
      ],
      "execution_count": 10,
      "outputs": [
        {
          "output_type": "execute_result",
          "data": {
            "text/plain": [
              "<matplotlib.axes._subplots.AxesSubplot at 0x7f63bb3da390>"
            ]
          },
          "metadata": {
            "tags": []
          },
          "execution_count": 10
        },
        {
          "output_type": "display_data",
          "data": {
            "image/png": "[encoded data removed]",
            "text/plain": [
              "<Figure size 720x720 with 2 Axes>"
            ]
          },
          "metadata": {
            "tags": []
          }
        }
      ]
    },
    {
      "cell_type": "code",
      "metadata": {
        "id": "c8xxTcKgL6Xs",
        "colab_type": "code",
        "outputId": "7f27507c-0c44-4a94-8dc6-0d210ea7cc1e",
        "colab": {
          "base_uri": "https://localhost:8080/",
          "height": 812
        }
      },
      "source": [
        "corrmat = df[df['Region'].str.contains('Europe')].corr()\n",
        "plt.figure(figsize=(10,10))\n",
        "ax = plt.axes()\n",
        "ax.set_title('Europe')\n",
        "sns.heatmap(corrmat, annot=True, vmax=.8, square=True, cmap='PiYG', center=0, mask=mask)"
      ],
      "execution_count": 11,
      "outputs": [
        {
          "output_type": "execute_result",
          "data": {
            "text/plain": [
              "<matplotlib.axes._subplots.AxesSubplot at 0x7f63b9a13208>"
            ]
          },
          "metadata": {
            "tags": []
          },
          "execution_count": 11
        },
        {
          "output_type": "display_data",
          "data": {
            "image/png": "[encoded data removed]",
            "text/plain": [
              "<Figure size 720x720 with 2 Axes>"
            ]
          },
          "metadata": {
            "tags": []
          }
        }
      ]
    },
    {
      "cell_type": "code",
      "metadata": {
        "id": "CScey-0vPHGb",
        "colab_type": "code",
        "outputId": "191e8920-6cc6-4aa0-e8b2-b3545c649069",
        "colab": {
          "base_uri": "https://localhost:8080/",
          "height": 812
        }
      },
      "source": [
        "corrmat = df[df['Region'].str.contains('America')].corr()\n",
        "plt.figure(figsize=(10,10))\n",
        "ax = plt.axes()\n",
        "ax.set_title('America')\n",
        "sns.heatmap(corrmat, annot=True, vmax=.8, square=True, cmap='PiYG', center=0, mask=mask)"
      ],
      "execution_count": 12,
      "outputs": [
        {
          "output_type": "execute_result",
          "data": {
            "text/plain": [
              "<matplotlib.axes._subplots.AxesSubplot at 0x7f63bf21e8d0>"
            ]
          },
          "metadata": {
            "tags": []
          },
          "execution_count": 12
        },
        {
          "output_type": "display_data",
          "data": {
            "image/png": "[encoded data removed]",
            "text/plain": [
              "<Figure size 720x720 with 2 Axes>"
            ]
          },
          "metadata": {
            "tags": []
          }
        }
      ]
    },
    {
      "cell_type": "code",
      "metadata": {
        "id": "oagRyCLUPM0t",
        "colab_type": "code",
        "outputId": "daf900ea-5e14-4861-c87f-b59d16852952",
        "colab": {
          "base_uri": "https://localhost:8080/",
          "height": 812
        }
      },
      "source": [
        "corrmat = df[df['Region'].str.contains('Africa')].corr()\n",
        "plt.figure(figsize=(10,10))\n",
        "ax = plt.axes()\n",
        "ax.set_title('Africa')\n",
        "sns.heatmap(corrmat, annot=True, vmax=.8, square=True, cmap='PiYG', center=0, mask=mask)"
      ],
      "execution_count": 13,
      "outputs": [
        {
          "output_type": "execute_result",
          "data": {
            "text/plain": [
              "<matplotlib.axes._subplots.AxesSubplot at 0x7f63bb4d4eb8>"
            ]
          },
          "metadata": {
            "tags": []
          },
          "execution_count": 13
        },
        {
          "output_type": "display_data",
          "data": {
            "image/png": "[encoded data removed]",
            "text/plain": [
              "<Figure size 720x720 with 2 Axes>"
            ]
          },
          "metadata": {
            "tags": []
          }
        }
      ]
    },
    {
      "cell_type": "code",
      "metadata": {
        "id": "IxJintsZPPvb",
        "colab_type": "code",
        "outputId": "77a2f16d-3bbb-4db2-d4ce-672d1bc7f224",
        "colab": {
          "base_uri": "https://localhost:8080/",
          "height": 213
        }
      },
      "source": [
        "kcj_df = df[df['Country'].str.contains('Korea|China|Japan')] # Country열에 Korea, China, Japan을 하나라도 포함하는 데이터를 반환.\n",
        "kcj_df"
      ],
      "execution_count": 14,
      "outputs": [
        {
          "output_type": "execute_result",
          "data": {
            "text/html": [
              "<div>\n",
              "<style scoped>\n",
              "    .dataframe tbody tr th:only-of-type {\n",
              "        vertical-align: middle;\n",
              "    }\n",
              "\n",
              "    .dataframe tbody tr th {\n",
              "        vertical-align: top;\n",
              "    }\n",
              "\n",
              "    .dataframe thead th {\n",
              "        text-align: right;\n",
              "    }\n",
              "</style>\n",
              "<table border=\"1\" class=\"dataframe\">\n",
              "  <thead>\n",
              "    <tr style=\"text-align: right;\">\n",
              "      <th></th>\n",
              "      <th>Country</th>\n",
              "      <th>Region</th>\n",
              "      <th>Happiness.Score</th>\n",
              "      <th>Economy..GDP.per.Capita.</th>\n",
              "      <th>Family</th>\n",
              "      <th>Health..Life.Expectancy.</th>\n",
              "      <th>Freedom</th>\n",
              "      <th>Generosity</th>\n",
              "      <th>Trust..Government.Corruption.</th>\n",
              "      <th>Dystopia.Residual</th>\n",
              "    </tr>\n",
              "  </thead>\n",
              "  <tbody>\n",
              "    <tr>\n",
              "      <th>42</th>\n",
              "      <td>Japan</td>\n",
              "      <td>Eastern Asia</td>\n",
              "      <td>5.920</td>\n",
              "      <td>1.416915</td>\n",
              "      <td>1.436338</td>\n",
              "      <td>0.913476</td>\n",
              "      <td>0.505626</td>\n",
              "      <td>0.120573</td>\n",
              "      <td>0.163761</td>\n",
              "      <td>1.363224</td>\n",
              "    </tr>\n",
              "    <tr>\n",
              "      <th>43</th>\n",
              "      <td>South Korea</td>\n",
              "      <td>Eastern Asia</td>\n",
              "      <td>5.838</td>\n",
              "      <td>1.401678</td>\n",
              "      <td>1.128274</td>\n",
              "      <td>0.900214</td>\n",
              "      <td>0.257922</td>\n",
              "      <td>0.206674</td>\n",
              "      <td>0.063283</td>\n",
              "      <td>1.880378</td>\n",
              "    </tr>\n",
              "    <tr>\n",
              "      <th>79</th>\n",
              "      <td>China</td>\n",
              "      <td>Eastern Asia</td>\n",
              "      <td>5.273</td>\n",
              "      <td>1.081166</td>\n",
              "      <td>1.160837</td>\n",
              "      <td>0.741416</td>\n",
              "      <td>0.472788</td>\n",
              "      <td>0.028807</td>\n",
              "      <td>0.022794</td>\n",
              "      <td>1.764939</td>\n",
              "    </tr>\n",
              "  </tbody>\n",
              "</table>\n",
              "</div>"
            ],
            "text/plain": [
              "        Country        Region  ...  Trust..Government.Corruption.  Dystopia.Residual\n",
              "42        Japan  Eastern Asia  ...                       0.163761           1.363224\n",
              "43  South Korea  Eastern Asia  ...                       0.063283           1.880378\n",
              "79        China  Eastern Asia  ...                       0.022794           1.764939\n",
              "\n",
              "[3 rows x 10 columns]"
            ]
          },
          "metadata": {
            "tags": []
          },
          "execution_count": 14
        }
      ]
    },
    {
      "cell_type": "code",
      "metadata": {
        "id": "w0clvz_1Phky",
        "colab_type": "code",
        "outputId": "ba4b7e4d-ae5d-4dbd-b22a-a02661783697",
        "colab": {
          "base_uri": "https://localhost:8080/",
          "height": 316
        }
      },
      "source": [
        "sns.scatterplot(x='Country', y='Happiness.Score', data=kcj_df) # 점 그래프 그리기."
      ],
      "execution_count": 15,
      "outputs": [
        {
          "output_type": "execute_result",
          "data": {
            "text/plain": [
              "<matplotlib.axes._subplots.AxesSubplot at 0x7f63bb697358>"
            ]
          },
          "metadata": {
            "tags": []
          },
          "execution_count": 15
        },
        {
          "output_type": "display_data",
          "data": {
            "image/png": "[encoded data removed]",
            "text/plain": [
              "<Figure size 432x288 with 1 Axes>"
            ]
          },
          "metadata": {
            "tags": []
          }
        }
      ]
    },
    {
      "cell_type": "markdown",
      "metadata": {
        "id": "Y7AadNZ7R8Jr",
        "colab_type": "text"
      },
      "source": [
        "#2019"
      ]
    },
    {
      "cell_type": "code",
      "metadata": {
        "id": "ca9QE2ZQPrb3",
        "colab_type": "code",
        "outputId": "40090ae7-e665-450b-c173-5f34e412a0ee",
        "colab": {
          "base_uri": "https://localhost:8080/",
          "height": 1000
        }
      },
      "source": [
        "df = pd.read_csv('/content/drive/My Drive/Colab Notebooks/Python_exam/Data/world-happiness/2019.csv')\n",
        "df.head(60)"
      ],
      "execution_count": 16,
      "outputs": [
        {
          "output_type": "execute_result",
          "data": {
            "text/html": [
              "<div>\n",
              "<style scoped>\n",
              "    .dataframe tbody tr th:only-of-type {\n",
              "        vertical-align: middle;\n",
              "    }\n",
              "\n",
              "    .dataframe tbody tr th {\n",
              "        vertical-align: top;\n",
              "    }\n",
              "\n",
              "    .dataframe thead th {\n",
              "        text-align: right;\n",
              "    }\n",
              "</style>\n",
              "<table border=\"1\" class=\"dataframe\">\n",
              "  <thead>\n",
              "    <tr style=\"text-align: right;\">\n",
              "      <th></th>\n",
              "      <th>Overall rank</th>\n",
              "      <th>Country or region</th>\n",
              "      <th>Score</th>\n",
              "      <th>GDP per capita</th>\n",
              "      <th>Social support</th>\n",
              "      <th>Healthy life expectancy</th>\n",
              "      <th>Freedom to make life choices</th>\n",
              "      <th>Generosity</th>\n",
              "      <th>Perceptions of corruption</th>\n",
              "    </tr>\n",
              "  </thead>\n",
              "  <tbody>\n",
              "    <tr>\n",
              "      <th>0</th>\n",
              "      <td>1</td>\n",
              "      <td>Finland</td>\n",
              "      <td>7.769</td>\n",
              "      <td>1.340</td>\n",
              "      <td>1.587</td>\n",
              "      <td>0.986</td>\n",
              "      <td>0.596</td>\n",
              "      <td>0.153</td>\n",
              "      <td>0.393</td>\n",
              "    </tr>\n",
              "    <tr>\n",
              "      <th>1</th>\n",
              "      <td>2</td>\n",
              "      <td>Denmark</td>\n",
              "      <td>7.600</td>\n",
              "      <td>1.383</td>\n",
              "      <td>1.573</td>\n",
              "      <td>0.996</td>\n",
              "      <td>0.592</td>\n",
              "      <td>0.252</td>\n",
              "      <td>0.410</td>\n",
              "    </tr>\n",
              "    <tr>\n",
              "      <th>2</th>\n",
              "      <td>3</td>\n",
              "      <td>Norway</td>\n",
              "      <td>7.554</td>\n",
              "      <td>1.488</td>\n",
              "      <td>1.582</td>\n",
              "      <td>1.028</td>\n",
              "      <td>0.603</td>\n",
              "      <td>0.271</td>\n",
              "      <td>0.341</td>\n",
              "    </tr>\n",
              "    <tr>\n",
              "      <th>3</th>\n",
              "      <td>4</td>\n",
              "      <td>Iceland</td>\n",
              "      <td>7.494</td>\n",
              "      <td>1.380</td>\n",
              "      <td>1.624</td>\n",
              "      <td>1.026</td>\n",
              "      <td>0.591</td>\n",
              "      <td>0.354</td>\n",
              "      <td>0.118</td>\n",
              "    </tr>\n",
              "    <tr>\n",
              "      <th>4</th>\n",
              "      <td>5</td>\n",
              "      <td>Netherlands</td>\n",
              "      <td>7.488</td>\n",
              "      <td>1.396</td>\n",
              "      <td>1.522</td>\n",
              "      <td>0.999</td>\n",
              "      <td>0.557</td>\n",
              "      <td>0.322</td>\n",
              "      <td>0.298</td>\n",
              "    </tr>\n",
              "    <tr>\n",
              "      <th>5</th>\n",
              "      <td>6</td>\n",
              "      <td>Switzerland</td>\n",
              "      <td>7.480</td>\n",
              "      <td>1.452</td>\n",
              "      <td>1.526</td>\n",
              "      <td>1.052</td>\n",
              "      <td>0.572</td>\n",
              "      <td>0.263</td>\n",
              "      <td>0.343</td>\n",
              "    </tr>\n",
              "    <tr>\n",
              "      <th>6</th>\n",
              "      <td>7</td>\n",
              "      <td>Sweden</td>\n",
              "      <td>7.343</td>\n",
              "      <td>1.387</td>\n",
              "      <td>1.487</td>\n",
              "      <td>1.009</td>\n",
              "      <td>0.574</td>\n",
              "      <td>0.267</td>\n",
              "      <td>0.373</td>\n",
              "    </tr>\n",
              "    <tr>\n",
              "      <th>7</th>\n",
              "      <td>8</td>\n",
              "      <td>New Zealand</td>\n",
              "      <td>7.307</td>\n",
              "      <td>1.303</td>\n",
              "      <td>1.557</td>\n",
              "      <td>1.026</td>\n",
              "      <td>0.585</td>\n",
              "      <td>0.330</td>\n",
              "      <td>0.380</td>\n",
              "    </tr>\n",
              "    <tr>\n",
              "      <th>8</th>\n",
              "      <td>9</td>\n",
              "      <td>Canada</td>\n",
              "      <td>7.278</td>\n",
              "      <td>1.365</td>\n",
              "      <td>1.505</td>\n",
              "      <td>1.039</td>\n",
              "      <td>0.584</td>\n",
              "      <td>0.285</td>\n",
              "      <td>0.308</td>\n",
              "    </tr>\n",
              "    <tr>\n",
              "      <th>9</th>\n",
              "      <td>10</td>\n",
              "      <td>Austria</td>\n",
              "      <td>7.246</td>\n",
              "      <td>1.376</td>\n",
              "      <td>1.475</td>\n",
              "      <td>1.016</td>\n",
              "      <td>0.532</td>\n",
              "      <td>0.244</td>\n",
              "      <td>0.226</td>\n",
              "    </tr>\n",
              "    <tr>\n",
              "      <th>10</th>\n",
              "      <td>11</td>\n",
              "      <td>Australia</td>\n",
              "      <td>7.228</td>\n",
              "      <td>1.372</td>\n",
              "      <td>1.548</td>\n",
              "      <td>1.036</td>\n",
              "      <td>0.557</td>\n",
              "      <td>0.332</td>\n",
              "      <td>0.290</td>\n",
              "    </tr>\n",
              "    <tr>\n",
              "      <th>11</th>\n",
              "      <td>12</td>\n",
              "      <td>Costa Rica</td>\n",
              "      <td>7.167</td>\n",
              "      <td>1.034</td>\n",
              "      <td>1.441</td>\n",
              "      <td>0.963</td>\n",
              "      <td>0.558</td>\n",
              "      <td>0.144</td>\n",
              "      <td>0.093</td>\n",
              "    </tr>\n",
              "    <tr>\n",
              "      <th>12</th>\n",
              "      <td>13</td>\n",
              "      <td>Israel</td>\n",
              "      <td>7.139</td>\n",
              "      <td>1.276</td>\n",
              "      <td>1.455</td>\n",
              "      <td>1.029</td>\n",
              "      <td>0.371</td>\n",
              "      <td>0.261</td>\n",
              "      <td>0.082</td>\n",
              "    </tr>\n",
              "    <tr>\n",
              "      <th>13</th>\n",
              "      <td>14</td>\n",
              "      <td>Luxembourg</td>\n",
              "      <td>7.090</td>\n",
              "      <td>1.609</td>\n",
              "      <td>1.479</td>\n",
              "      <td>1.012</td>\n",
              "      <td>0.526</td>\n",
              "      <td>0.194</td>\n",
              "      <td>0.316</td>\n",
              "    </tr>\n",
              "    <tr>\n",
              "      <th>14</th>\n",
              "      <td>15</td>\n",
              "      <td>United Kingdom</td>\n",
              "      <td>7.054</td>\n",
              "      <td>1.333</td>\n",
              "      <td>1.538</td>\n",
              "      <td>0.996</td>\n",
              "      <td>0.450</td>\n",
              "      <td>0.348</td>\n",
              "      <td>0.278</td>\n",
              "    </tr>\n",
              "    <tr>\n",
              "      <th>15</th>\n",
              "      <td>16</td>\n",
              "      <td>Ireland</td>\n",
              "      <td>7.021</td>\n",
              "      <td>1.499</td>\n",
              "      <td>1.553</td>\n",
              "      <td>0.999</td>\n",
              "      <td>0.516</td>\n",
              "      <td>0.298</td>\n",
              "      <td>0.310</td>\n",
              "    </tr>\n",
              "    <tr>\n",
              "      <th>16</th>\n",
              "      <td>17</td>\n",
              "      <td>Germany</td>\n",
              "      <td>6.985</td>\n",
              "      <td>1.373</td>\n",
              "      <td>1.454</td>\n",
              "      <td>0.987</td>\n",
              "      <td>0.495</td>\n",
              "      <td>0.261</td>\n",
              "      <td>0.265</td>\n",
              "    </tr>\n",
              "    <tr>\n",
              "      <th>17</th>\n",
              "      <td>18</td>\n",
              "      <td>Belgium</td>\n",
              "      <td>6.923</td>\n",
              "      <td>1.356</td>\n",
              "      <td>1.504</td>\n",
              "      <td>0.986</td>\n",
              "      <td>0.473</td>\n",
              "      <td>0.160</td>\n",
              "      <td>0.210</td>\n",
              "    </tr>\n",
              "    <tr>\n",
              "      <th>18</th>\n",
              "      <td>19</td>\n",
              "      <td>United States</td>\n",
              "      <td>6.892</td>\n",
              "      <td>1.433</td>\n",
              "      <td>1.457</td>\n",
              "      <td>0.874</td>\n",
              "      <td>0.454</td>\n",
              "      <td>0.280</td>\n",
              "      <td>0.128</td>\n",
              "    </tr>\n",
              "    <tr>\n",
              "      <th>19</th>\n",
              "      <td>20</td>\n",
              "      <td>Czech Republic</td>\n",
              "      <td>6.852</td>\n",
              "      <td>1.269</td>\n",
              "      <td>1.487</td>\n",
              "      <td>0.920</td>\n",
              "      <td>0.457</td>\n",
              "      <td>0.046</td>\n",
              "      <td>0.036</td>\n",
              "    </tr>\n",
              "    <tr>\n",
              "      <th>20</th>\n",
              "      <td>21</td>\n",
              "      <td>United Arab Emirates</td>\n",
              "      <td>6.825</td>\n",
              "      <td>1.503</td>\n",
              "      <td>1.310</td>\n",
              "      <td>0.825</td>\n",
              "      <td>0.598</td>\n",
              "      <td>0.262</td>\n",
              "      <td>0.182</td>\n",
              "    </tr>\n",
              "    <tr>\n",
              "      <th>21</th>\n",
              "      <td>22</td>\n",
              "      <td>Malta</td>\n",
              "      <td>6.726</td>\n",
              "      <td>1.300</td>\n",
              "      <td>1.520</td>\n",
              "      <td>0.999</td>\n",
              "      <td>0.564</td>\n",
              "      <td>0.375</td>\n",
              "      <td>0.151</td>\n",
              "    </tr>\n",
              "    <tr>\n",
              "      <th>22</th>\n",
              "      <td>23</td>\n",
              "      <td>Mexico</td>\n",
              "      <td>6.595</td>\n",
              "      <td>1.070</td>\n",
              "      <td>1.323</td>\n",
              "      <td>0.861</td>\n",
              "      <td>0.433</td>\n",
              "      <td>0.074</td>\n",
              "      <td>0.073</td>\n",
              "    </tr>\n",
              "    <tr>\n",
              "      <th>23</th>\n",
              "      <td>24</td>\n",
              "      <td>France</td>\n",
              "      <td>6.592</td>\n",
              "      <td>1.324</td>\n",
              "      <td>1.472</td>\n",
              "      <td>1.045</td>\n",
              "      <td>0.436</td>\n",
              "      <td>0.111</td>\n",
              "      <td>0.183</td>\n",
              "    </tr>\n",
              "    <tr>\n",
              "      <th>24</th>\n",
              "      <td>25</td>\n",
              "      <td>Taiwan</td>\n",
              "      <td>6.446</td>\n",
              "      <td>1.368</td>\n",
              "      <td>1.430</td>\n",
              "      <td>0.914</td>\n",
              "      <td>0.351</td>\n",
              "      <td>0.242</td>\n",
              "      <td>0.097</td>\n",
              "    </tr>\n",
              "    <tr>\n",
              "      <th>25</th>\n",
              "      <td>26</td>\n",
              "      <td>Chile</td>\n",
              "      <td>6.444</td>\n",
              "      <td>1.159</td>\n",
              "      <td>1.369</td>\n",
              "      <td>0.920</td>\n",
              "      <td>0.357</td>\n",
              "      <td>0.187</td>\n",
              "      <td>0.056</td>\n",
              "    </tr>\n",
              "    <tr>\n",
              "      <th>26</th>\n",
              "      <td>27</td>\n",
              "      <td>Guatemala</td>\n",
              "      <td>6.436</td>\n",
              "      <td>0.800</td>\n",
              "      <td>1.269</td>\n",
              "      <td>0.746</td>\n",
              "      <td>0.535</td>\n",
              "      <td>0.175</td>\n",
              "      <td>0.078</td>\n",
              "    </tr>\n",
              "    <tr>\n",
              "      <th>27</th>\n",
              "      <td>28</td>\n",
              "      <td>Saudi Arabia</td>\n",
              "      <td>6.375</td>\n",
              "      <td>1.403</td>\n",
              "      <td>1.357</td>\n",
              "      <td>0.795</td>\n",
              "      <td>0.439</td>\n",
              "      <td>0.080</td>\n",
              "      <td>0.132</td>\n",
              "    </tr>\n",
              "    <tr>\n",
              "      <th>28</th>\n",
              "      <td>29</td>\n",
              "      <td>Qatar</td>\n",
              "      <td>6.374</td>\n",
              "      <td>1.684</td>\n",
              "      <td>1.313</td>\n",
              "      <td>0.871</td>\n",
              "      <td>0.555</td>\n",
              "      <td>0.220</td>\n",
              "      <td>0.167</td>\n",
              "    </tr>\n",
              "    <tr>\n",
              "      <th>29</th>\n",
              "      <td>30</td>\n",
              "      <td>Spain</td>\n",
              "      <td>6.354</td>\n",
              "      <td>1.286</td>\n",
              "      <td>1.484</td>\n",
              "      <td>1.062</td>\n",
              "      <td>0.362</td>\n",
              "      <td>0.153</td>\n",
              "      <td>0.079</td>\n",
              "    </tr>\n",
              "    <tr>\n",
              "      <th>30</th>\n",
              "      <td>31</td>\n",
              "      <td>Panama</td>\n",
              "      <td>6.321</td>\n",
              "      <td>1.149</td>\n",
              "      <td>1.442</td>\n",
              "      <td>0.910</td>\n",
              "      <td>0.516</td>\n",
              "      <td>0.109</td>\n",
              "      <td>0.054</td>\n",
              "    </tr>\n",
              "    <tr>\n",
              "      <th>31</th>\n",
              "      <td>32</td>\n",
              "      <td>Brazil</td>\n",
              "      <td>6.300</td>\n",
              "      <td>1.004</td>\n",
              "      <td>1.439</td>\n",
              "      <td>0.802</td>\n",
              "      <td>0.390</td>\n",
              "      <td>0.099</td>\n",
              "      <td>0.086</td>\n",
              "    </tr>\n",
              "    <tr>\n",
              "      <th>32</th>\n",
              "      <td>33</td>\n",
              "      <td>Uruguay</td>\n",
              "      <td>6.293</td>\n",
              "      <td>1.124</td>\n",
              "      <td>1.465</td>\n",
              "      <td>0.891</td>\n",
              "      <td>0.523</td>\n",
              "      <td>0.127</td>\n",
              "      <td>0.150</td>\n",
              "    </tr>\n",
              "    <tr>\n",
              "      <th>33</th>\n",
              "      <td>34</td>\n",
              "      <td>Singapore</td>\n",
              "      <td>6.262</td>\n",
              "      <td>1.572</td>\n",
              "      <td>1.463</td>\n",
              "      <td>1.141</td>\n",
              "      <td>0.556</td>\n",
              "      <td>0.271</td>\n",
              "      <td>0.453</td>\n",
              "    </tr>\n",
              "    <tr>\n",
              "      <th>34</th>\n",
              "      <td>35</td>\n",
              "      <td>El Salvador</td>\n",
              "      <td>6.253</td>\n",
              "      <td>0.794</td>\n",
              "      <td>1.242</td>\n",
              "      <td>0.789</td>\n",
              "      <td>0.430</td>\n",
              "      <td>0.093</td>\n",
              "      <td>0.074</td>\n",
              "    </tr>\n",
              "    <tr>\n",
              "      <th>35</th>\n",
              "      <td>36</td>\n",
              "      <td>Italy</td>\n",
              "      <td>6.223</td>\n",
              "      <td>1.294</td>\n",
              "      <td>1.488</td>\n",
              "      <td>1.039</td>\n",
              "      <td>0.231</td>\n",
              "      <td>0.158</td>\n",
              "      <td>0.030</td>\n",
              "    </tr>\n",
              "    <tr>\n",
              "      <th>36</th>\n",
              "      <td>37</td>\n",
              "      <td>Bahrain</td>\n",
              "      <td>6.199</td>\n",
              "      <td>1.362</td>\n",
              "      <td>1.368</td>\n",
              "      <td>0.871</td>\n",
              "      <td>0.536</td>\n",
              "      <td>0.255</td>\n",
              "      <td>0.110</td>\n",
              "    </tr>\n",
              "    <tr>\n",
              "      <th>37</th>\n",
              "      <td>38</td>\n",
              "      <td>Slovakia</td>\n",
              "      <td>6.198</td>\n",
              "      <td>1.246</td>\n",
              "      <td>1.504</td>\n",
              "      <td>0.881</td>\n",
              "      <td>0.334</td>\n",
              "      <td>0.121</td>\n",
              "      <td>0.014</td>\n",
              "    </tr>\n",
              "    <tr>\n",
              "      <th>38</th>\n",
              "      <td>39</td>\n",
              "      <td>Trinidad &amp; Tobago</td>\n",
              "      <td>6.192</td>\n",
              "      <td>1.231</td>\n",
              "      <td>1.477</td>\n",
              "      <td>0.713</td>\n",
              "      <td>0.489</td>\n",
              "      <td>0.185</td>\n",
              "      <td>0.016</td>\n",
              "    </tr>\n",
              "    <tr>\n",
              "      <th>39</th>\n",
              "      <td>40</td>\n",
              "      <td>Poland</td>\n",
              "      <td>6.182</td>\n",
              "      <td>1.206</td>\n",
              "      <td>1.438</td>\n",
              "      <td>0.884</td>\n",
              "      <td>0.483</td>\n",
              "      <td>0.117</td>\n",
              "      <td>0.050</td>\n",
              "    </tr>\n",
              "    <tr>\n",
              "      <th>40</th>\n",
              "      <td>41</td>\n",
              "      <td>Uzbekistan</td>\n",
              "      <td>6.174</td>\n",
              "      <td>0.745</td>\n",
              "      <td>1.529</td>\n",
              "      <td>0.756</td>\n",
              "      <td>0.631</td>\n",
              "      <td>0.322</td>\n",
              "      <td>0.240</td>\n",
              "    </tr>\n",
              "    <tr>\n",
              "      <th>41</th>\n",
              "      <td>42</td>\n",
              "      <td>Lithuania</td>\n",
              "      <td>6.149</td>\n",
              "      <td>1.238</td>\n",
              "      <td>1.515</td>\n",
              "      <td>0.818</td>\n",
              "      <td>0.291</td>\n",
              "      <td>0.043</td>\n",
              "      <td>0.042</td>\n",
              "    </tr>\n",
              "    <tr>\n",
              "      <th>42</th>\n",
              "      <td>43</td>\n",
              "      <td>Colombia</td>\n",
              "      <td>6.125</td>\n",
              "      <td>0.985</td>\n",
              "      <td>1.410</td>\n",
              "      <td>0.841</td>\n",
              "      <td>0.470</td>\n",
              "      <td>0.099</td>\n",
              "      <td>0.034</td>\n",
              "    </tr>\n",
              "    <tr>\n",
              "      <th>43</th>\n",
              "      <td>44</td>\n",
              "      <td>Slovenia</td>\n",
              "      <td>6.118</td>\n",
              "      <td>1.258</td>\n",
              "      <td>1.523</td>\n",
              "      <td>0.953</td>\n",
              "      <td>0.564</td>\n",
              "      <td>0.144</td>\n",
              "      <td>0.057</td>\n",
              "    </tr>\n",
              "    <tr>\n",
              "      <th>44</th>\n",
              "      <td>45</td>\n",
              "      <td>Nicaragua</td>\n",
              "      <td>6.105</td>\n",
              "      <td>0.694</td>\n",
              "      <td>1.325</td>\n",
              "      <td>0.835</td>\n",
              "      <td>0.435</td>\n",
              "      <td>0.200</td>\n",
              "      <td>0.127</td>\n",
              "    </tr>\n",
              "    <tr>\n",
              "      <th>45</th>\n",
              "      <td>46</td>\n",
              "      <td>Kosovo</td>\n",
              "      <td>6.100</td>\n",
              "      <td>0.882</td>\n",
              "      <td>1.232</td>\n",
              "      <td>0.758</td>\n",
              "      <td>0.489</td>\n",
              "      <td>0.262</td>\n",
              "      <td>0.006</td>\n",
              "    </tr>\n",
              "    <tr>\n",
              "      <th>46</th>\n",
              "      <td>47</td>\n",
              "      <td>Argentina</td>\n",
              "      <td>6.086</td>\n",
              "      <td>1.092</td>\n",
              "      <td>1.432</td>\n",
              "      <td>0.881</td>\n",
              "      <td>0.471</td>\n",
              "      <td>0.066</td>\n",
              "      <td>0.050</td>\n",
              "    </tr>\n",
              "    <tr>\n",
              "      <th>47</th>\n",
              "      <td>48</td>\n",
              "      <td>Romania</td>\n",
              "      <td>6.070</td>\n",
              "      <td>1.162</td>\n",
              "      <td>1.232</td>\n",
              "      <td>0.825</td>\n",
              "      <td>0.462</td>\n",
              "      <td>0.083</td>\n",
              "      <td>0.005</td>\n",
              "    </tr>\n",
              "    <tr>\n",
              "      <th>48</th>\n",
              "      <td>49</td>\n",
              "      <td>Cyprus</td>\n",
              "      <td>6.046</td>\n",
              "      <td>1.263</td>\n",
              "      <td>1.223</td>\n",
              "      <td>1.042</td>\n",
              "      <td>0.406</td>\n",
              "      <td>0.190</td>\n",
              "      <td>0.041</td>\n",
              "    </tr>\n",
              "    <tr>\n",
              "      <th>49</th>\n",
              "      <td>50</td>\n",
              "      <td>Ecuador</td>\n",
              "      <td>6.028</td>\n",
              "      <td>0.912</td>\n",
              "      <td>1.312</td>\n",
              "      <td>0.868</td>\n",
              "      <td>0.498</td>\n",
              "      <td>0.126</td>\n",
              "      <td>0.087</td>\n",
              "    </tr>\n",
              "    <tr>\n",
              "      <th>50</th>\n",
              "      <td>51</td>\n",
              "      <td>Kuwait</td>\n",
              "      <td>6.021</td>\n",
              "      <td>1.500</td>\n",
              "      <td>1.319</td>\n",
              "      <td>0.808</td>\n",
              "      <td>0.493</td>\n",
              "      <td>0.142</td>\n",
              "      <td>0.097</td>\n",
              "    </tr>\n",
              "    <tr>\n",
              "      <th>51</th>\n",
              "      <td>52</td>\n",
              "      <td>Thailand</td>\n",
              "      <td>6.008</td>\n",
              "      <td>1.050</td>\n",
              "      <td>1.409</td>\n",
              "      <td>0.828</td>\n",
              "      <td>0.557</td>\n",
              "      <td>0.359</td>\n",
              "      <td>0.028</td>\n",
              "    </tr>\n",
              "    <tr>\n",
              "      <th>52</th>\n",
              "      <td>53</td>\n",
              "      <td>Latvia</td>\n",
              "      <td>5.940</td>\n",
              "      <td>1.187</td>\n",
              "      <td>1.465</td>\n",
              "      <td>0.812</td>\n",
              "      <td>0.264</td>\n",
              "      <td>0.075</td>\n",
              "      <td>0.064</td>\n",
              "    </tr>\n",
              "    <tr>\n",
              "      <th>53</th>\n",
              "      <td>54</td>\n",
              "      <td>South Korea</td>\n",
              "      <td>5.895</td>\n",
              "      <td>1.301</td>\n",
              "      <td>1.219</td>\n",
              "      <td>1.036</td>\n",
              "      <td>0.159</td>\n",
              "      <td>0.175</td>\n",
              "      <td>0.056</td>\n",
              "    </tr>\n",
              "    <tr>\n",
              "      <th>54</th>\n",
              "      <td>55</td>\n",
              "      <td>Estonia</td>\n",
              "      <td>5.893</td>\n",
              "      <td>1.237</td>\n",
              "      <td>1.528</td>\n",
              "      <td>0.874</td>\n",
              "      <td>0.495</td>\n",
              "      <td>0.103</td>\n",
              "      <td>0.161</td>\n",
              "    </tr>\n",
              "    <tr>\n",
              "      <th>55</th>\n",
              "      <td>56</td>\n",
              "      <td>Jamaica</td>\n",
              "      <td>5.890</td>\n",
              "      <td>0.831</td>\n",
              "      <td>1.478</td>\n",
              "      <td>0.831</td>\n",
              "      <td>0.490</td>\n",
              "      <td>0.107</td>\n",
              "      <td>0.028</td>\n",
              "    </tr>\n",
              "    <tr>\n",
              "      <th>56</th>\n",
              "      <td>57</td>\n",
              "      <td>Mauritius</td>\n",
              "      <td>5.888</td>\n",
              "      <td>1.120</td>\n",
              "      <td>1.402</td>\n",
              "      <td>0.798</td>\n",
              "      <td>0.498</td>\n",
              "      <td>0.215</td>\n",
              "      <td>0.060</td>\n",
              "    </tr>\n",
              "    <tr>\n",
              "      <th>57</th>\n",
              "      <td>58</td>\n",
              "      <td>Japan</td>\n",
              "      <td>5.886</td>\n",
              "      <td>1.327</td>\n",
              "      <td>1.419</td>\n",
              "      <td>1.088</td>\n",
              "      <td>0.445</td>\n",
              "      <td>0.069</td>\n",
              "      <td>0.140</td>\n",
              "    </tr>\n",
              "    <tr>\n",
              "      <th>58</th>\n",
              "      <td>59</td>\n",
              "      <td>Honduras</td>\n",
              "      <td>5.860</td>\n",
              "      <td>0.642</td>\n",
              "      <td>1.236</td>\n",
              "      <td>0.828</td>\n",
              "      <td>0.507</td>\n",
              "      <td>0.246</td>\n",
              "      <td>0.078</td>\n",
              "    </tr>\n",
              "    <tr>\n",
              "      <th>59</th>\n",
              "      <td>60</td>\n",
              "      <td>Kazakhstan</td>\n",
              "      <td>5.809</td>\n",
              "      <td>1.173</td>\n",
              "      <td>1.508</td>\n",
              "      <td>0.729</td>\n",
              "      <td>0.410</td>\n",
              "      <td>0.146</td>\n",
              "      <td>0.096</td>\n",
              "    </tr>\n",
              "  </tbody>\n",
              "</table>\n",
              "</div>"
            ],
            "text/plain": [
              "    Overall rank     Country or region  ...  Generosity  Perceptions of corruption\n",
              "0              1               Finland  ...       0.153                      0.393\n",
              "1              2               Denmark  ...       0.252                      0.410\n",
              "2              3                Norway  ...       0.271                      0.341\n",
              "3              4               Iceland  ...       0.354                      0.118\n",
              "4              5           Netherlands  ...       0.322                      0.298\n",
              "5              6           Switzerland  ...       0.263                      0.343\n",
              "6              7                Sweden  ...       0.267                      0.373\n",
              "7              8           New Zealand  ...       0.330                      0.380\n",
              "8              9                Canada  ...       0.285                      0.308\n",
              "9             10               Austria  ...       0.244                      0.226\n",
              "10            11             Australia  ...       0.332                      0.290\n",
              "11            12            Costa Rica  ...       0.144                      0.093\n",
              "12            13                Israel  ...       0.261                      0.082\n",
              "13            14            Luxembourg  ...       0.194                      0.316\n",
              "14            15        United Kingdom  ...       0.348                      0.278\n",
              "15            16               Ireland  ...       0.298                      0.310\n",
              "16            17               Germany  ...       0.261                      0.265\n",
              "17            18               Belgium  ...       0.160                      0.210\n",
              "18            19         United States  ...       0.280                      0.128\n",
              "19            20        Czech Republic  ...       0.046                      0.036\n",
              "20            21  United Arab Emirates  ...       0.262                      0.182\n",
              "21            22                 Malta  ...       0.375                      0.151\n",
              "22            23                Mexico  ...       0.074                      0.073\n",
              "23            24                France  ...       0.111                      0.183\n",
              "24            25                Taiwan  ...       0.242                      0.097\n",
              "25            26                 Chile  ...       0.187                      0.056\n",
              "26            27             Guatemala  ...       0.175                      0.078\n",
              "27            28          Saudi Arabia  ...       0.080                      0.132\n",
              "28            29                 Qatar  ...       0.220                      0.167\n",
              "29            30                 Spain  ...       0.153                      0.079\n",
              "30            31                Panama  ...       0.109                      0.054\n",
              "31            32                Brazil  ...       0.099                      0.086\n",
              "32            33               Uruguay  ...       0.127                      0.150\n",
              "33            34             Singapore  ...       0.271                      0.453\n",
              "34            35           El Salvador  ...       0.093                      0.074\n",
              "35            36                 Italy  ...       0.158                      0.030\n",
              "36            37               Bahrain  ...       0.255                      0.110\n",
              "37            38              Slovakia  ...       0.121                      0.014\n",
              "38            39     Trinidad & Tobago  ...       0.185                      0.016\n",
              "39            40                Poland  ...       0.117                      0.050\n",
              "40            41            Uzbekistan  ...       0.322                      0.240\n",
              "41            42             Lithuania  ...       0.043                      0.042\n",
              "42            43              Colombia  ...       0.099                      0.034\n",
              "43            44              Slovenia  ...       0.144                      0.057\n",
              "44            45             Nicaragua  ...       0.200                      0.127\n",
              "45            46                Kosovo  ...       0.262                      0.006\n",
              "46            47             Argentina  ...       0.066                      0.050\n",
              "47            48               Romania  ...       0.083                      0.005\n",
              "48            49                Cyprus  ...       0.190                      0.041\n",
              "49            50               Ecuador  ...       0.126                      0.087\n",
              "50            51                Kuwait  ...       0.142                      0.097\n",
              "51            52              Thailand  ...       0.359                      0.028\n",
              "52            53                Latvia  ...       0.075                      0.064\n",
              "53            54           South Korea  ...       0.175                      0.056\n",
              "54            55               Estonia  ...       0.103                      0.161\n",
              "55            56               Jamaica  ...       0.107                      0.028\n",
              "56            57             Mauritius  ...       0.215                      0.060\n",
              "57            58                 Japan  ...       0.069                      0.140\n",
              "58            59              Honduras  ...       0.246                      0.078\n",
              "59            60            Kazakhstan  ...       0.146                      0.096\n",
              "\n",
              "[60 rows x 9 columns]"
            ]
          },
          "metadata": {
            "tags": []
          },
          "execution_count": 16
        }
      ]
    },
    {
      "cell_type": "code",
      "metadata": {
        "id": "BKtLGzGTSkg7",
        "colab_type": "code",
        "colab": {
          "base_uri": "https://localhost:8080/",
          "height": 316
        },
        "outputId": "1fa0923a-de27-4387-9d5f-80d35888f282"
      },
      "source": [
        "sns.distplot(df['Score'])"
      ],
      "execution_count": 17,
      "outputs": [
        {
          "output_type": "execute_result",
          "data": {
            "text/plain": [
              "<matplotlib.axes._subplots.AxesSubplot at 0x7f63bb624278>"
            ]
          },
          "metadata": {
            "tags": []
          },
          "execution_count": 17
        },
        {
          "output_type": "display_data",
          "data": {
            "image/png": "[encoded data removed]",
            "text/plain": [
              "<Figure size 432x288 with 1 Axes>"
            ]
          },
          "metadata": {
            "tags": []
          }
        }
      ]
    },
    {
      "cell_type": "code",
      "metadata": {
        "id": "Hu2uXaxjSm2i",
        "colab_type": "code",
        "colab": {
          "base_uri": "https://localhost:8080/",
          "height": 517
        },
        "outputId": "b2e0a51b-defd-4b55-aaae-d02d48659496"
      },
      "source": [
        "corrmat = df.corr()\n",
        "sns.color_palette('Paired')\n",
        "sns.heatmap(corrmat, vmax=.8, square=True, cmap='PiYG', center=0)"
      ],
      "execution_count": 18,
      "outputs": [
        {
          "output_type": "execute_result",
          "data": {
            "text/plain": [
              "<matplotlib.axes._subplots.AxesSubplot at 0x7f63b9976a90>"
            ]
          },
          "metadata": {
            "tags": []
          },
          "execution_count": 18
        },
        {
          "output_type": "display_data",
          "data": {
            "image/png": "[encoded data removed]",
            "text/plain": [
              "<Figure size 432x288 with 2 Axes>"
            ]
          },
          "metadata": {
            "tags": []
          }
        }
      ]
    },
    {
      "cell_type": "code",
      "metadata": {
        "id": "o3Z-ul1ESrDO",
        "colab_type": "code",
        "colab": {
          "base_uri": "https://localhost:8080/",
          "height": 542
        },
        "outputId": "16ed524f-5790-4f2e-d643-0b5947f619a6"
      },
      "source": [
        "data = dict(type='choropleth', locations=df['Country or region'], locationmode='country names', z=df['Overall rank'],\n",
        "            text=df['Country or region'],colorbar={'title':'Overall'})\n",
        "layout = dict(title = 'Global Happiness 2019', geo=dict(showframe = False))\n",
        "choromap3 = go.Figure(data=[data], layout=layout)\n",
        "iplot(choromap3)"
      ],
      "execution_count": 19,
      "outputs": [
        {
          "output_type": "display_data",
          "data": {
            "text/html": [
              "<div>\n",
              "        \n",
              "        \n",
              "            <div id=\"5fb5d1bc-30d5-400a-b73a-07283082ca22\" class=\"plotly-graph-div\" style=\"height:525px; width:100%;\"></div>\n",
              "            <script type=\"text/javascript\">\n",
              "                require([\"plotly\"], function(Plotly) {\n",
              "                    window.PLOTLYENV=window.PLOTLYENV || {};\n",
              "                    \n",
              "                if (document.getElementById(\"5fb5d1bc-30d5-400a-b73a-07283082ca22\")) {\n",
              "                    Plotly.newPlot(\n",
              "                        '5fb5d1bc-30d5-400a-b73a-07283082ca22',\n",
              "                        [{\"colorbar\": {\"title\": {\"text\": \"Overall\"}}, \"locationmode\": \"country names\", \"locations\": [\"Finland\", \"Denmark\", \"Norway\", \"Iceland\", \"Netherlands\", \"Switzerland\", \"Sweden\", \"New Zealand\", \"Canada\", \"Austria\", \"Australia\", \"Costa Rica\", \"Israel\", \"Luxembourg\", \"United Kingdom\", \"Ireland\", \"Germany\", \"Belgium\", \"United States\", \"Czech Republic\", \"United Arab Emirates\", \"Malta\", \"Mexico\", \"France\", \"Taiwan\", \"Chile\", \"Guatemala\", \"Saudi Arabia\", \"Qatar\", \"Spain\", \"Panama\", \"Brazil\", \"Uruguay\", \"Singapore\", \"El Salvador\", \"Italy\", \"Bahrain\", \"Slovakia\", \"Trinidad & Tobago\", \"Poland\", \"Uzbekistan\", \"Lithuania\", \"Colombia\", \"Slovenia\", \"Nicaragua\", \"Kosovo\", \"Argentina\", \"Romania\", \"Cyprus\", \"Ecuador\", \"Kuwait\", \"Thailand\", \"Latvia\", \"South Korea\", \"Estonia\", \"Jamaica\", \"Mauritius\", \"Japan\", \"Honduras\", \"Kazakhstan\", \"Bolivia\", \"Hungary\", \"Paraguay\", \"Northern Cyprus\", \"Peru\", \"Portugal\", \"Pakistan\", \"Russia\", \"Philippines\", \"Serbia\", \"Moldova\", \"Libya\", \"Montenegro\", \"Tajikistan\", \"Croatia\", \"Hong Kong\", \"Dominican Republic\", \"Bosnia and Herzegovina\", \"Turkey\", \"Malaysia\", \"Belarus\", \"Greece\", \"Mongolia\", \"North Macedonia\", \"Nigeria\", \"Kyrgyzstan\", \"Turkmenistan\", \"Algeria\", \"Morocco\", \"Azerbaijan\", \"Lebanon\", \"Indonesia\", \"China\", \"Vietnam\", \"Bhutan\", \"Cameroon\", \"Bulgaria\", \"Ghana\", \"Ivory Coast\", \"Nepal\", \"Jordan\", \"Benin\", \"Congo (Brazzaville)\", \"Gabon\", \"Laos\", \"South Africa\", \"Albania\", \"Venezuela\", \"Cambodia\", \"Palestinian Territories\", \"Senegal\", \"Somalia\", \"Namibia\", \"Niger\", \"Burkina Faso\", \"Armenia\", \"Iran\", \"Guinea\", \"Georgia\", \"Gambia\", \"Kenya\", \"Mauritania\", \"Mozambique\", \"Tunisia\", \"Bangladesh\", \"Iraq\", \"Congo (Kinshasa)\", \"Mali\", \"Sierra Leone\", \"Sri Lanka\", \"Myanmar\", \"Chad\", \"Ukraine\", \"Ethiopia\", \"Swaziland\", \"Uganda\", \"Egypt\", \"Zambia\", \"Togo\", \"India\", \"Liberia\", \"Comoros\", \"Madagascar\", \"Lesotho\", \"Burundi\", \"Zimbabwe\", \"Haiti\", \"Botswana\", \"Syria\", \"Malawi\", \"Yemen\", \"Rwanda\", \"Tanzania\", \"Afghanistan\", \"Central African Republic\", \"South Sudan\"], \"text\": [\"Finland\", \"Denmark\", \"Norway\", \"Iceland\", \"Netherlands\", \"Switzerland\", \"Sweden\", \"New Zealand\", \"Canada\", \"Austria\", \"Australia\", \"Costa Rica\", \"Israel\", \"Luxembourg\", \"United Kingdom\", \"Ireland\", \"Germany\", \"Belgium\", \"United States\", \"Czech Republic\", \"United Arab Emirates\", \"Malta\", \"Mexico\", \"France\", \"Taiwan\", \"Chile\", \"Guatemala\", \"Saudi Arabia\", \"Qatar\", \"Spain\", \"Panama\", \"Brazil\", \"Uruguay\", \"Singapore\", \"El Salvador\", \"Italy\", \"Bahrain\", \"Slovakia\", \"Trinidad & Tobago\", \"Poland\", \"Uzbekistan\", \"Lithuania\", \"Colombia\", \"Slovenia\", \"Nicaragua\", \"Kosovo\", \"Argentina\", \"Romania\", \"Cyprus\", \"Ecuador\", \"Kuwait\", \"Thailand\", \"Latvia\", \"South Korea\", \"Estonia\", \"Jamaica\", \"Mauritius\", \"Japan\", \"Honduras\", \"Kazakhstan\", \"Bolivia\", \"Hungary\", \"Paraguay\", \"Northern Cyprus\", \"Peru\", \"Portugal\", \"Pakistan\", \"Russia\", \"Philippines\", \"Serbia\", \"Moldova\", \"Libya\", \"Montenegro\", \"Tajikistan\", \"Croatia\", \"Hong Kong\", \"Dominican Republic\", \"Bosnia and Herzegovina\", \"Turkey\", \"Malaysia\", \"Belarus\", \"Greece\", \"Mongolia\", \"North Macedonia\", \"Nigeria\", \"Kyrgyzstan\", \"Turkmenistan\", \"Algeria\", \"Morocco\", \"Azerbaijan\", \"Lebanon\", \"Indonesia\", \"China\", \"Vietnam\", \"Bhutan\", \"Cameroon\", \"Bulgaria\", \"Ghana\", \"Ivory Coast\", \"Nepal\", \"Jordan\", \"Benin\", \"Congo (Brazzaville)\", \"Gabon\", \"Laos\", \"South Africa\", \"Albania\", \"Venezuela\", \"Cambodia\", \"Palestinian Territories\", \"Senegal\", \"Somalia\", \"Namibia\", \"Niger\", \"Burkina Faso\", \"Armenia\", \"Iran\", \"Guinea\", \"Georgia\", \"Gambia\", \"Kenya\", \"Mauritania\", \"Mozambique\", \"Tunisia\", \"Bangladesh\", \"Iraq\", \"Congo (Kinshasa)\", \"Mali\", \"Sierra Leone\", \"Sri Lanka\", \"Myanmar\", \"Chad\", \"Ukraine\", \"Ethiopia\", \"Swaziland\", \"Uganda\", \"Egypt\", \"Zambia\", \"Togo\", \"India\", \"Liberia\", \"Comoros\", \"Madagascar\", \"Lesotho\", \"Burundi\", \"Zimbabwe\", \"Haiti\", \"Botswana\", \"Syria\", \"Malawi\", \"Yemen\", \"Rwanda\", \"Tanzania\", \"Afghanistan\", \"Central African Republic\", \"South Sudan\"], \"type\": \"choropleth\", \"z\": [1, 2, 3, 4, 5, 6, 7, 8, 9, 10, 11, 12, 13, 14, 15, 16, 17, 18, 19, 20, 21, 22, 23, 24, 25, 26, 27, 28, 29, 30, 31, 32, 33, 34, 35, 36, 37, 38, 39, 40, 41, 42, 43, 44, 45, 46, 47, 48, 49, 50, 51, 52, 53, 54, 55, 56, 57, 58, 59, 60, 61, 62, 63, 64, 65, 66, 67, 68, 69, 70, 71, 72, 73, 74, 75, 76, 77, 78, 79, 80, 81, 82, 83, 84, 85, 86, 87, 88, 89, 90, 91, 92, 93, 94, 95, 96, 97, 98, 99, 100, 101, 102, 103, 104, 105, 106, 107, 108, 109, 110, 111, 112, 113, 114, 115, 116, 117, 118, 119, 120, 121, 122, 123, 124, 125, 126, 127, 128, 129, 130, 131, 132, 133, 134, 135, 136, 137, 138, 139, 140, 141, 142, 143, 144, 145, 146, 147, 148, 149, 150, 151, 152, 153, 154, 155, 156]}],\n",
              "                        {\"geo\": {\"showframe\": false}, \"template\": {\"data\": {\"bar\": [{\"error_x\": {\"color\": \"#2a3f5f\"}, \"error_y\": {\"color\": \"#2a3f5f\"}, \"marker\": {\"line\": {\"color\": \"#E5ECF6\", \"width\": 0.5}}, \"type\": \"bar\"}], \"barpolar\": [{\"marker\": {\"line\": {\"color\": \"#E5ECF6\", \"width\": 0.5}}, \"type\": \"barpolar\"}], \"carpet\": [{\"aaxis\": {\"endlinecolor\": \"#2a3f5f\", \"gridcolor\": \"white\", \"linecolor\": \"white\", \"minorgridcolor\": \"white\", \"startlinecolor\": \"#2a3f5f\"}, \"baxis\": {\"endlinecolor\": \"#2a3f5f\", \"gridcolor\": \"white\", \"linecolor\": \"white\", \"minorgridcolor\": \"white\", \"startlinecolor\": \"#2a3f5f\"}, \"type\": \"carpet\"}], \"choropleth\": [{\"colorbar\": {\"outlinewidth\": 0, \"ticks\": \"\"}, \"type\": \"choropleth\"}], \"contour\": [{\"colorbar\": {\"outlinewidth\": 0, \"ticks\": \"\"}, \"colorscale\": [[0.0, \"#0d0887\"], [0.1111111111111111, \"#46039f\"], [0.2222222222222222, \"#7201a8\"], [0.3333333333333333, \"#9c179e\"], [0.4444444444444444, \"#bd3786\"], [0.5555555555555556, \"#d8576b\"], [0.6666666666666666, \"#ed7953\"], [0.7777777777777778, \"#fb9f3a\"], [0.8888888888888888, \"#fdca26\"], [1.0, \"#f0f921\"]], \"type\": \"contour\"}], \"contourcarpet\": [{\"colorbar\": {\"outlinewidth\": 0, \"ticks\": \"\"}, \"type\": \"contourcarpet\"}], \"heatmap\": [{\"colorbar\": {\"outlinewidth\": 0, \"ticks\": \"\"}, \"colorscale\": [[0.0, \"#0d0887\"], [0.1111111111111111, \"#46039f\"], [0.2222222222222222, \"#7201a8\"], [0.3333333333333333, \"#9c179e\"], [0.4444444444444444, \"#bd3786\"], [0.5555555555555556, \"#d8576b\"], [0.6666666666666666, \"#ed7953\"], [0.7777777777777778, \"#fb9f3a\"], [0.8888888888888888, \"#fdca26\"], [1.0, \"#f0f921\"]], \"type\": \"heatmap\"}], \"heatmapgl\": [{\"colorbar\": {\"outlinewidth\": 0, \"ticks\": \"\"}, \"colorscale\": [[0.0, \"#0d0887\"], [0.1111111111111111, \"#46039f\"], [0.2222222222222222, \"#7201a8\"], [0.3333333333333333, \"#9c179e\"], [0.4444444444444444, \"#bd3786\"], [0.5555555555555556, \"#d8576b\"], [0.6666666666666666, \"#ed7953\"], [0.7777777777777778, \"#fb9f3a\"], [0.8888888888888888, \"#fdca26\"], [1.0, \"#f0f921\"]], \"type\": \"heatmapgl\"}], \"histogram\": [{\"marker\": {\"colorbar\": {\"outlinewidth\": 0, \"ticks\": \"\"}}, \"type\": \"histogram\"}], \"histogram2d\": [{\"colorbar\": {\"outlinewidth\": 0, \"ticks\": \"\"}, \"colorscale\": [[0.0, \"#0d0887\"], [0.1111111111111111, \"#46039f\"], [0.2222222222222222, \"#7201a8\"], [0.3333333333333333, \"#9c179e\"], [0.4444444444444444, \"#bd3786\"], [0.5555555555555556, \"#d8576b\"], [0.6666666666666666, \"#ed7953\"], [0.7777777777777778, \"#fb9f3a\"], [0.8888888888888888, \"#fdca26\"], [1.0, \"#f0f921\"]], \"type\": \"histogram2d\"}], \"histogram2dcontour\": [{\"colorbar\": {\"outlinewidth\": 0, \"ticks\": \"\"}, \"colorscale\": [[0.0, \"#0d0887\"], [0.1111111111111111, \"#46039f\"], [0.2222222222222222, \"#7201a8\"], [0.3333333333333333, \"#9c179e\"], [0.4444444444444444, \"#bd3786\"], [0.5555555555555556, \"#d8576b\"], [0.6666666666666666, \"#ed7953\"], [0.7777777777777778, \"#fb9f3a\"], [0.8888888888888888, \"#fdca26\"], [1.0, \"#f0f921\"]], \"type\": \"histogram2dcontour\"}], \"mesh3d\": [{\"colorbar\": {\"outlinewidth\": 0, \"ticks\": \"\"}, \"type\": \"mesh3d\"}], \"parcoords\": [{\"line\": {\"colorbar\": {\"outlinewidth\": 0, \"ticks\": \"\"}}, \"type\": \"parcoords\"}], \"pie\": [{\"automargin\": true, \"type\": \"pie\"}], \"scatter\": [{\"marker\": {\"colorbar\": {\"outlinewidth\": 0, \"ticks\": \"\"}}, \"type\": \"scatter\"}], \"scatter3d\": [{\"line\": {\"colorbar\": {\"outlinewidth\": 0, \"ticks\": \"\"}}, \"marker\": {\"colorbar\": {\"outlinewidth\": 0, \"ticks\": \"\"}}, \"type\": \"scatter3d\"}], \"scattercarpet\": [{\"marker\": {\"colorbar\": {\"outlinewidth\": 0, \"ticks\": \"\"}}, \"type\": \"scattercarpet\"}], \"scattergeo\": [{\"marker\": {\"colorbar\": {\"outlinewidth\": 0, \"ticks\": \"\"}}, \"type\": \"scattergeo\"}], \"scattergl\": [{\"marker\": {\"colorbar\": {\"outlinewidth\": 0, \"ticks\": \"\"}}, \"type\": \"scattergl\"}], \"scattermapbox\": [{\"marker\": {\"colorbar\": {\"outlinewidth\": 0, \"ticks\": \"\"}}, \"type\": \"scattermapbox\"}], \"scatterpolar\": [{\"marker\": {\"colorbar\": {\"outlinewidth\": 0, \"ticks\": \"\"}}, \"type\": \"scatterpolar\"}], \"scatterpolargl\": [{\"marker\": {\"colorbar\": {\"outlinewidth\": 0, \"ticks\": \"\"}}, \"type\": \"scatterpolargl\"}], \"scatterternary\": [{\"marker\": {\"colorbar\": {\"outlinewidth\": 0, \"ticks\": \"\"}}, \"type\": \"scatterternary\"}], \"surface\": [{\"colorbar\": {\"outlinewidth\": 0, \"ticks\": \"\"}, \"colorscale\": [[0.0, \"#0d0887\"], [0.1111111111111111, \"#46039f\"], [0.2222222222222222, \"#7201a8\"], [0.3333333333333333, \"#9c179e\"], [0.4444444444444444, \"#bd3786\"], [0.5555555555555556, \"#d8576b\"], [0.6666666666666666, \"#ed7953\"], [0.7777777777777778, \"#fb9f3a\"], [0.8888888888888888, \"#fdca26\"], [1.0, \"#f0f921\"]], \"type\": \"surface\"}], \"table\": [{\"cells\": {\"fill\": {\"color\": \"#EBF0F8\"}, \"line\": {\"color\": \"white\"}}, \"header\": {\"fill\": {\"color\": \"#C8D4E3\"}, \"line\": {\"color\": \"white\"}}, \"type\": \"table\"}]}, \"layout\": {\"annotationdefaults\": {\"arrowcolor\": \"#2a3f5f\", \"arrowhead\": 0, \"arrowwidth\": 1}, \"coloraxis\": {\"colorbar\": {\"outlinewidth\": 0, \"ticks\": \"\"}}, \"colorscale\": {\"diverging\": [[0, \"#8e0152\"], [0.1, \"#c51b7d\"], [0.2, \"#de77ae\"], [0.3, \"#f1b6da\"], [0.4, \"#fde0ef\"], [0.5, \"#f7f7f7\"], [0.6, \"#e6f5d0\"], [0.7, \"#b8e186\"], [0.8, \"#7fbc41\"], [0.9, \"#4d9221\"], [1, \"#276419\"]], \"sequential\": [[0.0, \"#0d0887\"], [0.1111111111111111, \"#46039f\"], [0.2222222222222222, \"#7201a8\"], [0.3333333333333333, \"#9c179e\"], [0.4444444444444444, \"#bd3786\"], [0.5555555555555556, \"#d8576b\"], [0.6666666666666666, \"#ed7953\"], [0.7777777777777778, \"#fb9f3a\"], [0.8888888888888888, \"#fdca26\"], [1.0, \"#f0f921\"]], \"sequentialminus\": [[0.0, \"#0d0887\"], [0.1111111111111111, \"#46039f\"], [0.2222222222222222, \"#7201a8\"], [0.3333333333333333, \"#9c179e\"], [0.4444444444444444, \"#bd3786\"], [0.5555555555555556, \"#d8576b\"], [0.6666666666666666, \"#ed7953\"], [0.7777777777777778, \"#fb9f3a\"], [0.8888888888888888, \"#fdca26\"], [1.0, \"#f0f921\"]]}, \"colorway\": [\"#636efa\", \"#EF553B\", \"#00cc96\", \"#ab63fa\", \"#FFA15A\", \"#19d3f3\", \"#FF6692\", \"#B6E880\", \"#FF97FF\", \"#FECB52\"], \"font\": {\"color\": \"#2a3f5f\"}, \"geo\": {\"bgcolor\": \"white\", \"lakecolor\": \"white\", \"landcolor\": \"#E5ECF6\", \"showlakes\": true, \"showland\": true, \"subunitcolor\": \"white\"}, \"hoverlabel\": {\"align\": \"left\"}, \"hovermode\": \"closest\", \"mapbox\": {\"style\": \"light\"}, \"paper_bgcolor\": \"white\", \"plot_bgcolor\": \"#E5ECF6\", \"polar\": {\"angularaxis\": {\"gridcolor\": \"white\", \"linecolor\": \"white\", \"ticks\": \"\"}, \"bgcolor\": \"#E5ECF6\", \"radialaxis\": {\"gridcolor\": \"white\", \"linecolor\": \"white\", \"ticks\": \"\"}}, \"scene\": {\"xaxis\": {\"backgroundcolor\": \"#E5ECF6\", \"gridcolor\": \"white\", \"gridwidth\": 2, \"linecolor\": \"white\", \"showbackground\": true, \"ticks\": \"\", \"zerolinecolor\": \"white\"}, \"yaxis\": {\"backgroundcolor\": \"#E5ECF6\", \"gridcolor\": \"white\", \"gridwidth\": 2, \"linecolor\": \"white\", \"showbackground\": true, \"ticks\": \"\", \"zerolinecolor\": \"white\"}, \"zaxis\": {\"backgroundcolor\": \"#E5ECF6\", \"gridcolor\": \"white\", \"gridwidth\": 2, \"linecolor\": \"white\", \"showbackground\": true, \"ticks\": \"\", \"zerolinecolor\": \"white\"}}, \"shapedefaults\": {\"line\": {\"color\": \"#2a3f5f\"}}, \"ternary\": {\"aaxis\": {\"gridcolor\": \"white\", \"linecolor\": \"white\", \"ticks\": \"\"}, \"baxis\": {\"gridcolor\": \"white\", \"linecolor\": \"white\", \"ticks\": \"\"}, \"bgcolor\": \"#E5ECF6\", \"caxis\": {\"gridcolor\": \"white\", \"linecolor\": \"white\", \"ticks\": \"\"}}, \"title\": {\"x\": 0.05}, \"xaxis\": {\"automargin\": true, \"gridcolor\": \"white\", \"linecolor\": \"white\", \"ticks\": \"\", \"title\": {\"standoff\": 15}, \"zerolinecolor\": \"white\", \"zerolinewidth\": 2}, \"yaxis\": {\"automargin\": true, \"gridcolor\": \"white\", \"linecolor\": \"white\", \"ticks\": \"\", \"title\": {\"standoff\": 15}, \"zerolinecolor\": \"white\", \"zerolinewidth\": 2}}}, \"title\": {\"text\": \"Global Happiness 2019\"}},\n",
              "                        {\"responsive\": true}\n",
              "                    ).then(function(){\n",
              "                            \n",
              "var gd = document.getElementById('5fb5d1bc-30d5-400a-b73a-07283082ca22');\n",
              "var x = new MutationObserver(function (mutations, observer) {{\n",
              "        var display = window.getComputedStyle(gd).display;\n",
              "        if (!display || display === 'none') {{\n",
              "            console.log([gd, 'removed!']);\n",
              "            Plotly.purge(gd);\n",
              "            observer.disconnect();\n",
              "        }}\n",
              "}});\n",
              "\n",
              "// Listen for the removal of the full notebook cells\n",
              "var notebookContainer = gd.closest('#notebook-container');\n",
              "if (notebookContainer) {{\n",
              "    x.observe(notebookContainer, {childList: true});\n",
              "}}\n",
              "\n",
              "// Listen for the clearing of the current output cell\n",
              "var outputEl = gd.closest('.output');\n",
              "if (outputEl) {{\n",
              "    x.observe(outputEl, {childList: true});\n",
              "}}\n",
              "\n",
              "                        })\n",
              "                };\n",
              "                });\n",
              "            </script>\n",
              "        </div>"
            ],
            "application/vnd.plotly.v1+json": {
              "data": [
                {
                  "text": [
                    "Finland",
                    "Denmark",
                    "Norway",
                    "Iceland",
                    "Netherlands",
                    "Switzerland",
                    "Sweden",
                    "New Zealand",
                    "Canada",
                    "Austria",
                    "Australia",
                    "Costa Rica",
                    "Israel",
                    "Luxembourg",
                    "United Kingdom",
                    "Ireland",
                    "Germany",
                    "Belgium",
                    "United States",
                    "Czech Republic",
                    "United Arab Emirates",
                    "Malta",
                    "Mexico",
                    "France",
                    "Taiwan",
                    "Chile",
                    "Guatemala",
                    "Saudi Arabia",
                    "Qatar",
                    "Spain",
                    "Panama",
                    "Brazil",
                    "Uruguay",
                    "Singapore",
                    "El Salvador",
                    "Italy",
                    "Bahrain",
                    "Slovakia",
                    "Trinidad & Tobago",
                    "Poland",
                    "Uzbekistan",
                    "Lithuania",
                    "Colombia",
                    "Slovenia",
                    "Nicaragua",
                    "Kosovo",
                    "Argentina",
                    "Romania",
                    "Cyprus",
                    "Ecuador",
                    "Kuwait",
                    "Thailand",
                    "Latvia",
                    "South Korea",
                    "Estonia",
                    "Jamaica",
                    "Mauritius",
                    "Japan",
                    "Honduras",
                    "Kazakhstan",
                    "Bolivia",
                    "Hungary",
                    "Paraguay",
                    "Northern Cyprus",
                    "Peru",
                    "Portugal",
                    "Pakistan",
                    "Russia",
                    "Philippines",
                    "Serbia",
                    "Moldova",
                    "Libya",
                    "Montenegro",
                    "Tajikistan",
                    "Croatia",
                    "Hong Kong",
                    "Dominican Republic",
                    "Bosnia and Herzegovina",
                    "Turkey",
                    "Malaysia",
                    "Belarus",
                    "Greece",
                    "Mongolia",
                    "North Macedonia",
                    "Nigeria",
                    "Kyrgyzstan",
                    "Turkmenistan",
                    "Algeria",
                    "Morocco",
                    "Azerbaijan",
                    "Lebanon",
                    "Indonesia",
                    "China",
                    "Vietnam",
                    "Bhutan",
                    "Cameroon",
                    "Bulgaria",
                    "Ghana",
                    "Ivory Coast",
                    "Nepal",
                    "Jordan",
                    "Benin",
                    "Congo (Brazzaville)",
                    "Gabon",
                    "Laos",
                    "South Africa",
                    "Albania",
                    "Venezuela",
                    "Cambodia",
                    "Palestinian Territories",
                    "Senegal",
                    "Somalia",
                    "Namibia",
                    "Niger",
                    "Burkina Faso",
                    "Armenia",
                    "Iran",
                    "Guinea",
                    "Georgia",
                    "Gambia",
                    "Kenya",
                    "Mauritania",
                    "Mozambique",
                    "Tunisia",
                    "Bangladesh",
                    "Iraq",
                    "Congo (Kinshasa)",
                    "Mali",
                    "Sierra Leone",
                    "Sri Lanka",
                    "Myanmar",
                    "Chad",
                    "Ukraine",
                    "Ethiopia",
                    "Swaziland",
                    "Uganda",
                    "Egypt",
                    "Zambia",
                    "Togo",
                    "India",
                    "Liberia",
                    "Comoros",
                    "Madagascar",
                    "Lesotho",
                    "Burundi",
                    "Zimbabwe",
                    "Haiti",
                    "Botswana",
                    "Syria",
                    "Malawi",
                    "Yemen",
                    "Rwanda",
                    "Tanzania",
                    "Afghanistan",
                    "Central African Republic",
                    "South Sudan"
                  ],
                  "locations": [
                    "Finland",
                    "Denmark",
                    "Norway",
                    "Iceland",
                    "Netherlands",
                    "Switzerland",
                    "Sweden",
                    "New Zealand",
                    "Canada",
                    "Austria",
                    "Australia",
                    "Costa Rica",
                    "Israel",
                    "Luxembourg",
                    "United Kingdom",
                    "Ireland",
                    "Germany",
                    "Belgium",
                    "United States",
                    "Czech Republic",
                    "United Arab Emirates",
                    "Malta",
                    "Mexico",
                    "France",
                    "Taiwan",
                    "Chile",
                    "Guatemala",
                    "Saudi Arabia",
                    "Qatar",
                    "Spain",
                    "Panama",
                    "Brazil",
                    "Uruguay",
                    "Singapore",
                    "El Salvador",
                    "Italy",
                    "Bahrain",
                    "Slovakia",
                    "Trinidad & Tobago",
                    "Poland",
                    "Uzbekistan",
                    "Lithuania",
                    "Colombia",
                    "Slovenia",
                    "Nicaragua",
                    "Kosovo",
                    "Argentina",
                    "Romania",
                    "Cyprus",
                    "Ecuador",
                    "Kuwait",
                    "Thailand",
                    "Latvia",
                    "South Korea",
                    "Estonia",
                    "Jamaica",
                    "Mauritius",
                    "Japan",
                    "Honduras",
                    "Kazakhstan",
                    "Bolivia",
                    "Hungary",
                    "Paraguay",
                    "Northern Cyprus",
                    "Peru",
                    "Portugal",
                    "Pakistan",
                    "Russia",
                    "Philippines",
                    "Serbia",
                    "Moldova",
                    "Libya",
                    "Montenegro",
                    "Tajikistan",
                    "Croatia",
                    "Hong Kong",
                    "Dominican Republic",
                    "Bosnia and Herzegovina",
                    "Turkey",
                    "Malaysia",
                    "Belarus",
                    "Greece",
                    "Mongolia",
                    "North Macedonia",
                    "Nigeria",
                    "Kyrgyzstan",
                    "Turkmenistan",
                    "Algeria",
                    "Morocco",
                    "Azerbaijan",
                    "Lebanon",
                    "Indonesia",
                    "China",
                    "Vietnam",
                    "Bhutan",
                    "Cameroon",
                    "Bulgaria",
                    "Ghana",
                    "Ivory Coast",
                    "Nepal",
                    "Jordan",
                    "Benin",
                    "Congo (Brazzaville)",
                    "Gabon",
                    "Laos",
                    "South Africa",
                    "Albania",
                    "Venezuela",
                    "Cambodia",
                    "Palestinian Territories",
                    "Senegal",
                    "Somalia",
                    "Namibia",
                    "Niger",
                    "Burkina Faso",
                    "Armenia",
                    "Iran",
                    "Guinea",
                    "Georgia",
                    "Gambia",
                    "Kenya",
                    "Mauritania",
                    "Mozambique",
                    "Tunisia",
                    "Bangladesh",
                    "Iraq",
                    "Congo (Kinshasa)",
                    "Mali",
                    "Sierra Leone",
                    "Sri Lanka",
                    "Myanmar",
                    "Chad",
                    "Ukraine",
                    "Ethiopia",
                    "Swaziland",
                    "Uganda",
                    "Egypt",
                    "Zambia",
                    "Togo",
                    "India",
                    "Liberia",
                    "Comoros",
                    "Madagascar",
                    "Lesotho",
                    "Burundi",
                    "Zimbabwe",
                    "Haiti",
                    "Botswana",
                    "Syria",
                    "Malawi",
                    "Yemen",
                    "Rwanda",
                    "Tanzania",
                    "Afghanistan",
                    "Central African Republic",
                    "South Sudan"
                  ],
                  "colorbar": {
                    "title": {
                      "text": "Overall"
                    }
                  },
                  "type": "choropleth",
                  "z": [
                    1,
                    2,
                    3,
                    4,
                    5,
                    6,
                    7,
                    8,
                    9,
                    10,
                    11,
                    12,
                    13,
                    14,
                    15,
                    16,
                    17,
                    18,
                    19,
                    20,
                    21,
                    22,
                    23,
                    24,
                    25,
                    26,
                    27,
                    28,
                    29,
                    30,
                    31,
                    32,
                    33,
                    34,
                    35,
                    36,
                    37,
                    38,
                    39,
                    40,
                    41,
                    42,
                    43,
                    44,
                    45,
                    46,
                    47,
                    48,
                    49,
                    50,
                    51,
                    52,
                    53,
                    54,
                    55,
                    56,
                    57,
                    58,
                    59,
                    60,
                    61,
                    62,
                    63,
                    64,
                    65,
                    66,
                    67,
                    68,
                    69,
                    70,
                    71,
                    72,
                    73,
                    74,
                    75,
                    76,
                    77,
                    78,
                    79,
                    80,
                    81,
                    82,
                    83,
                    84,
                    85,
                    86,
                    87,
                    88,
                    89,
                    90,
                    91,
                    92,
                    93,
                    94,
                    95,
                    96,
                    97,
                    98,
                    99,
                    100,
                    101,
                    102,
                    103,
                    104,
                    105,
                    106,
                    107,
                    108,
                    109,
                    110,
                    111,
                    112,
                    113,
                    114,
                    115,
                    116,
                    117,
                    118,
                    119,
                    120,
                    121,
                    122,
                    123,
                    124,
                    125,
                    126,
                    127,
                    128,
                    129,
                    130,
                    131,
                    132,
                    133,
                    134,
                    135,
                    136,
                    137,
                    138,
                    139,
                    140,
                    141,
                    142,
                    143,
                    144,
                    145,
                    146,
                    147,
                    148,
                    149,
                    150,
                    151,
                    152,
                    153,
                    154,
                    155,
                    156
                  ],
                  "locationmode": "country names"
                }
              ],
              "config": {
                "plotlyServerURL": "https://plot.ly",
                "linkText": "Export to plot.ly",
                "showLink": false
              },
              "layout": {
                "geo": {
                  "showframe": false
                },
                "template": {
                  "layout": {
                    "shapedefaults": {
                      "line": {
                        "color": "#2a3f5f"
                      }
                    },
                    "polar": {
                      "radialaxis": {
                        "ticks": "",
                        "gridcolor": "white",
                        "linecolor": "white"
                      },
                      "bgcolor": "#E5ECF6",
                      "angularaxis": {
                        "ticks": "",
                        "gridcolor": "white",
                        "linecolor": "white"
                      }
                    },
                    "colorway": [
                      "#636efa",
                      "#EF553B",
                      "#00cc96",
                      "#ab63fa",
                      "#FFA15A",
                      "#19d3f3",
                      "#FF6692",
                      "#B6E880",
                      "#FF97FF",
                      "#FECB52"
                    ],
                    "xaxis": {
                      "automargin": true,
                      "title": {
                        "standoff": 15
                      },
                      "zerolinewidth": 2,
                      "ticks": "",
                      "zerolinecolor": "white",
                      "gridcolor": "white",
                      "linecolor": "white"
                    },
                    "colorscale": {
                      "diverging": [
                        [
                          0,
                          "#8e0152"
                        ],
                        [
                          0.1,
                          "#c51b7d"
                        ],
                        [
                          0.2,
                          "#de77ae"
                        ],
                        [
                          0.3,
                          "#f1b6da"
                        ],
                        [
                          0.4,
                          "#fde0ef"
                        ],
                        [
                          0.5,
                          "#f7f7f7"
                        ],
                        [
                          0.6,
                          "#e6f5d0"
                        ],
                        [
                          0.7,
                          "#b8e186"
                        ],
                        [
                          0.8,
                          "#7fbc41"
                        ],
                        [
                          0.9,
                          "#4d9221"
                        ],
                        [
                          1,
                          "#276419"
                        ]
                      ],
                      "sequential": [
                        [
                          0,
                          "#0d0887"
                        ],
                        [
                          0.1111111111111111,
                          "#46039f"
                        ],
                        [
                          0.2222222222222222,
                          "#7201a8"
                        ],
                        [
                          0.3333333333333333,
                          "#9c179e"
                        ],
                        [
                          0.4444444444444444,
                          "#bd3786"
                        ],
                        [
                          0.5555555555555556,
                          "#d8576b"
                        ],
                        [
                          0.6666666666666666,
                          "#ed7953"
                        ],
                        [
                          0.7777777777777778,
                          "#fb9f3a"
                        ],
                        [
                          0.8888888888888888,
                          "#fdca26"
                        ],
                        [
                          1,
                          "#f0f921"
                        ]
                      ],
                      "sequentialminus": [
                        [
                          0,
                          "#0d0887"
                        ],
                        [
                          0.1111111111111111,
                          "#46039f"
                        ],
                        [
                          0.2222222222222222,
                          "#7201a8"
                        ],
                        [
                          0.3333333333333333,
                          "#9c179e"
                        ],
                        [
                          0.4444444444444444,
                          "#bd3786"
                        ],
                        [
                          0.5555555555555556,
                          "#d8576b"
                        ],
                        [
                          0.6666666666666666,
                          "#ed7953"
                        ],
                        [
                          0.7777777777777778,
                          "#fb9f3a"
                        ],
                        [
                          0.8888888888888888,
                          "#fdca26"
                        ],
                        [
                          1,
                          "#f0f921"
                        ]
                      ]
                    },
                    "paper_bgcolor": "white",
                    "plot_bgcolor": "#E5ECF6",
                    "title": {
                      "x": 0.05
                    },
                    "scene": {
                      "zaxis": {
                        "backgroundcolor": "#E5ECF6",
                        "ticks": "",
                        "gridwidth": 2,
                        "showbackground": true,
                        "zerolinecolor": "white",
                        "gridcolor": "white",
                        "linecolor": "white"
                      },
                      "xaxis": {
                        "backgroundcolor": "#E5ECF6",
                        "ticks": "",
                        "gridwidth": 2,
                        "showbackground": true,
                        "zerolinecolor": "white",
                        "gridcolor": "white",
                        "linecolor": "white"
                      },
                      "yaxis": {
                        "backgroundcolor": "#E5ECF6",
                        "ticks": "",
                        "gridwidth": 2,
                        "showbackground": true,
                        "zerolinecolor": "white",
                        "gridcolor": "white",
                        "linecolor": "white"
                      }
                    },
                    "yaxis": {
                      "automargin": true,
                      "title": {
                        "standoff": 15
                      },
                      "zerolinewidth": 2,
                      "ticks": "",
                      "zerolinecolor": "white",
                      "gridcolor": "white",
                      "linecolor": "white"
                    },
                    "annotationdefaults": {
                      "arrowwidth": 1,
                      "arrowhead": 0,
                      "arrowcolor": "#2a3f5f"
                    },
                    "hoverlabel": {
                      "align": "left"
                    },
                    "ternary": {
                      "bgcolor": "#E5ECF6",
                      "baxis": {
                        "ticks": "",
                        "gridcolor": "white",
                        "linecolor": "white"
                      },
                      "caxis": {
                        "ticks": "",
                        "gridcolor": "white",
                        "linecolor": "white"
                      },
                      "aaxis": {
                        "ticks": "",
                        "gridcolor": "white",
                        "linecolor": "white"
                      }
                    },
                    "mapbox": {
                      "style": "light"
                    },
                    "hovermode": "closest",
                    "font": {
                      "color": "#2a3f5f"
                    },
                    "geo": {
                      "showland": true,
                      "landcolor": "#E5ECF6",
                      "showlakes": true,
                      "bgcolor": "white",
                      "subunitcolor": "white",
                      "lakecolor": "white"
                    },
                    "coloraxis": {
                      "colorbar": {
                        "outlinewidth": 0,
                        "ticks": ""
                      }
                    }
                  },
                  "data": {
                    "mesh3d": [
                      {
                        "colorbar": {
                          "outlinewidth": 0,
                          "ticks": ""
                        },
                        "type": "mesh3d"
                      }
                    ],
                    "scattercarpet": [
                      {
                        "marker": {
                          "colorbar": {
                            "outlinewidth": 0,
                            "ticks": ""
                          }
                        },
                        "type": "scattercarpet"
                      }
                    ],
                    "pie": [
                      {
                        "automargin": true,
                        "type": "pie"
                      }
                    ],
                    "surface": [
                      {
                        "colorbar": {
                          "outlinewidth": 0,
                          "ticks": ""
                        },
                        "type": "surface",
                        "colorscale": [
                          [
                            0,
                            "#0d0887"
                          ],
                          [
                            0.1111111111111111,
                            "#46039f"
                          ],
                          [
                            0.2222222222222222,
                            "#7201a8"
                          ],
                          [
                            0.3333333333333333,
                            "#9c179e"
                          ],
                          [
                            0.4444444444444444,
                            "#bd3786"
                          ],
                          [
                            0.5555555555555556,
                            "#d8576b"
                          ],
                          [
                            0.6666666666666666,
                            "#ed7953"
                          ],
                          [
                            0.7777777777777778,
                            "#fb9f3a"
                          ],
                          [
                            0.8888888888888888,
                            "#fdca26"
                          ],
                          [
                            1,
                            "#f0f921"
                          ]
                        ]
                      }
                    ],
                    "table": [
                      {
                        "header": {
                          "line": {
                            "color": "white"
                          },
                          "fill": {
                            "color": "#C8D4E3"
                          }
                        },
                        "cells": {
                          "line": {
                            "color": "white"
                          },
                          "fill": {
                            "color": "#EBF0F8"
                          }
                        },
                        "type": "table"
                      }
                    ],
                    "scatterpolargl": [
                      {
                        "marker": {
                          "colorbar": {
                            "outlinewidth": 0,
                            "ticks": ""
                          }
                        },
                        "type": "scatterpolargl"
                      }
                    ],
                    "contour": [
                      {
                        "colorbar": {
                          "outlinewidth": 0,
                          "ticks": ""
                        },
                        "type": "contour",
                        "colorscale": [
                          [
                            0,
                            "#0d0887"
                          ],
                          [
                            0.1111111111111111,
                            "#46039f"
                          ],
                          [
                            0.2222222222222222,
                            "#7201a8"
                          ],
                          [
                            0.3333333333333333,
                            "#9c179e"
                          ],
                          [
                            0.4444444444444444,
                            "#bd3786"
                          ],
                          [
                            0.5555555555555556,
                            "#d8576b"
                          ],
                          [
                            0.6666666666666666,
                            "#ed7953"
                          ],
                          [
                            0.7777777777777778,
                            "#fb9f3a"
                          ],
                          [
                            0.8888888888888888,
                            "#fdca26"
                          ],
                          [
                            1,
                            "#f0f921"
                          ]
                        ]
                      }
                    ],
                    "carpet": [
                      {
                        "type": "carpet",
                        "baxis": {
                          "minorgridcolor": "white",
                          "gridcolor": "white",
                          "linecolor": "white",
                          "endlinecolor": "#2a3f5f",
                          "startlinecolor": "#2a3f5f"
                        },
                        "aaxis": {
                          "minorgridcolor": "white",
                          "gridcolor": "white",
                          "linecolor": "white",
                          "endlinecolor": "#2a3f5f",
                          "startlinecolor": "#2a3f5f"
                        }
                      }
                    ],
                    "contourcarpet": [
                      {
                        "colorbar": {
                          "outlinewidth": 0,
                          "ticks": ""
                        },
                        "type": "contourcarpet"
                      }
                    ],
                    "heatmap": [
                      {
                        "colorbar": {
                          "outlinewidth": 0,
                          "ticks": ""
                        },
                        "type": "heatmap",
                        "colorscale": [
                          [
                            0,
                            "#0d0887"
                          ],
                          [
                            0.1111111111111111,
                            "#46039f"
                          ],
                          [
                            0.2222222222222222,
                            "#7201a8"
                          ],
                          [
                            0.3333333333333333,
                            "#9c179e"
                          ],
                          [
                            0.4444444444444444,
                            "#bd3786"
                          ],
                          [
                            0.5555555555555556,
                            "#d8576b"
                          ],
                          [
                            0.6666666666666666,
                            "#ed7953"
                          ],
                          [
                            0.7777777777777778,
                            "#fb9f3a"
                          ],
                          [
                            0.8888888888888888,
                            "#fdca26"
                          ],
                          [
                            1,
                            "#f0f921"
                          ]
                        ]
                      }
                    ],
                    "scattermapbox": [
                      {
                        "marker": {
                          "colorbar": {
                            "outlinewidth": 0,
                            "ticks": ""
                          }
                        },
                        "type": "scattermapbox"
                      }
                    ],
                    "scatter3d": [
                      {
                        "marker": {
                          "colorbar": {
                            "outlinewidth": 0,
                            "ticks": ""
                          }
                        },
                        "line": {
                          "colorbar": {
                            "outlinewidth": 0,
                            "ticks": ""
                          }
                        },
                        "type": "scatter3d"
                      }
                    ],
                    "scattergl": [
                      {
                        "marker": {
                          "colorbar": {
                            "outlinewidth": 0,
                            "ticks": ""
                          }
                        },
                        "type": "scattergl"
                      }
                    ],
                    "scatterternary": [
                      {
                        "marker": {
                          "colorbar": {
                            "outlinewidth": 0,
                            "ticks": ""
                          }
                        },
                        "type": "scatterternary"
                      }
                    ],
                    "histogram": [
                      {
                        "marker": {
                          "colorbar": {
                            "outlinewidth": 0,
                            "ticks": ""
                          }
                        },
                        "type": "histogram"
                      }
                    ],
                    "heatmapgl": [
                      {
                        "colorbar": {
                          "outlinewidth": 0,
                          "ticks": ""
                        },
                        "type": "heatmapgl",
                        "colorscale": [
                          [
                            0,
                            "#0d0887"
                          ],
                          [
                            0.1111111111111111,
                            "#46039f"
                          ],
                          [
                            0.2222222222222222,
                            "#7201a8"
                          ],
                          [
                            0.3333333333333333,
                            "#9c179e"
                          ],
                          [
                            0.4444444444444444,
                            "#bd3786"
                          ],
                          [
                            0.5555555555555556,
                            "#d8576b"
                          ],
                          [
                            0.6666666666666666,
                            "#ed7953"
                          ],
                          [
                            0.7777777777777778,
                            "#fb9f3a"
                          ],
                          [
                            0.8888888888888888,
                            "#fdca26"
                          ],
                          [
                            1,
                            "#f0f921"
                          ]
                        ]
                      }
                    ],
                    "scatterpolar": [
                      {
                        "marker": {
                          "colorbar": {
                            "outlinewidth": 0,
                            "ticks": ""
                          }
                        },
                        "type": "scatterpolar"
                      }
                    ],
                    "histogram2d": [
                      {
                        "colorbar": {
                          "outlinewidth": 0,
                          "ticks": ""
                        },
                        "type": "histogram2d",
                        "colorscale": [
                          [
                            0,
                            "#0d0887"
                          ],
                          [
                            0.1111111111111111,
                            "#46039f"
                          ],
                          [
                            0.2222222222222222,
                            "#7201a8"
                          ],
                          [
                            0.3333333333333333,
                            "#9c179e"
                          ],
                          [
                            0.4444444444444444,
                            "#bd3786"
                          ],
                          [
                            0.5555555555555556,
                            "#d8576b"
                          ],
                          [
                            0.6666666666666666,
                            "#ed7953"
                          ],
                          [
                            0.7777777777777778,
                            "#fb9f3a"
                          ],
                          [
                            0.8888888888888888,
                            "#fdca26"
                          ],
                          [
                            1,
                            "#f0f921"
                          ]
                        ]
                      }
                    ],
                    "scattergeo": [
                      {
                        "marker": {
                          "colorbar": {
                            "outlinewidth": 0,
                            "ticks": ""
                          }
                        },
                        "type": "scattergeo"
                      }
                    ],
                    "bar": [
                      {
                        "marker": {
                          "line": {
                            "color": "#E5ECF6",
                            "width": 0.5
                          }
                        },
                        "type": "bar",
                        "error_x": {
                          "color": "#2a3f5f"
                        },
                        "error_y": {
                          "color": "#2a3f5f"
                        }
                      }
                    ],
                    "choropleth": [
                      {
                        "colorbar": {
                          "outlinewidth": 0,
                          "ticks": ""
                        },
                        "type": "choropleth"
                      }
                    ],
                    "parcoords": [
                      {
                        "line": {
                          "colorbar": {
                            "outlinewidth": 0,
                            "ticks": ""
                          }
                        },
                        "type": "parcoords"
                      }
                    ],
                    "barpolar": [
                      {
                        "marker": {
                          "line": {
                            "color": "#E5ECF6",
                            "width": 0.5
                          }
                        },
                        "type": "barpolar"
                      }
                    ],
                    "histogram2dcontour": [
                      {
                        "colorbar": {
                          "outlinewidth": 0,
                          "ticks": ""
                        },
                        "type": "histogram2dcontour",
                        "colorscale": [
                          [
                            0,
                            "#0d0887"
                          ],
                          [
                            0.1111111111111111,
                            "#46039f"
                          ],
                          [
                            0.2222222222222222,
                            "#7201a8"
                          ],
                          [
                            0.3333333333333333,
                            "#9c179e"
                          ],
                          [
                            0.4444444444444444,
                            "#bd3786"
                          ],
                          [
                            0.5555555555555556,
                            "#d8576b"
                          ],
                          [
                            0.6666666666666666,
                            "#ed7953"
                          ],
                          [
                            0.7777777777777778,
                            "#fb9f3a"
                          ],
                          [
                            0.8888888888888888,
                            "#fdca26"
                          ],
                          [
                            1,
                            "#f0f921"
                          ]
                        ]
                      }
                    ],
                    "scatter": [
                      {
                        "marker": {
                          "colorbar": {
                            "outlinewidth": 0,
                            "ticks": ""
                          }
                        },
                        "type": "scatter"
                      }
                    ]
                  }
                },
                "title": {
                  "text": "Global Happiness 2019"
                }
              }
            }
          },
          "metadata": {
            "tags": []
          }
        }
      ]
    },
    {
      "cell_type": "code",
      "metadata": {
        "id": "rCOvDTwkS-q5",
        "colab_type": "code",
        "colab": {
          "base_uri": "https://localhost:8080/",
          "height": 802
        },
        "outputId": "e17c957b-bac1-461c-ef0e-7b0ee09cf2f7"
      },
      "source": [
        "corrmat = df.corr()\n",
        "mask = np.zeros_like(corrmat, dtype=np.bool)\n",
        "mask[np.triu_indices_from(mask)] = True\n",
        "plt.figure(figsize=(10, 10))\n",
        "sns.heatmap(corrmat, annot=True, vmax=.8, square=True, cmap='PiYG', center=0, mask=mask)"
      ],
      "execution_count": 20,
      "outputs": [
        {
          "output_type": "execute_result",
          "data": {
            "text/plain": [
              "<matplotlib.axes._subplots.AxesSubplot at 0x7f63b9976898>"
            ]
          },
          "metadata": {
            "tags": []
          },
          "execution_count": 20
        },
        {
          "output_type": "display_data",
          "data": {
            "image/png": "[encoded data removed]",
            "text/plain": [
              "<Figure size 720x720 with 2 Axes>"
            ]
          },
          "metadata": {
            "tags": []
          }
        }
      ]
    },
    {
      "cell_type": "code",
      "metadata": {
        "id": "ELGemBMLRA5D",
        "colab_type": "code",
        "outputId": "d734dab4-a22e-4f9e-9a22-38c2be7adf02",
        "colab": {
          "base_uri": "https://localhost:8080/",
          "height": 193
        }
      },
      "source": [
        "kcj_df = df[df['Country or region'].str.contains('Korea|China|Japan')]\n",
        "kcj_df"
      ],
      "execution_count": 21,
      "outputs": [
        {
          "output_type": "execute_result",
          "data": {
            "text/html": [
              "<div>\n",
              "<style scoped>\n",
              "    .dataframe tbody tr th:only-of-type {\n",
              "        vertical-align: middle;\n",
              "    }\n",
              "\n",
              "    .dataframe tbody tr th {\n",
              "        vertical-align: top;\n",
              "    }\n",
              "\n",
              "    .dataframe thead th {\n",
              "        text-align: right;\n",
              "    }\n",
              "</style>\n",
              "<table border=\"1\" class=\"dataframe\">\n",
              "  <thead>\n",
              "    <tr style=\"text-align: right;\">\n",
              "      <th></th>\n",
              "      <th>Overall rank</th>\n",
              "      <th>Country or region</th>\n",
              "      <th>Score</th>\n",
              "      <th>GDP per capita</th>\n",
              "      <th>Social support</th>\n",
              "      <th>Healthy life expectancy</th>\n",
              "      <th>Freedom to make life choices</th>\n",
              "      <th>Generosity</th>\n",
              "      <th>Perceptions of corruption</th>\n",
              "    </tr>\n",
              "  </thead>\n",
              "  <tbody>\n",
              "    <tr>\n",
              "      <th>53</th>\n",
              "      <td>54</td>\n",
              "      <td>South Korea</td>\n",
              "      <td>5.895</td>\n",
              "      <td>1.301</td>\n",
              "      <td>1.219</td>\n",
              "      <td>1.036</td>\n",
              "      <td>0.159</td>\n",
              "      <td>0.175</td>\n",
              "      <td>0.056</td>\n",
              "    </tr>\n",
              "    <tr>\n",
              "      <th>57</th>\n",
              "      <td>58</td>\n",
              "      <td>Japan</td>\n",
              "      <td>5.886</td>\n",
              "      <td>1.327</td>\n",
              "      <td>1.419</td>\n",
              "      <td>1.088</td>\n",
              "      <td>0.445</td>\n",
              "      <td>0.069</td>\n",
              "      <td>0.140</td>\n",
              "    </tr>\n",
              "    <tr>\n",
              "      <th>92</th>\n",
              "      <td>93</td>\n",
              "      <td>China</td>\n",
              "      <td>5.191</td>\n",
              "      <td>1.029</td>\n",
              "      <td>1.125</td>\n",
              "      <td>0.893</td>\n",
              "      <td>0.521</td>\n",
              "      <td>0.058</td>\n",
              "      <td>0.100</td>\n",
              "    </tr>\n",
              "  </tbody>\n",
              "</table>\n",
              "</div>"
            ],
            "text/plain": [
              "    Overall rank Country or region  ...  Generosity  Perceptions of corruption\n",
              "53            54       South Korea  ...       0.175                      0.056\n",
              "57            58             Japan  ...       0.069                      0.140\n",
              "92            93             China  ...       0.058                      0.100\n",
              "\n",
              "[3 rows x 9 columns]"
            ]
          },
          "metadata": {
            "tags": []
          },
          "execution_count": 21
        }
      ]
    },
    {
      "cell_type": "code",
      "metadata": {
        "id": "M8RDapn7RKlT",
        "colab_type": "code",
        "outputId": "b8fd0b7e-8391-4335-8e1b-2d09046645cc",
        "colab": {
          "base_uri": "https://localhost:8080/",
          "height": 316
        }
      },
      "source": [
        "sns.scatterplot(x='Country or region', y='Score', data=kcj_df)"
      ],
      "execution_count": 22,
      "outputs": [
        {
          "output_type": "execute_result",
          "data": {
            "text/plain": [
              "<matplotlib.axes._subplots.AxesSubplot at 0x7f63b924be48>"
            ]
          },
          "metadata": {
            "tags": []
          },
          "execution_count": 22
        },
        {
          "output_type": "display_data",
          "data": {
            "image/png": "[encoded data removed]",
            "text/plain": [
              "<Figure size 432x288 with 1 Axes>"
            ]
          },
          "metadata": {
            "tags": []
          }
        }
      ]
    }
  ]
}