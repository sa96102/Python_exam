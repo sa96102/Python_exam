{
  "nbformat": 4,
  "nbformat_minor": 0,
  "metadata": {
    "colab": {
      "name": "parabola.ipynb",
      "provenance": [],
      "collapsed_sections": [],
      "authorship_tag": "ABX9TyNWGPcjrltOw2oM5On4wgzA",
      "include_colab_link": true
    },
    "kernelspec": {
      "name": "python3",
      "display_name": "Python 3"
    }
  },
  "cells": [
    {
      "cell_type": "markdown",
      "metadata": {
        "id": "view-in-github",
        "colab_type": "text"
      },
      "source": [
        "<a href=\"https://colab.research.google.com/github/sa96102/Python_exam/blob/master/parabola.ipynb\" target=\"_parent\"><img src=\"https://colab.research.google.com/assets/colab-badge.svg\" alt=\"Open In Colab\"/></a>"
      ]
    },
    {
      "cell_type": "code",
      "metadata": {
        "id": "zQDbYSPeZ0sX",
        "colab_type": "code",
        "colab": {}
      },
      "source": [
        "import math\n",
        "from math import pow, ceil\n",
        "from matplotlib import pyplot as plt"
      ],
      "execution_count": 0,
      "outputs": []
    },
    {
      "cell_type": "code",
      "metadata": {
        "id": "Yyk1_ACkaQoT",
        "colab_type": "code",
        "colab": {}
      },
      "source": [
        "GRAVITY = 9.81 # 중력가속도\n",
        "INTERVAL = 0.001 # 시간주기"
      ],
      "execution_count": 0,
      "outputs": []
    },
    {
      "cell_type": "code",
      "metadata": {
        "id": "wF4TK9jUafny",
        "colab_type": "code",
        "colab": {}
      },
      "source": [
        "# 그래프에 포물선을 표시하기 위해 배열을 만드는 함수 선언.\n",
        "def timeArray(start, end, step): # 부동소수점 배열 생성.\n",
        "    times = []\n",
        "    while start < end:\n",
        "        times.append(start)\n",
        "        start += step\n",
        "    return times"
      ],
      "execution_count": 0,
      "outputs": []
    },
    {
      "cell_type": "code",
      "metadata": {
        "id": "e6O5vHrxbFwp",
        "colab_type": "code",
        "colab": {}
      },
      "source": [
        "# 포물선을 그리는 함수를 선언.\n",
        "def draw_parabola(xVelocity, yVelocity):\n",
        "    \"\"\"\n",
        "    비행 시간의 계산\n",
        "    물체가 낙하는 시간 t\n",
        "    F=ma=m(delta_v/t), t = delta_v/a(중력가속도)\n",
        "    비행시간 t는 낙하하는 시간의 두배이므로\n",
        "    2(y벡터 속도v_y / 중력 가속도a)\n",
        "    \"\"\"\n",
        "    flyTime = 2 * yVelocity / GRAVITY\n",
        "    \"\"\"\n",
        "    비행거리는 x축의 변위\n",
        "    x축의 변화되는 위치 S는\n",
        "    속도v_x와 비행시간t의 곱 (S = v_x t)\n",
        "    \"\"\"\n",
        "    flyDistance = xVelocity * flyTime\n",
        "    # timeArray 함수를 이용하여  물체가 날기 시작하여 낙하할 때까지의 시간주기를 이용한 배열 생성.\n",
        "    intervals = timeArray(0, flyTime, INTERVAL)\n",
        "\n",
        "    # x축과 y축의 위치를 표시하기 위한 배열.\n",
        "    x = []\n",
        "    y = []\n",
        "\n",
        "    # 시간주기 배열을 for문을 이용, loop를 돌리면 t 시간주기 별로 x, y 배열에 위치값을 계산하여 저장할 수 있음.\n",
        "    for t in intervals:\n",
        "        \"\"\"\n",
        "        x축의 위치 계산\n",
        "        x축의 변화되는 위치 S는 (S = v_x t)\n",
        "        x축 벡터 변위 : 속도v_x와 시간t의 곱\n",
        "        \"\"\"\n",
        "        x.append(xVelocity * t)\n",
        "        \"\"\"\n",
        "        y축의 위치 계산\n",
        "        y축의 변화되는 위치 S는 y축 벡터 변위(속도v_y와 시간t의 곱)와\n",
        "        중력 벡터 변위(1/2 at^2, 4.9 t^2)의 차\n",
        "        S = v_y t - 4.9 t^2\n",
        "        \"\"\"\n",
        "        y.append(yVelocity * t - 0.5 * GRAVITY * math.pow(t, 2))\n",
        "\n",
        "    plt.plot(x, y) # x, y 배열에 저장한 위치값을 표시.\n",
        "    plt.xlabel('x vector velocity is ' + str(xVelocity) + 'm/s') # x축 범주에 입력한 x벡터 속도를 표시.\n",
        "    plt.ylabel('y vector velocity is ' + str(yVelocity) + 'm/s') # y축 범주에 입력한 y벡터 속도를 표시.\n",
        "    plt.title('Fly time is ' + str(math.ceil(flyTime)) + 's, Distance is ' + str(math.ceil(flyDistance))) # 계산한 비행시간과 거리를 math.ceil함수를 이용, 정수로 표시."
      ],
      "execution_count": 0,
      "outputs": []
    },
    {
      "cell_type": "code",
      "metadata": {
        "id": "Oz6Clj63bVK1",
        "colab_type": "code",
        "colab": {
          "base_uri": "https://localhost:8080/",
          "height": 331
        },
        "outputId": "c5c6260b-3863-49f4-d751-781356d86dd1"
      },
      "source": [
        "if __name__ == '__main__':\n",
        "    try:\n",
        "        xVelocity = float(input('Enter the x vector velocity(m/s) : ')) # x벡터 속도 입력.\n",
        "        yVelocity = float(input('Enter the y vector velocity(m/s) : ')) # y벡터 속도 입력.\n",
        "    except ValueError:\n",
        "        print('You Entered an invalid input') # 잘못된 값을 입력받을 시 에러 메시지 출력.\n",
        "    else:\n",
        "        draw_parabola(xVelocity, yVelocity) # x벡터, y벡터 속도를 입력받으면 draw_parabola 함수 출력.\n",
        "        plt.show()"
      ],
      "execution_count": 5,
      "outputs": [
        {
          "output_type": "stream",
          "text": [
            "Enter the x vector velocity(m/s) : 5\n",
            "Enter the y vector velocity(m/s) : 3\n"
          ],
          "name": "stdout"
        },
        {
          "output_type": "display_data",
          "data": {
            "image/png": "[encoded data removed]",
            "text/plain": [
              "<Figure size 432x288 with 1 Axes>"
            ]
          },
          "metadata": {
            "tags": []
          }
        }
      ]
    }
  ]
}