{
  "nbformat": 4,
  "nbformat_minor": 0,
  "metadata": {
    "colab": {
      "name": "Vending_machine_simulator.ipynb",
      "provenance": [],
      "collapsed_sections": [],
      "authorship_tag": "ABX9TyOpWe5+9E1hyaNB4FFWXbhy",
      "include_colab_link": true
    },
    "kernelspec": {
      "name": "python3",
      "display_name": "Python 3"
    }
  },
  "cells": [
    {
      "cell_type": "markdown",
      "metadata": {
        "id": "view-in-github",
        "colab_type": "text"
      },
      "source": [
        "<a href=\"https://colab.research.google.com/github/sa96102/Python_exam/blob/master/Vending_machine_simulator.ipynb\" target=\"_parent\"><img src=\"https://colab.research.google.com/assets/colab-badge.svg\" alt=\"Open In Colab\"/></a>"
      ]
    },
    {
      "cell_type": "markdown",
      "metadata": {
        "id": "MZHL83D3BpWL",
        "colab_type": "text"
      },
      "source": [
        "# class exercise"
      ]
    },
    {
      "cell_type": "code",
      "metadata": {
        "id": "1uxAhXF7_208",
        "colab_type": "code",
        "colab": {}
      },
      "source": [
        "import sys"
      ],
      "execution_count": 0,
      "outputs": []
    },
    {
      "cell_type": "code",
      "metadata": {
        "id": "qXjNkTyHAPyG",
        "colab_type": "code",
        "colab": {}
      },
      "source": [
        "PRICE_UNIT = 100 # 가격은 100원 단위이므로 PRICE_UNIT 상수 값을 100으로 선언."
      ],
      "execution_count": 0,
      "outputs": []
    },
    {
      "cell_type": "code",
      "metadata": {
        "id": "w_VFbXS6ASdU",
        "colab_type": "code",
        "colab": {}
      },
      "source": [
        "class texts:\n",
        "    title           = '#### 클래스 %s 자판기입니다. ####'\n",
        "    product         = '%s:%s(%s원)'\n",
        "    insert_coin     = '동전을 넣어주세요. : '\n",
        "    n_enough_coin   = '동전이 부족합니다. \\n거스름돈은 %s원입니다.'\n",
        "    select_product  = '원하시는 상품 번호를 선택해주세요.'\n",
        "    select_fault    = '잘못 누르셨습니다.'\n",
        "    product_out     = '선택하신 %s입니다. 거스름돈은 %s원입니다. \\n이용해주셔서 감사합니다.'"
      ],
      "execution_count": 0,
      "outputs": []
    },
    {
      "cell_type": "code",
      "metadata": {
        "id": "Y2IoiAUyCtrZ",
        "colab_type": "code",
        "colab": {}
      },
      "source": [
        "class Product: # 제품종류나 가격을 코드 변경없이 쉽게 추가하거나 변경.\n",
        "    productType = {'1':'설탕커피', '2':'프림커피', '3':'원두커피'}\n",
        "    productValue = {'1':200, '2':300, '3':400}"
      ],
      "execution_count": 0,
      "outputs": []
    },
    {
      "cell_type": "code",
      "metadata": {
        "id": "sW3acLtyDCLv",
        "colab_type": "code",
        "colab": {}
      },
      "source": [
        "class CoffeeVM(Product):\n",
        "    _name = '커피'\n",
        "\n",
        "    def __init__(self): # 사용자가 자판기 종류를 선택하면 _name 출력.\n",
        "        print(texts.title %self._name)\n",
        "\n",
        "    def run(self):\n",
        "        while True:\n",
        "            try:\n",
        "                inputCoin = float(input(texts.insert_coin))\n",
        "            except ValueError: # 잘못된 값을 입력받으면  에러 메시지 출력.\n",
        "                print(texts.select_fault)\n",
        "            else:\n",
        "                self.selectProduct(inputCoin)\n",
        "\n",
        "    def selectProduct(self, coin): # 제품종류를 리스트로 선언하여 코드 변경없이 데이터를 동적으로 출력.\n",
        "        description = ''\n",
        "        for selection, item in Product.productType.items():\n",
        "            price = self.getProductValue(selection)\n",
        "            description += selection+':'+item +'('+str(price)+'원) '\n",
        "\n",
        "        print(description)\n",
        "        inputProduct = input(texts.select_product)\n",
        "        productValue = self.getProductValue(inputProduct)\n",
        "\n",
        "        if productValue: # 입력한 값에 해당하는 내용이 리스트에 없으면 0을 반환.\n",
        "            productName = self.getProductName(inputProduct)\n",
        "            self.payment(coin, productName, productValue)\n",
        "        else: # 잘못된 값을 입력받으면 에러 메시지를 출력하고 제품 선택으로 이동.\n",
        "            print(texts.select_fault)\n",
        "            self.selectProduct(coin)\n",
        "\n",
        "    def getProductValue(self, product):\n",
        "        returnValue = 0\n",
        "        for selection, value in Product.productValue.items():\n",
        "            if selection == product:\n",
        "                returnValue = value\n",
        "\n",
        "        return returnValue\n",
        "\n",
        "    def getProductName(self, product):\n",
        "        for selection, name in Product.productType.items():\n",
        "            if selection == product:\n",
        "                return name\n",
        "\n",
        "    def payment(self, coin, name, value):\n",
        "        coinValue = coin * PRICE_UNIT\n",
        "        if coinValue >= value:\n",
        "            balance = coinValue - value\n",
        "            print(texts.product_out %(name ,int(balance)))\n",
        "        else:\n",
        "            print(texts.n_enough_coin %int(coinValue))\n",
        "        self.run() # 지불이 끝나면 초기 메뉴로 이동."
      ],
      "execution_count": 0,
      "outputs": []
    },
    {
      "cell_type": "code",
      "metadata": {
        "id": "ItjKy7kpHiNQ",
        "colab_type": "code",
        "colab": {}
      },
      "source": [
        "class SnackVM(CoffeeVM): # 커피클래스를 상속.\n",
        "    _name = '과자'\n",
        "\n",
        "    def __init__(self): # Product 제품 종류와 가격을 Overriding.\n",
        "        Product.productType = {'1':'오감자', '2':'오징어땅콩', '3':'빼빼로', '4':'칸쵸'}\n",
        "        Product.productValue = {'1':400, '2':500, '3':600, '4':500}\n",
        "        print(texts.title %self._name) # 사용자가 자판기 종류를 선택하면 _name 출력."
      ],
      "execution_count": 0,
      "outputs": []
    },
    {
      "cell_type": "code",
      "metadata": {
        "id": "IP98lTFDIXEE",
        "colab_type": "code",
        "colab": {
          "base_uri": "https://localhost:8080/",
          "height": 269
        },
        "outputId": "70eb0ef1-82ea-4769-f1bd-5e51e881b805"
      },
      "source": [
        "if __name__ == '__main__':\n",
        "    \n",
        "    print('1:커피, 2:과자')\n",
        "    select_vm = input('자판기를 선택해주세요.').strip()\n",
        "\n",
        "    if select_vm == '1':\n",
        "        vm = CoffeeVM()\n",
        "\n",
        "    elif select_vm == '2':\n",
        "        vm = SnackVM()\n",
        "\n",
        "    else:\n",
        "        print('잘못 누르셨습니다. 다시 선택해주세요.')\n",
        "        sys.exit(-1)\n",
        "\n",
        "    try:\n",
        "        vm.run()\n",
        "\n",
        "    except KeyboardInterrupt as exc:\n",
        "        print('판매를 종료합니다.')"
      ],
      "execution_count": 7,
      "outputs": [
        {
          "output_type": "stream",
          "text": [
            "1:커피, 2:과자\n",
            "자판기를 선택해주세요.1\n",
            "#### 클래스 커피 자판기입니다. ####\n",
            "동전을 넣어주세요. : 10\n",
            "1:설탕커피(200원) 2:프림커피(300원) 3:원두커피(400원) \n",
            "원하시는 상품 번호를 선택해주세요.1\n",
            "선택하신 설탕커피입니다. 거스름돈은 800원입니다. \n",
            "이용해주셔서 감사합니다.\n",
            "동전을 넣어주세요. : 4\n",
            "1:설탕커피(200원) 2:프림커피(300원) 3:원두커피(400원) \n",
            "원하시는 상품 번호를 선택해주세요.3\n",
            "선택하신 원두커피입니다. 거스름돈은 0원입니다. \n",
            "이용해주셔서 감사합니다.\n",
            "판매를 종료합니다.\n"
          ],
          "name": "stdout"
        }
      ]
    }
  ]
}