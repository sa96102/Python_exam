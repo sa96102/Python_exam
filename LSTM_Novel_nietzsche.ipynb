{
  "nbformat": 4,
  "nbformat_minor": 0,
  "metadata": {
    "colab": {
      "name": "LSTM_Novel_nietzsche.ipynb",
      "provenance": [],
      "collapsed_sections": [],
      "machine_shape": "hm",
      "authorship_tag": "ABX9TyNTPxHEdH1rPkQiDbcAtMkB",
      "include_colab_link": true
    },
    "kernelspec": {
      "name": "python3",
      "display_name": "Python 3"
    },
    "accelerator": "GPU"
  },
  "cells": [
    {
      "cell_type": "markdown",
      "metadata": {
        "id": "view-in-github",
        "colab_type": "text"
      },
      "source": [
        "<a href=\"https://colab.research.google.com/github/sa96102/Python_exam/blob/master/LSTM_Novel_nietzsche.ipynb\" target=\"_parent\"><img src=\"https://colab.research.google.com/assets/colab-badge.svg\" alt=\"Open In Colab\"/></a>"
      ]
    },
    {
      "cell_type": "code",
      "metadata": {
        "id": "PyXhZLDnXEck",
        "colab_type": "code",
        "outputId": "1fa5a9b1-5259-4290-90f3-7b831f235ca3",
        "colab": {
          "base_uri": "https://localhost:8080/",
          "height": 127
        }
      },
      "source": [
        "from google.colab import drive\n",
        "drive.mount('/content/drive')"
      ],
      "execution_count": 1,
      "outputs": [
        {
          "output_type": "stream",
          "text": [
            "Go to this URL in a browser: https://accounts.google.com/o/oauth2/auth?client_id=947318989803-6bn6qk8qdgf4n4g3pfee6491hc0brc4i.apps.googleusercontent.com&redirect_uri=urn%3aietf%3awg%3aoauth%3a2.0%3aoob&response_type=code&scope=email%20https%3a%2f%2fwww.googleapis.com%2fauth%2fdocs.test%20https%3a%2f%2fwww.googleapis.com%2fauth%2fdrive%20https%3a%2f%2fwww.googleapis.com%2fauth%2fdrive.photos.readonly%20https%3a%2f%2fwww.googleapis.com%2fauth%2fpeopleapi.readonly\n",
            "\n",
            "Enter your authorization code:\n",
            "··········\n",
            "Mounted at /content/drive\n"
          ],
          "name": "stdout"
        }
      ]
    },
    {
      "cell_type": "code",
      "metadata": {
        "id": "ey0Imvm4U2Ch",
        "colab_type": "code",
        "outputId": "29ed7152-8f92-4165-dc5e-ecd8111b0b13",
        "colab": {
          "base_uri": "https://localhost:8080/",
          "height": 53
        }
      },
      "source": [
        "import random, sys, io, re\n",
        "\n",
        "%tensorflow_version 1.x\n",
        "import tensorflow\n",
        "from keras.callbacks import LambdaCallback\n",
        "from keras.models import Sequential\n",
        "from keras.layers import Dense, LSTM\n",
        "from keras.optimizers import RMSprop\n",
        "from keras.utils.data_utils import get_file\n",
        "import numpy as np"
      ],
      "execution_count": 2,
      "outputs": [
        {
          "output_type": "stream",
          "text": [
            "TensorFlow 1.x selected.\n"
          ],
          "name": "stdout"
        },
        {
          "output_type": "stream",
          "text": [
            "Using TensorFlow backend.\n"
          ],
          "name": "stderr"
        }
      ]
    },
    {
      "cell_type": "markdown",
      "metadata": {
        "id": "aFIndsqRXeEi",
        "colab_type": "text"
      },
      "source": [
        "### Preprocessing"
      ]
    },
    {
      "cell_type": "code",
      "metadata": {
        "id": "5cQe5BBwXgEn",
        "colab_type": "code",
        "outputId": "bd1339f5-c600-4797-aa20-338e5ff3c2de",
        "colab": {
          "base_uri": "https://localhost:8080/",
          "height": 35
        }
      },
      "source": [
        "path = '/content/drive/My Drive/Colab Notebooks/Python_exam/Data/nietzsche.txt'\n",
        "with io.open(path) as f:\n",
        "    text = f.read().lower()\n",
        "\n",
        "print('corpus length : ', len(text))"
      ],
      "execution_count": 3,
      "outputs": [
        {
          "output_type": "stream",
          "text": [
            "corpus length :  600893\n"
          ],
          "name": "stdout"
        }
      ]
    },
    {
      "cell_type": "markdown",
      "metadata": {
        "id": "XVRUmSQvZBZ6",
        "colab_type": "text"
      },
      "source": [
        "### Compute Character indices"
      ]
    },
    {
      "cell_type": "code",
      "metadata": {
        "id": "gZW1sAzJY_QP",
        "colab_type": "code",
        "outputId": "caa23def-68ec-40c9-84fd-ded6b4f44328",
        "colab": {
          "base_uri": "https://localhost:8080/",
          "height": 35
        }
      },
      "source": [
        "chars = sorted(list(set(text)))\n",
        "print('total chars : ', len(chars))\n",
        "char_indices = dict((c, i) for i, c in enumerate(chars))\n",
        "indices_char = dict((i, c) for i, c in enumerate(chars)) # one-hot encoding으로 처리할 것이기 때문에 인덱스를 저장."
      ],
      "execution_count": 4,
      "outputs": [
        {
          "output_type": "stream",
          "text": [
            "total chars :  57\n"
          ],
          "name": "stdout"
        }
      ]
    },
    {
      "cell_type": "markdown",
      "metadata": {
        "id": "gwYs_P7GfoZI",
        "colab_type": "text"
      },
      "source": [
        "### Vectorize Sentences"
      ]
    },
    {
      "cell_type": "code",
      "metadata": {
        "id": "swWTGm4nZXuc",
        "colab_type": "code",
        "outputId": "516caf33-c4aa-4b72-a408-b9bc25732daa",
        "colab": {
          "base_uri": "https://localhost:8080/",
          "height": 53
        }
      },
      "source": [
        "maxlen = 40\n",
        "step = 3\n",
        "sentences = []\n",
        "next_chars = []\n",
        "\n",
        "for i in range(0, len(text) - maxlen, step):\n",
        "    sentences.append(text[i: i + maxlen])\n",
        "    next_chars.append(text[i + maxlen])\n",
        "print('nb sequences : ', len(sentences))\n",
        "\n",
        "print('Vectorization...')\n",
        "x = np.zeros((len(sentences), maxlen, len(chars)), dtype=np.bool)\n",
        "y = np.zeros((len(sentences), len(chars)), dtype=np.bool)\n",
        "\n",
        "for i, sentence in enumerate(sentences):\n",
        "    for t, char in enumerate(sentence):\n",
        "        x[i, t, char_indices[char]] = 1\n",
        "    y[i, char_indices[next_chars[i]]] = 1"
      ],
      "execution_count": 5,
      "outputs": [
        {
          "output_type": "stream",
          "text": [
            "nb sequences :  200285\n",
            "Vectorization...\n"
          ],
          "name": "stdout"
        }
      ]
    },
    {
      "cell_type": "markdown",
      "metadata": {
        "id": "M9VUt_Jtg4-L",
        "colab_type": "text"
      },
      "source": [
        "### Create Model"
      ]
    },
    {
      "cell_type": "code",
      "metadata": {
        "id": "AsVQbY-4gjiW",
        "colab_type": "code",
        "outputId": "0d4aa502-8721-43b2-9512-9e61ea0e8400",
        "colab": {
          "base_uri": "https://localhost:8080/",
          "height": 215
        }
      },
      "source": [
        "print('Build model...')\n",
        "model = Sequential()\n",
        "model.add(LSTM(1024, input_shape=(maxlen, len(chars))))\n",
        "model.add(Dense(len(chars), activation='softmax'))\n",
        "\n",
        "model.compile(loss='categorical_crossentropy', optimizer=RMSprop(lr=0.001))"
      ],
      "execution_count": 6,
      "outputs": [
        {
          "output_type": "stream",
          "text": [
            "Build model...\n",
            "WARNING:tensorflow:From /usr/local/lib/python3.6/dist-packages/keras/backend/tensorflow_backend.py:66: The name tf.get_default_graph is deprecated. Please use tf.compat.v1.get_default_graph instead.\n",
            "\n",
            "WARNING:tensorflow:From /usr/local/lib/python3.6/dist-packages/keras/backend/tensorflow_backend.py:541: The name tf.placeholder is deprecated. Please use tf.compat.v1.placeholder instead.\n",
            "\n",
            "WARNING:tensorflow:From /usr/local/lib/python3.6/dist-packages/keras/backend/tensorflow_backend.py:4432: The name tf.random_uniform is deprecated. Please use tf.random.uniform instead.\n",
            "\n",
            "WARNING:tensorflow:From /usr/local/lib/python3.6/dist-packages/keras/optimizers.py:793: The name tf.train.Optimizer is deprecated. Please use tf.compat.v1.train.Optimizer instead.\n",
            "\n",
            "WARNING:tensorflow:From /usr/local/lib/python3.6/dist-packages/keras/backend/tensorflow_backend.py:3576: The name tf.log is deprecated. Please use tf.math.log instead.\n",
            "\n"
          ],
          "name": "stdout"
        }
      ]
    },
    {
      "cell_type": "markdown",
      "metadata": {
        "id": "mOJASceHhS8G",
        "colab_type": "text"
      },
      "source": [
        "### Define Callback"
      ]
    },
    {
      "cell_type": "code",
      "metadata": {
        "id": "k1znkTD8hXCI",
        "colab_type": "code",
        "colab": {}
      },
      "source": [
        "def sample(preds, temperature=1.0):\n",
        "    preds = np.asarray(preds).astype('float64')\n",
        "    preds = np.log(preds) / temperature\n",
        "    exp_preds = np.exp(preds)\n",
        "    preds = exp_preds / np.sum(exp_preds)\n",
        "    probas = np.random.multinomial(1, preds, 1)\n",
        "    return np.argmax(probas)\n",
        "    # 확률을 조정. 예측한대로만 할 경우, loop에 빠질 경우가 발생할 수도 있음.\n",
        "\n",
        "def on_epoch_end(epoch, _): # 한 epoch이 끝날 때마다 실행.\n",
        "    print('\\n----- Generating text after Epoch : %d' % epoch)\n",
        "\n",
        "    start_index = random.randint(0, len(text) - maxlen - 1)\n",
        "\n",
        "    generated = ''\n",
        "    sentence = text[start_index: start_index + maxlen]\n",
        "    generated += sentence\n",
        "    print('----- Generating with seed : \"' + sentence + '\"')\n",
        "    sys.stdout.write(generated)\n",
        "    # 랜덤으로 40개의 글자 seed를 생성. 그리고 모델에게 이를 주고 뒷부분을 만들어내도록 함. 여기서는 아래 for문과 같이 400글자를 예측하도록 함.\n",
        "\n",
        "    for i in range(400):\n",
        "        x_pred = np.zeros((1, maxlen, len(chars)))\n",
        "        for t, char in enumerate(sentence):\n",
        "            x_pred[0, t, char_indices[char]] = 1.\n",
        "\n",
        "        preds = model.predict(x_pred, verbose=0)[0] # model.predict()_데이터를 인풋으로 받아 예측.\n",
        "        next_index = sample(preds, 0.5)\n",
        "        next_char = indices_char[next_index]\n",
        "\n",
        "        generated += next_char\n",
        "        sentence = sentence[1:] + next_char\n",
        "\n",
        "        sys.stdout.write(next_char)\n",
        "        sys.stdout.flush()\n",
        "    print()\n",
        "\n",
        "print_callback = LambdaCallback(on_epoch_end=on_epoch_end)"
      ],
      "execution_count": 0,
      "outputs": []
    },
    {
      "cell_type": "markdown",
      "metadata": {
        "id": "pfLlp5vokLy5",
        "colab_type": "text"
      },
      "source": [
        "### Training"
      ]
    },
    {
      "cell_type": "code",
      "metadata": {
        "id": "LcvJ5qVTkINN",
        "colab_type": "code",
        "colab": {
          "base_uri": "https://localhost:8080/",
          "height": 1000
        },
        "outputId": "af384134-3c4d-4dd3-f37c-75af7873e6cb"
      },
      "source": [
        "model.fit(x, y, batch_size=128, epochs=30, callbacks=[print_callback])"
      ],
      "execution_count": 8,
      "outputs": [
        {
          "output_type": "stream",
          "text": [
            "WARNING:tensorflow:From /tensorflow-1.15.2/python3.6/tensorflow_core/python/ops/math_grad.py:1424: where (from tensorflow.python.ops.array_ops) is deprecated and will be removed in a future version.\n",
            "Instructions for updating:\n",
            "Use tf.where in 2.0, which has the same broadcast rule as np.where\n",
            "WARNING:tensorflow:From /usr/local/lib/python3.6/dist-packages/keras/backend/tensorflow_backend.py:1033: The name tf.assign_add is deprecated. Please use tf.compat.v1.assign_add instead.\n",
            "\n",
            "WARNING:tensorflow:From /usr/local/lib/python3.6/dist-packages/keras/backend/tensorflow_backend.py:1020: The name tf.assign is deprecated. Please use tf.compat.v1.assign instead.\n",
            "\n",
            "WARNING:tensorflow:From /usr/local/lib/python3.6/dist-packages/keras/backend/tensorflow_backend.py:3005: The name tf.Session is deprecated. Please use tf.compat.v1.Session instead.\n",
            "\n",
            "Epoch 1/30\n",
            "WARNING:tensorflow:From /usr/local/lib/python3.6/dist-packages/keras/backend/tensorflow_backend.py:190: The name tf.get_default_session is deprecated. Please use tf.compat.v1.get_default_session instead.\n",
            "\n",
            "WARNING:tensorflow:From /usr/local/lib/python3.6/dist-packages/keras/backend/tensorflow_backend.py:197: The name tf.ConfigProto is deprecated. Please use tf.compat.v1.ConfigProto instead.\n",
            "\n",
            "WARNING:tensorflow:From /usr/local/lib/python3.6/dist-packages/keras/backend/tensorflow_backend.py:207: The name tf.global_variables is deprecated. Please use tf.compat.v1.global_variables instead.\n",
            "\n",
            "WARNING:tensorflow:From /usr/local/lib/python3.6/dist-packages/keras/backend/tensorflow_backend.py:216: The name tf.is_variable_initialized is deprecated. Please use tf.compat.v1.is_variable_initialized instead.\n",
            "\n",
            "WARNING:tensorflow:From /usr/local/lib/python3.6/dist-packages/keras/backend/tensorflow_backend.py:223: The name tf.variables_initializer is deprecated. Please use tf.compat.v1.variables_initializer instead.\n",
            "\n",
            "200285/200285 [==============================] - 128s 640us/step - loss: 2.2922\n",
            "\n",
            "----- Generating text after Epoch : 0\n",
            "----- Generating with seed : \"avagant magnanimity after which nothing \"\n",
            "avagant magnanimity after which nothing the estertation gor the must the outhers the mastion be becoure the destion the sparing and gere the graltes the sumpersation wo men the extrensally pleast to the gand not ics mate as the every the most the mast be of the to the eviliow of the every all to and of the suther that the sting the prilition prabe the made to the mast of the and ines and of devertions the erelition the mone a saruther g\n",
            "Epoch 2/30\n",
            "200285/200285 [==============================] - 120s 598us/step - loss: 1.7642\n",
            "\n",
            "----- Generating text after Epoch : 1\n",
            "----- Generating with seed : \"cess, cannot\n",
            "maintain itself, therefore \"\n",
            "cess, cannot\n",
            "maintain itself, therefore the scentualing of one is for the pars of the comprehens of a moraling destined of the stuminity of all thing the religious perilical cause of everything compand as\n",
            "the fully in the sperial as the its call calls his conscience and made us self-certain celtain that is dective the superstition of a gration of\n",
            "the ploush is suffering god\n",
            "the respection and man for the stringe, and the exception of su\n",
            "Epoch 3/30\n",
            "200285/200285 [==============================] - 120s 600us/step - loss: 1.5409\n",
            "\n",
            "----- Generating text after Epoch : 2\n",
            "----- Generating with seed : \" sort\n",
            "of flight and forgetfulness, away \"\n",
            " sort\n",
            "of flight and forgetfulness, away and to the fach of the then and was the saint in the most thought into the self even to the\n",
            "sting in ond neares of the standard in order to such a german, coment of the feeling of the soul of the science of the discontining one must mas all of the stull of the such any of the conscions of the still in the sense, the \"growan of the string of the string inserricenor of the sometime of causion\n",
            "of rel\n",
            "Epoch 4/30\n",
            "200285/200285 [==============================] - 120s 598us/step - loss: 1.3826\n",
            "\n",
            "----- Generating text after Epoch : 3\n",
            "----- Generating with seed : \"e, people have not hitherto been so mode\"\n",
            "e, people have not hitherto been so moderm as it was all ady, is here as a result of nome that\n",
            "it is not it is upon himself is as a self-conception which makem in the present deception of self\n",
            "dead cance as it is desprieted to have the act of our fines to anishial production, a persons of the digat of morals\n",
            "that its one is a sour of an experient and the standard of the\n",
            "former the standard of invertion, and there are commanding the proc\n",
            "Epoch 5/30\n",
            "200285/200285 [==============================] - 120s 598us/step - loss: 1.2288\n",
            "\n",
            "----- Generating text after Epoch : 4\n",
            "----- Generating with seed : \" the\n",
            "will itself, has become attached to\"\n",
            " the\n",
            "will itself, has become attached to the secret conditions of the subject,\" in fact, a madified by the\n",
            "pooul of the thengeness of the realmpot them and the considerable forces in destruction of which the connection of the fitsion of the notions, which has been dofined by the considerable\n",
            "conditions, and often an immeniately, and the considerable and deception\n",
            "of the most consideration for the considerable precention of the noble, th\n",
            "Epoch 6/30\n",
            "200285/200285 [==============================] - 120s 599us/step - loss: 1.0588\n",
            "\n",
            "----- Generating text after Epoch : 5\n",
            "----- Generating with seed : \"em.\n",
            "\n",
            "113. \"you want to prepossess him in\"\n",
            "em.\n",
            "\n",
            "113. \"you want to prepossess him in order to fair means to the philosophers and then through\n",
            "any his notions are any often in the conceal\n",
            "and\n",
            "excessivity and also a forget their ounselting and presents in ond\n",
            "a morality of the reason by the same trather, something\n",
            "from the one must be counded and such\n",
            "a virtue of things the consequence to the man of the ospication, which be suinally\n",
            "but the woman is not the ordinary morality of the\n",
            "Epoch 7/30\n",
            "200285/200285 [==============================] - 120s 600us/step - loss: 0.8893\n",
            "\n",
            "----- Generating text after Epoch : 6\n",
            "----- Generating with seed : \"ing--know ye not that it is only this\n",
            "di\"\n",
            "ing--know ye not that it is only this\n",
            "distrubtion and the world is precesely as regards the intellectual is all that has self even the modern sense, which the\n",
            "ammanaate who had succers of woman destioys and men of\n",
            "coment the under the respect in the most conscience to the\n",
            "belief in germany classificaries, which may be recognized therefore, so much reletto it\n",
            "is european their instinct in the same kinds of mankind and\n",
            "determines the most\n",
            "Epoch 8/30\n",
            "200285/200285 [==============================] - 120s 598us/step - loss: 0.7398\n",
            "\n",
            "----- Generating text after Epoch : 7\n",
            "----- Generating with seed : \"pposing now that\n",
            "necessity has from all \"\n",
            "pposing now that\n",
            "necessity has from all the religious munical spicits and the staingul and fassioned to contemporary\n",
            "last the liberation of our power of religions\n",
            "for this that is the same with fasible and has alled himself and development. there are the religing and self-sacrifice of the proponition is\n",
            "an easily recollication by means of a thing\n",
            "in the self consist. the contrary in whose value\n",
            "and even side of religious effectsime, and\n",
            "Epoch 9/30\n",
            "200285/200285 [==============================] - 120s 598us/step - loss: 0.6197\n",
            "\n",
            "----- Generating text after Epoch : 8\n",
            "----- Generating with seed : \"ence which have hitherto been discovered\"\n",
            "ence which have hitherto been discovered that everything is the english nogions, is as a pertance of rank\n",
            "in the end, is of every one, the delicate state of the personaliving, the human instinct, will be a matter of\n",
            "feeling, and more certainly; the more manifestals have\n",
            "been the continual complety supression for poor\n",
            "best-guin further, that the effect, and even in order here is said, from every present states of the elevechaniman man, a\n",
            "Epoch 10/30\n",
            "200285/200285 [==============================] - 121s 605us/step - loss: 0.5304\n",
            "\n",
            "----- Generating text after Epoch : 9\n",
            "----- Generating with seed : \"therefore, make myself known, and first \"\n",
            "therefore, make myself known, and first out\n",
            "in me, by strange, that it is decerved and must\n",
            "have our live to the \"worth\" and more portentous, or in all tymen still, as though they are also a really\n",
            "manifestations and certainty and civilizationment as trought to the proporition of the\n",
            "former most possession, of the future, they weic  have it not ever been\n",
            "sensence, the out of thought they now only thought to be practically and\n",
            "refined an\n",
            "Epoch 11/30\n",
            "200285/200285 [==============================] - 122s 608us/step - loss: 0.4658\n",
            "\n",
            "----- Generating text after Epoch : 10\n",
            "----- Generating with seed : \"to the suffering and to be of service in\"\n",
            "to the suffering and to be of service in morals and and\n",
            "in finsing its untruth of the strange to uprestion, the sensus act\n",
            "own which they sensi is regarded be of good and religious curiosity, our modern of such a scientific\n",
            "sense--as the inner pasce of his seriousness,\n",
            "rightly and course of the world of all, who\n",
            "can de the might was point and intercouraed\n",
            "to the impulse that real thisself believe that as the loverpating shares one to de\n",
            "Epoch 12/30\n",
            "200285/200285 [==============================] - 122s 609us/step - loss: 0.4168\n",
            "\n",
            "----- Generating text after Epoch : 11\n",
            "----- Generating with seed : \" then simultaneously illumine and flood \"\n",
            " then simultaneously illumine and flood itself, there\n",
            "\n",
            "reaces and ninger with which that is the\n",
            "aspent of the manner, all those of thoso it\n",
            "revelenced, as the seeking of a certain considerable\n",
            "crutious and as in the are of the soul of\n",
            "the house it may also be the present so far as\n",
            "the philosophy of the ruch man and is become such a thing\n",
            "of the world, and that the whole false of a love than dound reverence for the same privilege and sel\n",
            "Epoch 13/30\n",
            "200285/200285 [==============================] - 122s 609us/step - loss: 0.3813\n",
            "\n",
            "----- Generating text after Epoch : 12\n",
            "----- Generating with seed : \"ous readiness of the spirit to\n",
            "deceive o\"\n",
            "ous readiness of the spirit to\n",
            "deceive others him wells so his strongest and whole germanss, the\n",
            "personalising of the democratic soul of the gain and normatival, even side, or of the highest philosopher on\n",
            "the other hand, of the every case weich we may may be reclosed will profabai\"s.\n",
            "the moral fact that he divents itself is responsible, and is compured with doubt, and\n",
            "one in the strieuse of all the soul.nes of heart, and then resists t\n",
            "Epoch 14/30\n",
            "200285/200285 [==============================] - 121s 603us/step - loss: 0.3520\n",
            "\n",
            "----- Generating text after Epoch : 13\n",
            "----- Generating with seed : \"pon the treasure inside of it; it is at \"\n",
            "pon the treasure inside of it; it is at one to speak of\n",
            "seciety and second towards to our own soul, a certain\n",
            "very interest in the pressure of an aptrance, who are the greatest advantage than to make more pritoranination, inapilaued, and is deed\n",
            "him who in the same dangerous distrasterible\n",
            "the probabority of mankind. they can of a leart has been unfined\n",
            "interpretention, that the certain nobsess in refrest from cases one will be unable t\n",
            "Epoch 15/30\n",
            "200285/200285 [==============================] - 120s 599us/step - loss: 0.3255\n",
            "\n",
            "----- Generating text after Epoch : 14\n",
            "----- Generating with seed : \"m\n",
            "generation to generation. the traditio\"\n",
            "m\n",
            "generation to generation. the traditional distinction of the genulust of such and\n",
            "most such sentiments to ourselves are there\n",
            "morality is also a parroas so explease oneself? with his\n",
            "sensations. for example, erous condly men and the greater part of\n",
            "that atterps the emotions of its oun of this new, at lostiness, eutherations\n",
            "co still appear the discapact fahul and forty and in gratual hamied, and the same\n",
            "kind of mindination of moral v\n",
            "Epoch 16/30\n",
            "200285/200285 [==============================] - 120s 599us/step - loss: 0.3044\n",
            "\n",
            "----- Generating text after Epoch : 15\n",
            "----- Generating with seed : \"; they regard him on\n",
            "that account with s\"\n",
            "; they regard him on\n",
            "that account with some definite vict of the\n",
            "subject, a militad extraordinary advantage usifination of all find certain consciences of morality, that it is\n",
            "not the works of our existence:--contradictionity and\n",
            "uts still loves are to them. they were y gragation\n",
            "had has been cause of the way the extent of it\n",
            "\n",
            "suph sensed, but attered to nothing of the world, and\n",
            "of every neger things is not the only master as the laws \n",
            "Epoch 17/30\n",
            "200285/200285 [==============================] - 120s 599us/step - loss: 0.2829\n",
            "\n",
            "----- Generating text after Epoch : 16\n",
            "----- Generating with seed : \"ed, are without significance at all, in \"\n",
            "ed, are without significance at all, in vail and intercourse of man as,\n",
            "is almost incasts, as the person of the basis of his emotions, which is there\n",
            "crosed and disturbing every one must be true about the often and the less covery to except it say, \"the spirit\" sens. the most suppising of the truth it must far that ere cause sue of the kinds\n",
            "of the refresentimences the truth it would sense and have it not alroabour\n",
            "tele: there is profou\n",
            "Epoch 18/30\n",
            "200285/200285 [==============================] - 120s 598us/step - loss: 0.2671\n",
            "\n",
            "----- Generating text after Epoch : 17\n",
            "----- Generating with seed : \"ll, wagner atoned amply for this sin in \"\n",
            "ll, wagner atoned amply for this sin in have\n",
            "sense, are prouded in order to proter their condition let\n",
            "us comprehense the jews which read libelives itself\n",
            "explained among people, and lotection the sublimate of philosophical\n",
            "distinction and respectations what banking of the english; in morality, in this men, the innocence in\n",
            "the sense of philosophy, and even the extravaging experiences that which is atterprated as the solut of errorsorap\n",
            "Epoch 19/30\n",
            "200285/200285 [==============================] - 120s 600us/step - loss: 0.2494\n",
            "\n",
            "----- Generating text after Epoch : 18\n",
            "----- Generating with seed : \" in antiquity when a man read--which was\"\n",
            " in antiquity when a man read--which was suches do we see the read little done! with a pere\n",
            "purpome to say, a none to experient the ficust the order of\n",
            "rank and indeed its awa--found in he as a people\n",
            "must be couneent, and a new birde--of rank\n",
            "both rack for anither is always been: there is not only the worst in the senses that ouition to the musuare of the\n",
            "artiances of all these thinging, and with their repulnatevers and thereby be a ma\n",
            "Epoch 20/30\n",
            "200285/200285 [==============================] - 120s 598us/step - loss: 0.2326\n",
            "\n",
            "----- Generating text after Epoch : 19\n",
            "----- Generating with seed : \"e best example of discipline and refinem\"\n",
            "e best example of discipline and refinement of men and informer to the look itself under\n",
            "when he regards himself with the help of the\n",
            "behtwal and science, however he had all this, however, the\n",
            "fact we feel of he very fassions be made understanding,\n",
            "and exceptional capacity and in the strange of antage insserious insists, in the master of the\n",
            "conscience must be counded and endowed in so far as they have no fad more\n",
            "desirable that estibla\n",
            "Epoch 21/30\n",
            "200285/200285 [==============================] - 120s 597us/step - loss: 0.2195\n",
            "\n",
            "----- Generating text after Epoch : 20\n",
            "----- Generating with seed : \"reby--woman deteriorates. this is\n",
            "what i\"\n",
            "reby--woman deteriorates. this is\n",
            "what is halpen to be the meanur and and ussels: and the organizal in the interpretation, deception. thus has been\n",
            "countery in the prose that a philosopher and an assestion in his casr--the more\n",
            "\n",
            "\n",
            "\n",
            "1as. there is something that to be \"gratually becomes a such a vanity estimate of himself and the s\n",
            "conception \"man\" in the extramaginated and self-distrust of precisely. we love the real polract of the events\n",
            "Epoch 22/30\n",
            "200285/200285 [==============================] - 120s 599us/step - loss: 0.2065\n",
            "\n",
            "----- Generating text after Epoch : 21\n",
            "----- Generating with seed : \"nment makes him\n",
            "wretched. it is as a rul\"\n",
            "nment makes him\n",
            "wretched. it is as a rule not happened the suffering and heading of man, is all that consequence to reach the end is a still good nead, to the anti-trate of the desires things that remains itself as\n",
            "converning the subvection, and the world with her the sughtstand of morality itself in some future, the byst and change\n",
            ". hat even so contradued in any san: a sort of reasoning by nations,\n",
            "that this is a contemple of the pleb\n",
            "Epoch 23/30\n",
            "200285/200285 [==============================] - 120s 600us/step - loss: 0.1936\n",
            "\n",
            "----- Generating text after Epoch : 22\n",
            "----- Generating with seed : \"nking is. for if i had not already decid\"\n",
            "nking is. for if i had not already decided interpretens, and free spirits and the most world and interpretation\n",
            "of preservations are their sours (and we know them, ard\n",
            "philosophically chaims, so that the strength of anishory and consequently\n",
            "a sympth; learn that the act of greats for suffering,\n",
            "and the feeling of his type of melity and\n",
            "eventsion to the most forther can he\n",
            "come to detime the opposite of which men alone is\n",
            "accurded to thi\n",
            "Epoch 24/30\n",
            "200285/200285 [==============================] - 122s 607us/step - loss: 0.1805\n",
            "\n",
            "----- Generating text after Epoch : 23\n",
            "----- Generating with seed : \" itself out, the result, being, perhaps,\"\n",
            " itself out, the result, being, perhaps,\n",
            "good and ears can be nare to be regarded as more and wherever actions lime blommed to their heavings and discoverers in the individuals and\n",
            "morality, and thereby greater philosophical numatical\n",
            "and helpt of our own suffering, in christianity was proparition, and when it to was a generally becomes a system of means.\n",
            "thrieg to be assume and from his looking;\n",
            "\n",
            "\n",
            "1ke\n",
            "=there as its stundards of lawe an\n",
            "Epoch 25/30\n",
            "200285/200285 [==============================] - 121s 604us/step - loss: 0.1747\n",
            "\n",
            "----- Generating text after Epoch : 24\n",
            "----- Generating with seed : \"usness from generation to generation\n",
            "has\"\n",
            "usness from generation to generation\n",
            "has down by the german scientific spirit as a probably upon the subject, the\n",
            "splandary of the artiat power to exprain\n",
            "their tastes it was the case was are and the day be\n",
            "other that in this overcondition which are by the\n",
            "greatest finer things self-contradictory; many are all stronger is and its strange, the powerful; the utel of rank botk and such\n",
            "a stricken neights we free spirits well a reality wher\n",
            "Epoch 26/30\n",
            "200285/200285 [==============================] - 121s 605us/step - loss: 0.1640\n",
            "\n",
            "----- Generating text after Epoch : 25\n",
            "----- Generating with seed : \"ductively ornamented! there are the fine\"\n",
            "ductively ornamented! there are the fines who commands a secording and above\n",
            "all the imminin \"deers,on, and as understanding\n",
            "to the \"boxthsm-may. yo yeak ones are in his exes\n",
            "and pass of before the foundain more and actitual extravagent the ortanization is not be to not seciecy as a while the advantage there is also imperfective and dangerous and more powerfully devilarly loved, prantically inclinstical endmensn in the frence could not \n",
            "Epoch 27/30\n",
            "200285/200285 [==============================] - 120s 600us/step - loss: 0.1563\n",
            "\n",
            "----- Generating text after Epoch : 26\n",
            "----- Generating with seed : \" will have to be the\n",
            "incarnated will to \"\n",
            " will have to be the\n",
            "incarnated will to power, wish to be thus, for a lifthe more seasing of the intellect of life and eviloraity are not always to be of a man effecies and self-society of\n",
            "the hobyer and more philosophers have the sagnest things boon counting to its\n",
            "tomain form of wating things, is the trainioned\n",
            "\n",
            "\n",
            "1ettered hable.=--the strength of which we call time which the children\n",
            "self-evidence and experiences in the sime of an exc\n",
            "Epoch 28/30\n",
            "200285/200285 [==============================] - 120s 601us/step - loss: 0.1462\n",
            "\n",
            "----- Generating text after Epoch : 27\n",
            "----- Generating with seed : \"lways too late. the masterpiece of\n",
            "germa\"\n",
            "lways too late. the masterpiece of\n",
            "germans, teasanotherd haw reselt of\n",
            "deceive opportance of life and of the bost say,\n",
            "very intellect and the same whole notical prolems whatever begree mann the henous delicate fact that it be\n",
            "respected, that which is colour distrust of these magner is as\n",
            "desire for playter--they see so ciaced that all others are alr manus\n",
            "\n",
            "\n",
            "1o . as has beenganed has been a life, back of the world. that it some forget in\n",
            "Epoch 29/30\n",
            "200285/200285 [==============================] - 120s 600us/step - loss: 0.1372\n",
            "\n",
            "----- Generating text after Epoch : 28\n",
            "----- Generating with seed : \"es so easily to\n",
            "us now because we are so\"\n",
            "es so easily to\n",
            "us now because we are so become man the extent there\n",
            "means of its willingly respliled by the subject of man in not, the\n",
            "propession of he has away from him--a man in\n",
            "order to possess and let them the motive and hand,\n",
            "or in the renation of its originable concerning\n",
            "the virtuous of comity in error of points, which is still lead to the ensighbreacy,\n",
            "the desire the most powerful and deperable? the more refined has been to be\n",
            "\n",
            "Epoch 30/30\n",
            "200285/200285 [==============================] - 120s 598us/step - loss: 0.1286\n",
            "\n",
            "----- Generating text after Epoch : 29\n",
            "----- Generating with seed : \" his\n",
            "fellow creatures with malicious env\"\n",
            " his\n",
            "fellow creatures with malicious envoushess of which he\n",
            "is gonther for \"hasing \"this \"stallow who, art that it be really be\n",
            "plaused upon beling, the will to the seefite of the\n",
            "scholars are not as hasible that he believes, and consedved to self\n",
            "treates, and clams bown to the post thought us of\n",
            "what is at all man has been made in general hutanic also unfromowed.\n",
            "\n",
            "     now yet have in ne peepes and in hammer will develope of\n",
            "the help o\n"
          ],
          "name": "stdout"
        },
        {
          "output_type": "execute_result",
          "data": {
            "text/plain": [
              "<keras.callbacks.History at 0x7f5948ed6780>"
            ]
          },
          "metadata": {
            "tags": []
          },
          "execution_count": 8
        }
      ]
    }
  ]
}