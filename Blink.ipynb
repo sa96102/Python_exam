{
 "cells": [
  {
   "cell_type": "code",
   "execution_count": 1,
   "metadata": {
    "colab": {
     "base_uri": "https://localhost:8080/",
     "height": 127
    },
    "colab_type": "code",
    "id": "c60SLzUQE0YC",
    "outputId": "3ecb6377-f796-44ed-edb0-105d4a36e347"
   },
   "outputs": [],
   "source": [
    "# from google.colab import drive\n",
    "# drive.mount('/content/drive')"
   ]
  },
  {
   "cell_type": "markdown",
   "metadata": {
    "colab_type": "text",
    "id": "WmsuufODIyQ5"
   },
   "source": [
    "# Train"
   ]
  },
  {
   "cell_type": "code",
   "execution_count": 5,
   "metadata": {
    "colab": {},
    "colab_type": "code",
    "id": "wavfB_-WEev0"
   },
   "outputs": [],
   "source": [
    "import datetime\n",
    "import numpy as np\n",
    "import matplotlib.pyplot as plt\n",
    "from keras.layers import Input, Activation, Conv2D, Flatten, Dense, MaxPooling2D # CNN.\n",
    "from keras.models import Model, load_model\n",
    "from keras.preprocessing.image import ImageDataGenerator # Use data augmentation.\n",
    "from keras.callbacks import ModelCheckpoint, ReduceLROnPlateau\n",
    "plt.style.use('dark_background')"
   ]
  },
  {
   "cell_type": "markdown",
   "metadata": {
    "colab_type": "text",
    "id": "wLJ2fFD7I5tZ"
   },
   "source": [
    "### Load Dataset"
   ]
  },
  {
   "cell_type": "code",
   "execution_count": 6,
   "metadata": {
    "colab": {
     "base_uri": "https://localhost:8080/",
     "height": 53
    },
    "colab_type": "code",
    "id": "LXiE5X-yFW7k",
    "outputId": "725d709f-ef64-4503-bb19-3d52c6ad764b"
   },
   "outputs": [
    {
     "name": "stdout",
     "output_type": "stream",
     "text": [
      "(2586, 26, 34, 1) (2586, 1)\n",
      "(288, 26, 34, 1) (288, 1)\n"
     ]
    }
   ],
   "source": [
    "# Use a dataset that has already been created.\n",
    "x_train = np.load('Data/x_train.npy').astype(np.float32)\n",
    "y_train = np.load('Data/y_train.npy').astype(np.float32)\n",
    "x_val = np.load('Data/x_val.npy').astype(np.float32)\n",
    "y_val = np.load('Data/y_val.npy').astype(np.float32)\n",
    "\n",
    "print(x_train.shape, y_train.shape)\n",
    "print(x_val.shape, y_val.shape)"
   ]
  },
  {
   "cell_type": "markdown",
   "metadata": {
    "colab_type": "text",
    "id": "vmyKDSdBJR6C"
   },
   "source": [
    "### Preview"
   ]
  },
  {
   "cell_type": "code",
   "execution_count": 7,
   "metadata": {
    "colab": {
     "base_uri": "https://localhost:8080/",
     "height": 299
    },
    "colab_type": "code",
    "id": "r5WzbTBDHukW",
    "outputId": "e0f9ab93-0e68-457a-d413-de78fa4e33e4"
   },
   "outputs": [
    {
     "data": {
      "text/plain": [
       "<matplotlib.image.AxesImage at 0x13911f250>"
      ]
     },
     "execution_count": 7,
     "metadata": {},
     "output_type": "execute_result"
    },
    {
     "data": {
      "image/png": "[encoded data removed]",
      "text/plain": [
       "<Figure size 432x288 with 2 Axes>"
      ]
     },
     "metadata": {},
     "output_type": "display_data"
    }
   ],
   "source": [
    "plt.subplot(3, 1, 1)\n",
    "plt.title(str(y_train[0]))\n",
    "plt.imshow(x_train[0].reshape((26, 34)), cmap='gray')\n",
    "plt.subplot(3, 1, 3)\n",
    "plt.title(str(y_val[4]))\n",
    "plt.imshow(x_val[4].reshape((26, 34)), cmap='gray')"
   ]
  },
  {
   "cell_type": "markdown",
   "metadata": {
    "colab_type": "text",
    "id": "pYitl39TJ1bL"
   },
   "source": [
    "### Data Augmentation"
   ]
  },
  {
   "cell_type": "code",
   "execution_count": 8,
   "metadata": {
    "colab": {},
    "colab_type": "code",
    "id": "P9o6qly2JQ79"
   },
   "outputs": [],
   "source": [
    "train_datagen = ImageDataGenerator(\n",
    "    rescale=1./255, # 0~255사이의 이미지를 0~1사이로 바꿈.\n",
    "    rotation_range=10, # 이미지를 +-10도 회전.\n",
    "    width_shift_range=0.2, # 가로 크기 변형.\n",
    "    height_shift_range=0.2, # 세로 크기 변형.\n",
    "    shear_range=0.2 # 이미지를 비틈.\n",
    ")\n",
    "\n",
    "val_datagen = ImageDataGenerator(rescale=1./255)\n",
    "\n",
    "train_generator = train_datagen.flow(\n",
    "    x=x_train, y=y_train,\n",
    "    batch_size=32,\n",
    "    shuffle=True\n",
    ")\n",
    "\n",
    "val_generator = val_datagen.flow(\n",
    "    x=x_val, y=y_val,\n",
    "    batch_size=32,\n",
    "    shuffle=False\n",
    ")"
   ]
  },
  {
   "cell_type": "markdown",
   "metadata": {
    "colab_type": "text",
    "id": "ONkXn5OkL503"
   },
   "source": [
    "### Model"
   ]
  },
  {
   "cell_type": "code",
   "execution_count": 9,
   "metadata": {
    "colab": {
     "base_uri": "https://localhost:8080/",
     "height": 863
    },
    "colab_type": "code",
    "id": "jgKeUyUCLwxz",
    "outputId": "ce724bb3-4e26-483f-c359-9a24f355c2d8"
   },
   "outputs": [
    {
     "name": "stdout",
     "output_type": "stream",
     "text": [
      "WARNING:tensorflow:From /Library/Frameworks/Python.framework/Versions/3.7/lib/python3.7/site-packages/keras/backend/tensorflow_backend.py:4070: The name tf.nn.max_pool is deprecated. Please use tf.nn.max_pool2d instead.\n",
      "\n",
      "WARNING:tensorflow:From /Library/Frameworks/Python.framework/Versions/3.7/lib/python3.7/site-packages/tensorflow/python/ops/nn_impl.py:180: add_dispatch_support.<locals>.wrapper (from tensorflow.python.ops.array_ops) is deprecated and will be removed in a future version.\n",
      "Instructions for updating:\n",
      "Use tf.where in 2.0, which has the same broadcast rule as np.where\n",
      "Model: \"model_1\"\n",
      "_________________________________________________________________\n",
      "Layer (type)                 Output Shape              Param #   \n",
      "=================================================================\n",
      "input_1 (InputLayer)         (None, 26, 34, 1)         0         \n",
      "_________________________________________________________________\n",
      "conv2d_1 (Conv2D)            (None, 26, 34, 32)        320       \n",
      "_________________________________________________________________\n",
      "max_pooling2d_1 (MaxPooling2 (None, 13, 17, 32)        0         \n",
      "_________________________________________________________________\n",
      "conv2d_2 (Conv2D)            (None, 13, 17, 64)        18496     \n",
      "_________________________________________________________________\n",
      "max_pooling2d_2 (MaxPooling2 (None, 6, 8, 64)          0         \n",
      "_________________________________________________________________\n",
      "conv2d_3 (Conv2D)            (None, 6, 8, 128)         73856     \n",
      "_________________________________________________________________\n",
      "max_pooling2d_3 (MaxPooling2 (None, 3, 4, 128)         0         \n",
      "_________________________________________________________________\n",
      "flatten_1 (Flatten)          (None, 1536)              0         \n",
      "_________________________________________________________________\n",
      "dense_1 (Dense)              (None, 512)               786944    \n",
      "_________________________________________________________________\n",
      "activation_1 (Activation)    (None, 512)               0         \n",
      "_________________________________________________________________\n",
      "dense_2 (Dense)              (None, 1)                 513       \n",
      "_________________________________________________________________\n",
      "activation_2 (Activation)    (None, 1)                 0         \n",
      "=================================================================\n",
      "Total params: 880,129\n",
      "Trainable params: 880,129\n",
      "Non-trainable params: 0\n",
      "_________________________________________________________________\n"
     ]
    }
   ],
   "source": [
    "inputs = Input(shape=(26, 34, 1)) # 세로 26, 가로 34인 gray-scale 이미지를 input으로 사용.\n",
    "\n",
    "# 커널 수만 32, 64, 128 순으로 3번 변경 진행.\n",
    "net = Conv2D(32, kernel_size=3, strides=1, padding='same', activation='relu')(inputs)\n",
    "net = MaxPooling2D(pool_size=2)(net) # 차원축소를 위해 Maxpooling2D 사용.\n",
    "\n",
    "net = Conv2D(64, kernel_size=3, strides=1, padding='same', activation='relu')(net)\n",
    "net = MaxPooling2D(pool_size=2)(net)\n",
    "\n",
    "net = Conv2D(128, kernel_size=3, strides=1, padding='same', activation='relu')(net)\n",
    "net = MaxPooling2D(pool_size=2)(net)\n",
    "\n",
    "net = Flatten()(net) # convolution layer를 1차원으로 길게 펼침.\n",
    "\n",
    "net = Dense(512)(net) # Dense layer로 512개의 Fully connected layer를 연결.\n",
    "net = Activation('relu')(net)\n",
    "net = Dense(1)(net) # 0~1사이의 값으로 출력하기 위해 필요.\n",
    "outputs = Activation('sigmoid')(net) # sigmoid 함수로 0~1사의 값을 가지도록 함.\n",
    "\n",
    "model = Model(inputs=inputs, outputs=outputs)\n",
    "\n",
    "model.compile(optimizer='adam', loss='binary_crossentropy', metrics=['acc'])\n",
    "# adam optimizer를 사용하고, 0, 1을 판단하는 것이기에 loss는 binary_crossentropy를 사용.\n",
    "\n",
    "model.summary()"
   ]
  },
  {
   "cell_type": "code",
   "execution_count": 10,
   "metadata": {
    "colab": {
     "base_uri": "https://localhost:8080/",
     "height": 1000
    },
    "colab_type": "code",
    "id": "pAUQ-KMhNGJy",
    "outputId": "258c9a1a-5e6b-4e54-d96f-6bb9c0041ff8"
   },
   "outputs": [
    {
     "name": "stdout",
     "output_type": "stream",
     "text": [
      "WARNING:tensorflow:From /Library/Frameworks/Python.framework/Versions/3.7/lib/python3.7/site-packages/keras/backend/tensorflow_backend.py:422: The name tf.global_variables is deprecated. Please use tf.compat.v1.global_variables instead.\n",
      "\n",
      "Epoch 1/50\n",
      "81/81 [==============================] - 3s 40ms/step - loss: 0.4802 - acc: 0.7753 - val_loss: 0.3569 - val_acc: 0.8681\n",
      "\n",
      "Epoch 00001: val_acc improved from -inf to 0.86806, saving model to Model/2020_03_19_15_51_42.h5\n",
      "Epoch 2/50\n",
      "81/81 [==============================] - 3s 36ms/step - loss: 0.2658 - acc: 0.8921 - val_loss: 0.1458 - val_acc: 0.9618\n",
      "\n",
      "Epoch 00002: val_acc improved from 0.86806 to 0.96181, saving model to Model/2020_03_19_15_51_42.h5\n",
      "Epoch 3/50\n",
      "81/81 [==============================] - 3s 37ms/step - loss: 0.1678 - acc: 0.9374 - val_loss: 0.1250 - val_acc: 0.9688\n",
      "\n",
      "Epoch 00003: val_acc improved from 0.96181 to 0.96875, saving model to Model/2020_03_19_15_51_42.h5\n",
      "Epoch 4/50\n",
      "81/81 [==============================] - 3s 39ms/step - loss: 0.1180 - acc: 0.9590 - val_loss: 0.2121 - val_acc: 0.9618\n",
      "\n",
      "Epoch 00004: val_acc did not improve from 0.96875\n",
      "Epoch 5/50\n",
      "81/81 [==============================] - 3s 39ms/step - loss: 0.1178 - acc: 0.9582 - val_loss: 0.0667 - val_acc: 0.9826\n",
      "\n",
      "Epoch 00005: val_acc improved from 0.96875 to 0.98264, saving model to Model/2020_03_19_15_51_42.h5\n",
      "Epoch 6/50\n",
      "81/81 [==============================] - 3s 40ms/step - loss: 0.0956 - acc: 0.9683 - val_loss: 0.0693 - val_acc: 0.9826\n",
      "\n",
      "Epoch 00006: val_acc did not improve from 0.98264\n",
      "Epoch 7/50\n",
      "81/81 [==============================] - 3s 38ms/step - loss: 0.0730 - acc: 0.9776 - val_loss: 0.0939 - val_acc: 0.9826\n",
      "\n",
      "Epoch 00007: val_acc did not improve from 0.98264\n",
      "Epoch 8/50\n",
      "81/81 [==============================] - 3s 37ms/step - loss: 0.0677 - acc: 0.9768 - val_loss: 0.0442 - val_acc: 0.9896\n",
      "\n",
      "Epoch 00008: val_acc improved from 0.98264 to 0.98958, saving model to Model/2020_03_19_15_51_42.h5\n",
      "Epoch 9/50\n",
      "81/81 [==============================] - 3s 40ms/step - loss: 0.0689 - acc: 0.9795 - val_loss: 0.0380 - val_acc: 0.9757\n",
      "\n",
      "Epoch 00009: val_acc did not improve from 0.98958\n",
      "Epoch 10/50\n",
      "81/81 [==============================] - 3s 38ms/step - loss: 0.0769 - acc: 0.9760 - val_loss: 0.0608 - val_acc: 0.9826\n",
      "\n",
      "Epoch 00010: val_acc did not improve from 0.98958\n",
      "Epoch 11/50\n",
      "81/81 [==============================] - 3s 40ms/step - loss: 0.0626 - acc: 0.9791 - val_loss: 0.0206 - val_acc: 0.9896\n",
      "\n",
      "Epoch 00011: val_acc did not improve from 0.98958\n",
      "Epoch 12/50\n",
      "81/81 [==============================] - 3s 38ms/step - loss: 0.0527 - acc: 0.9830 - val_loss: 0.0263 - val_acc: 0.9861\n",
      "\n",
      "Epoch 00012: val_acc did not improve from 0.98958\n",
      "Epoch 13/50\n",
      "81/81 [==============================] - 3s 37ms/step - loss: 0.0510 - acc: 0.9838 - val_loss: 0.0181 - val_acc: 0.9896\n",
      "\n",
      "Epoch 00013: val_acc did not improve from 0.98958\n",
      "Epoch 14/50\n",
      "81/81 [==============================] - 3s 38ms/step - loss: 0.0411 - acc: 0.9884 - val_loss: 0.0357 - val_acc: 0.9931\n",
      "\n",
      "Epoch 00014: val_acc improved from 0.98958 to 0.99306, saving model to Model/2020_03_19_15_51_42.h5\n",
      "Epoch 15/50\n",
      "81/81 [==============================] - 3s 40ms/step - loss: 0.0476 - acc: 0.9869 - val_loss: 0.0400 - val_acc: 0.9861\n",
      "\n",
      "Epoch 00015: val_acc did not improve from 0.99306\n",
      "Epoch 16/50\n",
      "81/81 [==============================] - 3s 42ms/step - loss: 0.0280 - acc: 0.9907 - val_loss: 0.0317 - val_acc: 0.9965\n",
      "\n",
      "Epoch 00016: val_acc improved from 0.99306 to 0.99653, saving model to Model/2020_03_19_15_51_42.h5\n",
      "Epoch 17/50\n",
      "81/81 [==============================] - 4s 44ms/step - loss: 0.0486 - acc: 0.9834 - val_loss: 0.0221 - val_acc: 0.9931\n",
      "\n",
      "Epoch 00017: val_acc did not improve from 0.99653\n",
      "Epoch 18/50\n",
      "81/81 [==============================] - 3s 40ms/step - loss: 0.0365 - acc: 0.9903 - val_loss: 0.0156 - val_acc: 0.9931\n",
      "\n",
      "Epoch 00018: val_acc did not improve from 0.99653\n",
      "Epoch 19/50\n",
      "81/81 [==============================] - 3s 39ms/step - loss: 0.0450 - acc: 0.9876 - val_loss: 0.0260 - val_acc: 0.9931\n",
      "\n",
      "Epoch 00019: val_acc did not improve from 0.99653\n",
      "Epoch 20/50\n",
      "81/81 [==============================] - 3s 41ms/step - loss: 0.0244 - acc: 0.9938 - val_loss: 0.0157 - val_acc: 0.9931\n",
      "\n",
      "Epoch 00020: val_acc did not improve from 0.99653\n",
      "Epoch 21/50\n",
      "81/81 [==============================] - 4s 45ms/step - loss: 0.0292 - acc: 0.9903 - val_loss: 0.0318 - val_acc: 0.9861\n",
      "\n",
      "Epoch 00021: val_acc did not improve from 0.99653\n",
      "Epoch 22/50\n",
      "81/81 [==============================] - 4s 44ms/step - loss: 0.0357 - acc: 0.9884 - val_loss: 0.0158 - val_acc: 0.9931\n",
      "\n",
      "Epoch 00022: val_acc did not improve from 0.99653\n",
      "Epoch 23/50\n",
      "81/81 [==============================] - 3s 38ms/step - loss: 0.0221 - acc: 0.9934 - val_loss: 0.0104 - val_acc: 1.0000\n",
      "\n",
      "Epoch 00023: val_acc improved from 0.99653 to 1.00000, saving model to Model/2020_03_19_15_51_42.h5\n",
      "Epoch 24/50\n",
      "81/81 [==============================] - 3s 39ms/step - loss: 0.0199 - acc: 0.9930 - val_loss: 0.0095 - val_acc: 0.9965\n",
      "\n",
      "Epoch 00024: val_acc did not improve from 1.00000\n",
      "Epoch 25/50\n",
      "81/81 [==============================] - 3s 39ms/step - loss: 0.0218 - acc: 0.9915 - val_loss: 0.0146 - val_acc: 0.9757\n",
      "\n",
      "Epoch 00025: val_acc did not improve from 1.00000\n",
      "Epoch 26/50\n",
      "81/81 [==============================] - 3s 42ms/step - loss: 0.0316 - acc: 0.9903 - val_loss: 0.0176 - val_acc: 0.9931\n",
      "\n",
      "Epoch 00026: val_acc did not improve from 1.00000\n",
      "Epoch 27/50\n",
      "81/81 [==============================] - 3s 39ms/step - loss: 0.0169 - acc: 0.9930 - val_loss: 0.0293 - val_acc: 0.9896\n",
      "\n",
      "Epoch 00027: val_acc did not improve from 1.00000\n",
      "Epoch 28/50\n",
      "81/81 [==============================] - 3s 41ms/step - loss: 0.0233 - acc: 0.9938 - val_loss: 0.0111 - val_acc: 1.0000\n",
      "\n",
      "Epoch 00028: val_acc did not improve from 1.00000\n",
      "Epoch 29/50\n",
      "81/81 [==============================] - 4s 49ms/step - loss: 0.0150 - acc: 0.9954 - val_loss: 0.0420 - val_acc: 0.9931\n",
      "\n",
      "Epoch 00029: val_acc did not improve from 1.00000\n",
      "Epoch 30/50\n",
      "81/81 [==============================] - 3s 37ms/step - loss: 0.0285 - acc: 0.9911 - val_loss: 0.0149 - val_acc: 0.9861\n",
      "\n",
      "Epoch 00030: val_acc did not improve from 1.00000\n",
      "Epoch 31/50\n",
      "81/81 [==============================] - 3s 36ms/step - loss: 0.0243 - acc: 0.9915 - val_loss: 0.0169 - val_acc: 0.9861\n",
      "\n",
      "Epoch 00031: val_acc did not improve from 1.00000\n",
      "Epoch 32/50\n",
      "81/81 [==============================] - 3s 36ms/step - loss: 0.0207 - acc: 0.9915 - val_loss: 0.0067 - val_acc: 1.0000\n",
      "\n",
      "Epoch 00032: val_acc did not improve from 1.00000\n",
      "Epoch 33/50\n",
      "81/81 [==============================] - 3s 38ms/step - loss: 0.0189 - acc: 0.9957 - val_loss: 0.0049 - val_acc: 0.9965\n",
      "\n",
      "Epoch 00033: val_acc did not improve from 1.00000\n",
      "\n",
      "Epoch 00033: ReduceLROnPlateau reducing learning rate to 0.00020000000949949026.\n",
      "Epoch 34/50\n",
      "81/81 [==============================] - 3s 38ms/step - loss: 0.0137 - acc: 0.9954 - val_loss: 0.0027 - val_acc: 1.0000\n",
      "\n",
      "Epoch 00034: val_acc did not improve from 1.00000\n",
      "Epoch 35/50\n",
      "81/81 [==============================] - 3s 38ms/step - loss: 0.0088 - acc: 0.9969 - val_loss: 0.0026 - val_acc: 1.0000\n",
      "\n",
      "Epoch 00035: val_acc did not improve from 1.00000\n",
      "Epoch 36/50\n",
      "81/81 [==============================] - 3s 38ms/step - loss: 0.0078 - acc: 0.9969 - val_loss: 0.0017 - val_acc: 1.0000\n",
      "\n",
      "Epoch 00036: val_acc did not improve from 1.00000\n",
      "Epoch 37/50\n",
      "81/81 [==============================] - 3s 38ms/step - loss: 0.0088 - acc: 0.9973 - val_loss: 0.0032 - val_acc: 1.0000\n",
      "\n",
      "Epoch 00037: val_acc did not improve from 1.00000\n",
      "Epoch 38/50\n",
      "81/81 [==============================] - 3s 37ms/step - loss: 0.0097 - acc: 0.9977 - val_loss: 0.0035 - val_acc: 1.0000\n",
      "\n",
      "Epoch 00038: val_acc did not improve from 1.00000\n",
      "Epoch 39/50\n",
      "81/81 [==============================] - 3s 38ms/step - loss: 0.0055 - acc: 0.9981 - val_loss: 0.0017 - val_acc: 1.0000\n",
      "\n",
      "Epoch 00039: val_acc did not improve from 1.00000\n",
      "Epoch 40/50\n",
      "81/81 [==============================] - 3s 37ms/step - loss: 0.0046 - acc: 0.9992 - val_loss: 0.0013 - val_acc: 1.0000\n",
      "\n",
      "Epoch 00040: val_acc did not improve from 1.00000\n",
      "Epoch 41/50\n",
      "81/81 [==============================] - 3s 38ms/step - loss: 0.0038 - acc: 0.9992 - val_loss: 0.0018 - val_acc: 1.0000\n",
      "\n",
      "Epoch 00041: val_acc did not improve from 1.00000\n",
      "Epoch 42/50\n"
     ]
    },
    {
     "name": "stdout",
     "output_type": "stream",
     "text": [
      "81/81 [==============================] - 3s 38ms/step - loss: 0.0041 - acc: 0.9988 - val_loss: 0.0012 - val_acc: 1.0000\n",
      "\n",
      "Epoch 00042: val_acc did not improve from 1.00000\n",
      "Epoch 43/50\n",
      "81/81 [==============================] - 4s 49ms/step - loss: 0.0046 - acc: 0.9985 - val_loss: 8.8801e-04 - val_acc: 1.0000\n",
      "\n",
      "Epoch 00043: val_acc did not improve from 1.00000\n",
      "\n",
      "Epoch 00043: ReduceLROnPlateau reducing learning rate to 4.0000001899898055e-05.\n",
      "Epoch 44/50\n",
      "81/81 [==============================] - 4s 47ms/step - loss: 0.0040 - acc: 0.9985 - val_loss: 9.6113e-04 - val_acc: 1.0000\n",
      "\n",
      "Epoch 00044: val_acc did not improve from 1.00000\n",
      "Epoch 45/50\n",
      "81/81 [==============================] - 4s 47ms/step - loss: 0.0042 - acc: 0.9985 - val_loss: 7.2060e-04 - val_acc: 1.0000\n",
      "\n",
      "Epoch 00045: val_acc did not improve from 1.00000\n",
      "Epoch 46/50\n",
      "81/81 [==============================] - 4s 44ms/step - loss: 0.0041 - acc: 0.9992 - val_loss: 9.4295e-04 - val_acc: 1.0000\n",
      "\n",
      "Epoch 00046: val_acc did not improve from 1.00000\n",
      "Epoch 47/50\n",
      "81/81 [==============================] - 4s 44ms/step - loss: 0.0025 - acc: 0.9996 - val_loss: 9.0341e-04 - val_acc: 1.0000\n",
      "\n",
      "Epoch 00047: val_acc did not improve from 1.00000\n",
      "Epoch 48/50\n",
      "81/81 [==============================] - 4s 43ms/step - loss: 0.0029 - acc: 0.9992 - val_loss: 8.9647e-04 - val_acc: 1.0000\n",
      "\n",
      "Epoch 00048: val_acc did not improve from 1.00000\n",
      "Epoch 49/50\n",
      "81/81 [==============================] - 4s 43ms/step - loss: 0.0030 - acc: 0.9992 - val_loss: 8.2808e-04 - val_acc: 1.0000\n",
      "\n",
      "Epoch 00049: val_acc did not improve from 1.00000\n",
      "Epoch 50/50\n",
      "81/81 [==============================] - 3s 43ms/step - loss: 0.0044 - acc: 0.9985 - val_loss: 5.3766e-04 - val_acc: 1.0000\n",
      "\n",
      "Epoch 00050: val_acc did not improve from 1.00000\n"
     ]
    },
    {
     "data": {
      "text/plain": [
       "<keras.callbacks.callbacks.History at 0x139966e50>"
      ]
     },
     "execution_count": 10,
     "metadata": {},
     "output_type": "execute_result"
    }
   ],
   "source": [
    "start_time = datetime.datetime.now().strftime('%Y_%m_%d_%H_%M_%S')\n",
    "\n",
    "model.fit_generator(\n",
    "    train_generator, epochs=50, validation_data=val_generator,\n",
    "    callbacks=[\n",
    "        ModelCheckpoint('Model/%s.h5' % (start_time), monitor='val_acc', save_best_only=True, mode='max', verbose=1), # 모델이 좋을 경우, 저장.\n",
    "        ReduceLROnPlateau(monitor='val_acc',factor=0.2, patience=10, verbose=1, mode='auto', min_lr=1e-05) # 학습이 잘 되지 않을 경우, learning_rate를 줄이도록 설정.\n",
    "    ]\n",
    ")\n",
    "# generator로 데이터를 불러온 경우에는 fit_generator로 학습시켜주는 것이 좋음."
   ]
  },
  {
   "cell_type": "markdown",
   "metadata": {
    "colab_type": "text",
    "id": "SoLe4RYuRJHU"
   },
   "source": [
    "### Confusion Matrix"
   ]
  },
  {
   "cell_type": "code",
   "execution_count": 11,
   "metadata": {
    "colab": {},
    "colab_type": "code",
    "id": "GHvuCzHnPK7H"
   },
   "outputs": [],
   "source": [
    "from sklearn.metrics import accuracy_score, confusion_matrix\n",
    "import seaborn as sns"
   ]
  },
  {
   "cell_type": "code",
   "execution_count": 12,
   "metadata": {
    "colab": {
     "base_uri": "https://localhost:8080/",
     "height": 301
    },
    "colab_type": "code",
    "id": "5PLDASF6RUlB",
    "outputId": "5ceb9b4c-1185-40aa-b74f-d4a1529b7d1a"
   },
   "outputs": [
    {
     "name": "stdout",
     "output_type": "stream",
     "text": [
      "test acc: 1.0\n"
     ]
    },
    {
     "data": {
      "text/plain": [
       "<matplotlib.axes._subplots.AxesSubplot at 0x13ab96d10>"
      ]
     },
     "execution_count": 12,
     "metadata": {},
     "output_type": "execute_result"
    },
    {
     "data": {
      "image/png": "[encoded data removed]",
      "text/plain": [
       "<Figure size 432x288 with 2 Axes>"
      ]
     },
     "metadata": {},
     "output_type": "display_data"
    }
   ],
   "source": [
    "model = load_model('Model/%s.h5' % (start_time)) # keras 모델을 로드.\n",
    "\n",
    "y_pred = model.predict(x_val/255.) # model.predict()_모델을 통해 데이터를 예측. 0~1사이로 바꾸었기 때문에 /255.\n",
    "y_pred_logical = (y_pred > 0.5).astype(np.int) \n",
    "# y_pred가 0.5보다 크면 눈을 뜬 이미지로 인식, 작으면 눈을 감은 이미지로 인식하도록. True면 눈을 뜬 것, False면 눈을 감은 것. 그리고 이걸 np.int를 통해 0과 1로 변환.(0은 감은 것, 1이면 눈을 뜬 것.)\n",
    "\n",
    "print('test acc: %s' % accuracy_score(y_val, y_pred_logical)) # accuracy_score()_테스트 결과 정확도를 계산.\n",
    "cm = confusion_matrix(y_val, y_pred_logical)\n",
    "sns.heatmap(cm, annot=True)"
   ]
  },
  {
   "cell_type": "markdown",
   "metadata": {
    "colab_type": "text",
    "id": "ZwnlbIdvUxh_"
   },
   "source": [
    "# Test"
   ]
  },
  {
   "cell_type": "code",
   "execution_count": 14,
   "metadata": {
    "colab": {},
    "colab_type": "code",
    "id": "91LIr8UlR1nQ"
   },
   "outputs": [],
   "source": [
    "import cv2, dlib\n",
    "import numpy as np\n",
    "from imutils import face_utils\n",
    "from keras.models import load_model"
   ]
  },
  {
   "cell_type": "code",
   "execution_count": 15,
   "metadata": {
    "colab": {},
    "colab_type": "code",
    "id": "Cez1DKJQVDo4"
   },
   "outputs": [],
   "source": [
    "IMG_SIZE = (34, 26)"
   ]
  },
  {
   "cell_type": "code",
   "execution_count": 16,
   "metadata": {
    "colab": {
     "base_uri": "https://localhost:8080/",
     "height": 593
    },
    "colab_type": "code",
    "id": "ievHIPBaVGU2",
    "outputId": "0f863c32-45e9-4326-aa33-05a0ed21ba7d"
   },
   "outputs": [
    {
     "name": "stdout",
     "output_type": "stream",
     "text": [
      "Model: \"model_1\"\n",
      "_________________________________________________________________\n",
      "Layer (type)                 Output Shape              Param #   \n",
      "=================================================================\n",
      "input_1 (InputLayer)         (None, 26, 34, 1)         0         \n",
      "_________________________________________________________________\n",
      "conv2d_1 (Conv2D)            (None, 26, 34, 32)        320       \n",
      "_________________________________________________________________\n",
      "max_pooling2d_1 (MaxPooling2 (None, 13, 17, 32)        0         \n",
      "_________________________________________________________________\n",
      "conv2d_2 (Conv2D)            (None, 13, 17, 64)        18496     \n",
      "_________________________________________________________________\n",
      "max_pooling2d_2 (MaxPooling2 (None, 6, 8, 64)          0         \n",
      "_________________________________________________________________\n",
      "conv2d_3 (Conv2D)            (None, 6, 8, 128)         73856     \n",
      "_________________________________________________________________\n",
      "max_pooling2d_3 (MaxPooling2 (None, 3, 4, 128)         0         \n",
      "_________________________________________________________________\n",
      "flatten_1 (Flatten)          (None, 1536)              0         \n",
      "_________________________________________________________________\n",
      "dense_1 (Dense)              (None, 512)               786944    \n",
      "_________________________________________________________________\n",
      "activation_1 (Activation)    (None, 512)               0         \n",
      "_________________________________________________________________\n",
      "dense_2 (Dense)              (None, 1)                 513       \n",
      "_________________________________________________________________\n",
      "activation_2 (Activation)    (None, 1)                 0         \n",
      "=================================================================\n",
      "Total params: 880,129\n",
      "Trainable params: 880,129\n",
      "Non-trainable params: 0\n",
      "_________________________________________________________________\n"
     ]
    }
   ],
   "source": [
    "detector = dlib.get_frontal_face_detector()\n",
    "predictor = dlib.shape_predictor('Data/shape_predictor_68_face_landmarks.dat')\n",
    "\n",
    "model = load_model('Model/2020_03_19_15_51_42.h5')\n",
    "model.summary()"
   ]
  },
  {
   "cell_type": "code",
   "execution_count": 17,
   "metadata": {
    "colab": {},
    "colab_type": "code",
    "id": "zmUXSkfvVmig"
   },
   "outputs": [],
   "source": [
    "def crop_eye(img, eye_points):\n",
    "    x1, y1 = np.amin(eye_points, axis=0)\n",
    "    x2, y2 = np.amax(eye_points, axis=0)\n",
    "    cx, cy = (x1 + x2) / 2, (y1 + y2) / 2\n",
    "\n",
    "    w = (x2 - x1) * 1.2\n",
    "    h = w * IMG_SIZE[1] / IMG_SIZE[0]\n",
    "\n",
    "    margin_x, margin_y = w / 2, h / 2\n",
    "\n",
    "    min_x, min_y = int(cx - margin_x), int(cy - margin_y)\n",
    "    max_x, max_y = int(cx + margin_x), int(cy + margin_y)\n",
    "\n",
    "    eye_rect = np.rint([min_x, min_y, max_x, max_y]).astype(np.int)\n",
    "\n",
    "    eye_img = gray[eye_rect[1]:eye_rect[3], eye_rect[0]:eye_rect[2]]\n",
    "\n",
    "    return eye_img, eye_rect"
   ]
  },
  {
   "cell_type": "code",
   "execution_count": 18,
   "metadata": {
    "colab": {
     "base_uri": "https://localhost:8080/",
     "height": 424
    },
    "colab_type": "code",
    "id": "-Oc-ONOrWmhM",
    "outputId": "7d4d0859-bbec-4def-c7de-96cae5fa5691"
   },
   "outputs": [],
   "source": [
    "cap = cv2.VideoCapture('Data/video.mp4')\n",
    "\n",
    "while cap.isOpened():\n",
    "    ret, img_ori = cap.read()\n",
    "\n",
    "    if not ret:\n",
    "        break\n",
    "\n",
    "    img_ori = cv2.resize(img_ori, dsize=(0, 0), fx=0.5, fy=0.5)\n",
    "\n",
    "    img = img_ori.copy()\n",
    "    gray = cv2.cvtColor(img, cv2.COLOR_BGR2GRAY)\n",
    "\n",
    "    faces = detector(gray)\n",
    "\n",
    "    for face in faces:\n",
    "        shapes = predictor(gray, face)\n",
    "        shapes = face_utils.shape_to_np(shapes)\n",
    "\n",
    "        eye_img_1, eye_rect_1 = crop_eye(gray, eye_points=shapes[36:42])\n",
    "        eye_img_r, eye_rect_r = crop_eye(gray, eye_points=shapes[42:48])\n",
    "\n",
    "        eye_img_1 = cv2.resize(eye_img_1, dsize=IMG_SIZE)\n",
    "        eye_img_r = cv2.resize(eye_img_r, dsize=IMG_SIZE)\n",
    "        eye_img_r = cv2.flip(eye_img_r, flipCode=1)\n",
    "\n",
    "        cv2.imshow('1', eye_img_1)\n",
    "        cv2.imshow('r', eye_img_r)\n",
    "\n",
    "        eye_input_1 = eye_img_1.copy().reshape((1, IMG_SIZE[1], IMG_SIZE[0], 1)).astype(np.float32) / 255.\n",
    "        eye_input_r = eye_img_r.copy().reshape((1, IMG_SIZE[1], IMG_SIZE[0], 1)).astype(np.float32) / 255.\n",
    "\n",
    "        pred_1 = model.predict(eye_input_1)\n",
    "        pred_r = model.predict(eye_input_r)\n",
    "\n",
    "        state_1 = '0 %.1f' if pred_1 > 0.1 else '- %.1f'\n",
    "        state_r = '0 %.1f' if pred_r > 0.1 else '- %.1f'\n",
    "\n",
    "        state_1 = state_1 % pred_1\n",
    "        state_r = state_r % pred_r\n",
    "\n",
    "        cv2.rectangle(img, pt1=tuple(eye_rect_1[0:2]), pt2=tuple(eye_rect_1[2:4]), color=(255, 255, 255), thickness=2)\n",
    "        cv2.rectangle(img, pt1=tuple(eye_rect_r[0:2]), pt2=tuple(eye_rect_r[2:4]), color=(255, 255, 255), thickness=2)\n",
    "\n",
    "        cv2.putText(img, state_1, tuple(eye_rect_1[0:2]), cv2.FONT_HERSHEY_SIMPLEX, 0.7, (255, 255, 255), 2)\n",
    "        cv2.putText(img, state_r, tuple(eye_rect_r[0:2]), cv2.FONT_HERSHEY_SIMPLEX, 0.7, (255, 255, 255), 2)\n",
    "\n",
    "    cv2.imshow('result', img)\n",
    "    if cv2.waitKey(1) == ord('q'):\n",
    "        break"
   ]
  }
 ],
 "metadata": {
  "colab": {
   "collapsed_sections": [],
   "name": "Blink.ipynb",
   "provenance": []
  },
  "kernelspec": {
   "display_name": "Python 3",
   "language": "python",
   "name": "python3"
  },
  "language_info": {
   "codemirror_mode": {
    "name": "ipython",
    "version": 3
   },
   "file_extension": ".py",
   "mimetype": "text/x-python",
   "name": "python",
   "nbconvert_exporter": "python",
   "pygments_lexer": "ipython3",
   "version": "3.7.4"
  }
 },
 "nbformat": 4,
 "nbformat_minor": 1
}
